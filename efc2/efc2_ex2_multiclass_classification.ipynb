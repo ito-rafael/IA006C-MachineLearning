{
 "cells": [
  {
   "cell_type": "code",
   "execution_count": 1,
   "metadata": {
    "jupyter": {
     "outputs_hidden": false
    }
   },
   "outputs": [],
   "source": [
    "#----------------------------\n",
    "# import libraries\n",
    "#----------------------------\n",
    "import numpy as np\n",
    "import pandas as pd\n",
    "from matplotlib import pyplot as plt\n",
    "# scikit-learn\n",
    "from sklearn.preprocessing import StandardScaler\n",
    "from sklearn.preprocessing import OneHotEncoder\n",
    "from sklearn.metrics import confusion_matrix\n",
    "from sklearn.metrics import f1_score\n",
    "from sklearn.metrics import accuracy_score\n",
    "#----------------------------\n",
    "#use fixed point notation\n",
    "np.set_printoptions(suppress=True)"
   ]
  },
  {
   "cell_type": "code",
   "execution_count": 2,
   "metadata": {},
   "outputs": [],
   "source": [
    "def softmax(phi, w):\n",
    "    # exponent matrix --> (phi @ w)\n",
    "    exp_matrix = phi @ w\n",
    "    # terms of exponent matrix --> exp(phi @ w)\n",
    "    numerator = np.exp(exp_matrix)\n",
    "    # sum of terms in exponent matrix --> exp(phi@w0) + ... + exp(phi@wK)\n",
    "    # denominator of softmax function\n",
    "    sum_numerator = np.sum(numerator, axis=1).reshape(-1,1)\n",
    "    # copy sum (Nx1) in (K+1) columns\n",
    "    denominator = np.repeat(sum_numerator, C, axis=1)\n",
    "    # calculate softmax\n",
    "    ŷ = numerator/denominator\n",
    "    return ŷ"
   ]
  },
  {
   "cell_type": "code",
   "execution_count": 3,
   "metadata": {},
   "outputs": [],
   "source": [
    "def counts(y):\n",
    "    max_y = np.argmax(y, axis=1)\n",
    "    classes, size = np.unique(max_y, return_counts=True)\n",
    "    for i in range(len(classes)):\n",
    "        print('label ', classes[i], ': ', size[i], sep='')"
   ]
  },
  {
   "cell_type": "code",
   "execution_count": 4,
   "metadata": {},
   "outputs": [],
   "source": [
    "def max_pooling(y):\n",
    "    # add one because output must go from 1 to 6\n",
    "    y = np.argmax(y, axis=1) + 1\n",
    "    y = y.reshape(-1,1)\n",
    "    y = one_hot_encoder(y)\n",
    "    return y"
   ]
  },
  {
   "cell_type": "code",
   "execution_count": 5,
   "metadata": {},
   "outputs": [],
   "source": [
    "def zero_one_loss(y_true, y_pred):\n",
    "    diff = (y_true - y_pred)\n",
    "    # if class is right, row has only zeros\n",
    "    # if class is wrong, real and predicted colums have values 0.5\n",
    "    half = (diff * diff) / 2\n",
    "    # sum rows\n",
    "    row_sum = np.sum(half, axis=1)\n",
    "    error = np.sum(row_sum)\n",
    "    loss = error / len(y_true)\n",
    "    return loss"
   ]
  },
  {
   "cell_type": "code",
   "execution_count": 6,
   "metadata": {},
   "outputs": [],
   "source": [
    "def iterate(x, y, phi, w, alpha):\n",
    "    # calculate estimated output\n",
    "    ŷ = softmax(phi, w)\n",
    "    # calculare error\n",
    "    loss = zero_one_loss(y, ŷ)\n",
    "    # calculate gradient\n",
    "    gradient = (y - ŷ).T @ phi\n",
    "    # update weights array\n",
    "    w = w + (alpha * gradient.T)\n",
    "    return w, loss"
   ]
  },
  {
   "cell_type": "code",
   "execution_count": 7,
   "metadata": {},
   "outputs": [],
   "source": [
    "def train(x, y, w, alpha=1e-6, tolerance=0.05):\n",
    "    # alpha: step size\n",
    "    # tolerance: stop criteria\n",
    "    #-----------------------------\n",
    "    #w = np.random.rand(K+1, C)                 # create weights matrix\n",
    "    phi = np.insert(X_train, 0, [1], axis=1)   # create phi matrix\n",
    "    #-----------------------------    \n",
    "    # error array initialization\n",
    "    e = []       \n",
    "    #-----------------------------\n",
    "    # run algorithm first time\n",
    "    w, loss = iterate(x, y, phi, w, alpha)\n",
    "    e.append(loss)\n",
    "    #-----------------------------\n",
    "    # iterate until convergence\n",
    "    while (loss > tolerance):\n",
    "        w, loss = iterate(x, y, phi, w, alpha)\n",
    "        e.append(loss)\n",
    "    #-----------------------------        \n",
    "    return w, e"
   ]
  },
  {
   "cell_type": "code",
   "execution_count": null,
   "metadata": {},
   "outputs": [],
   "source": []
  },
  {
   "cell_type": "markdown",
   "metadata": {},
   "source": [
    "Weights array for each class:\n",
    "\n",
    "$ \\displaystyle w_C = \\begin{bmatrix} w_0^{(C)} & w_1^{(C)} & ... & w_K^{(C)} \\end{bmatrix}^T $\n",
    "<br>\n",
    "<br>\n",
    "\n",
    "Weights matrix for all classes:\n",
    "\n",
    "$ \\displaystyle W = \\begin{bmatrix} w_0 & w_1 & ... & w_C \\end{bmatrix} = \\begin{bmatrix} \n",
    "    w_0^{(0)} & w_0^{(1)} &   ...  & w_0^{(C)} \\\\ \n",
    "    w_1^{(0)} & w_1^{(1)} &   ...  & w_1^{(C)} \\\\\n",
    "      \\vdots  &   \\vdots  & \\ddots &   \\vdots  \\\\\n",
    "    w_K^{(0)} & w_K^{(1)} &   ...  & w_K^{(C)} \\\\\n",
    "\\end{bmatrix} $"
   ]
  },
  {
   "cell_type": "code",
   "execution_count": null,
   "metadata": {},
   "outputs": [],
   "source": []
  },
  {
   "cell_type": "markdown",
   "metadata": {},
   "source": [
    "$\\phi$ shape: (N x K+1)\n",
    "\n",
    "$W$ shape: (K+1 x C)\n",
    "\n",
    "$\\phi W$ shape: (N x C) $\\rightarrow$ exponents of terms in softmax"
   ]
  },
  {
   "cell_type": "code",
   "execution_count": null,
   "metadata": {},
   "outputs": [],
   "source": []
  },
  {
   "cell_type": "markdown",
   "metadata": {},
   "source": [
    "$\\nabla J_{CE} = (y - ŷ)^T \\phi $\n",
    "\n",
    "$ \\displaystyle \n",
    "\\nabla J_{CE} = \\begin{bmatrix} \n",
    "    --- w_K^{(0)} --- \\\\ \n",
    "    --- w_K^{(1)} --- \\\\ \n",
    "    ---\\space \\space \\vdots \\space \\space --- \\\\ \n",
    "    --- w_K^{(C)} --- \\\\ \n",
    "\\end{bmatrix}\n",
    "= \n",
    "\\begin{bmatrix} \n",
    "    w_0^{(0)} & w_1^{(0)} &   ...  & w_{K+1}^{(0)} \\\\ \n",
    "    w_0^{(1)} & w_1^{(1)} &   ...  & w_{K+1}^{(1)} \\\\\n",
    "      \\vdots  &   \\vdots  & \\ddots &     \\vdots    \\\\\n",
    "    w_0^{(C)} & w_1^{(C)} &   ...  & w_{K+1}^{(C)} \\\\\n",
    "\\end{bmatrix} $\n",
    "\n",
    "$\\nabla J_{CE} $ shape: (C x K+1)"
   ]
  },
  {
   "cell_type": "code",
   "execution_count": null,
   "metadata": {},
   "outputs": [],
   "source": []
  },
  {
   "cell_type": "code",
   "execution_count": 9,
   "metadata": {},
   "outputs": [],
   "source": [
    "# path to save figures\n",
    "path = 'figures/ex2-multiclass_classification/'\n",
    "# read training data\n",
    "X_train_df = pd.read_fwf('X_train.txt', header=None)\n",
    "y_train_df = pd.read_csv('y_train.txt', header=None)\n",
    "# read test data\n",
    "X_test_df = pd.read_fwf('X_test.txt', header=None)\n",
    "y_test_df = pd.read_csv('y_test.txt', header=None)"
   ]
  },
  {
   "cell_type": "code",
   "execution_count": 10,
   "metadata": {},
   "outputs": [],
   "source": [
    "# convert DataFrame to NumPy array\n",
    "X_train_raw = X_train_df.to_numpy()\n",
    "X_test_raw = X_test_df.to_numpy()\n",
    "y_train_raw = y_train_df.to_numpy()\n",
    "y_test_raw = y_test_df.to_numpy()"
   ]
  },
  {
   "cell_type": "markdown",
   "metadata": {},
   "source": [
    "**output** <br>\n",
    "1 – caminhada <br>\n",
    "2 – subindo escadas <br>\n",
    "3 – descendo escadas <br>\n",
    "4 – sentado <br>\n",
    "5 – em pé <br>\n",
    "6 – deitado <br>\n",
    "<br>\n",
    "**one-hot enconding** <br>\n",
    "[1 0 0 0 0 0]$^T$: walking <br>\n",
    "[0 1 0 0 0 0]$^T$: climbing stairs <br>\n",
    "[0 0 1 0 0 0]$^T$: going down stairs <br>\n",
    "[0 0 0 1 0 0]$^T$: seated <br>\n",
    "[0 0 0 0 1 0]$^T$: standing <br>\n",
    "[0 0 0 0 0 1]$^T$: lying <br>\n"
   ]
  },
  {
   "cell_type": "code",
   "execution_count": 11,
   "metadata": {},
   "outputs": [],
   "source": [
    "enc = OneHotEncoder(categories='auto')\n",
    "enc.fit(y_train_raw)\n",
    "def one_hot_encoder(y):\n",
    "    return enc.transform(y).toarray()\n",
    "def one_hot_decoder(y):\n",
    "    return enc.inverse_transform(y)"
   ]
  },
  {
   "cell_type": "code",
   "execution_count": 12,
   "metadata": {},
   "outputs": [],
   "source": [
    "# data standardization: x' = (x - u) / s\n",
    "scaler = StandardScaler()\n",
    "#----------------------------\n",
    "# join X_train and X_test\n",
    "X_set_raw = np.append(X_train_raw, X_test_raw, axis=0)\n",
    "# perform standardization with x data\n",
    "scaler.fit(X_set_raw)\n",
    "X_set = scaler.transform(X_set_raw)\n",
    "# split X data again in train and test\n",
    "X_train = X_set[:7352,:]\n",
    "X_test = X_set[7352:,:]"
   ]
  },
  {
   "cell_type": "code",
   "execution_count": 13,
   "metadata": {},
   "outputs": [],
   "source": [
    "# one-hot encoding\n",
    "y_train = one_hot_encoder(y_train_df)\n",
    "y_test = one_hot_encoder(y_test_df)"
   ]
  },
  {
   "cell_type": "code",
   "execution_count": null,
   "metadata": {},
   "outputs": [],
   "source": []
  },
  {
   "cell_type": "code",
   "execution_count": 14,
   "metadata": {},
   "outputs": [],
   "source": [
    "#----------------------------\n",
    "# training\n",
    "#----------------------------"
   ]
  },
  {
   "cell_type": "code",
   "execution_count": 79,
   "metadata": {},
   "outputs": [],
   "source": [
    "x = X_train\n",
    "y = y_train\n",
    "# create phi matrix\n",
    "phi = np.insert(X_train, 0, [1], axis=1)\n",
    "#-----------------------------\n",
    "# size of dataset\n",
    "N = X_train.shape[0]\n",
    "# number of features\n",
    "K = X_train.shape[1]\n",
    "# number of classes\n",
    "C = len(enc.categories_[0])"
   ]
  },
  {
   "cell_type": "code",
   "execution_count": 48,
   "metadata": {},
   "outputs": [],
   "source": [
    "# create weights matrix\n",
    "w = np.random.uniform(-1,1, (K+1, C))\n",
    "error = []"
   ]
  },
  {
   "cell_type": "code",
   "execution_count": 80,
   "metadata": {},
   "outputs": [],
   "source": [
    "w, e = train(x, y, w, alpha=1e-6, tolerance=0.02)\n",
    "error += e"
   ]
  },
  {
   "cell_type": "code",
   "execution_count": 97,
   "metadata": {},
   "outputs": [
    {
     "data": {
      "image/png": "[encoded data removed]",
      "text/plain": [
       "<Figure size 432x288 with 1 Axes>"
      ]
     },
     "metadata": {
      "needs_background": "light"
     },
     "output_type": "display_data"
    }
   ],
   "source": [
    "# plots\n",
    "plt.plot(error)\n",
    "plt.xlabel('Epochs')\n",
    "plt.ylabel('zero-one loss')\n",
    "plt.autoscale(axis='x', tight=True)\n",
    "plt.title('Progression of loss while training')\n",
    "plt.grid(True)\n",
    "plt.savefig(path + 'zero_one_loss', dpi=300)\n",
    "plt.show()"
   ]
  },
  {
   "cell_type": "code",
   "execution_count": 96,
   "metadata": {},
   "outputs": [
    {
     "data": {
      "image/png": "[encoded data removed]",
      "text/plain": [
       "<Figure size 432x288 with 1 Axes>"
      ]
     },
     "metadata": {
      "needs_background": "light"
     },
     "output_type": "display_data"
    }
   ],
   "source": [
    "# plots\n",
    "plt.plot(error[0:2000])\n",
    "plt.xlabel('Epochs')\n",
    "plt.ylabel('zero-one loss')\n",
    "plt.autoscale(axis='x', tight=True)\n",
    "plt.title('Progression of loss while training (zoom)')\n",
    "plt.grid(True)\n",
    "plt.savefig(path + 'zero_one_loss_zoom', dpi=300)\n",
    "plt.show()"
   ]
  },
  {
   "cell_type": "code",
   "execution_count": null,
   "metadata": {},
   "outputs": [],
   "source": []
  },
  {
   "cell_type": "code",
   "execution_count": 59,
   "metadata": {},
   "outputs": [],
   "source": [
    "#----------------------------\n",
    "# test set\n",
    "#----------------------------"
   ]
  },
  {
   "cell_type": "code",
   "execution_count": 82,
   "metadata": {},
   "outputs": [],
   "source": [
    "x = X_test\n",
    "y = y_test\n",
    "# create phi matrix\n",
    "phi = np.insert(x, 0, [1], axis=1)\n",
    "ŷ = softmax(phi,w)"
   ]
  },
  {
   "cell_type": "code",
   "execution_count": 94,
   "metadata": {},
   "outputs": [
    {
     "data": {
      "text/plain": [
       "0.0841533763148965"
      ]
     },
     "execution_count": 94,
     "metadata": {},
     "output_type": "execute_result"
    }
   ],
   "source": [
    "zero_one_loss(y, max_pooling(ŷ))"
   ]
  },
  {
   "cell_type": "code",
   "execution_count": 95,
   "metadata": {},
   "outputs": [
    {
     "data": {
      "text/plain": [
       "array([[474,  10,  12,   0,   0,   0],\n",
       "       [ 35, 411,  23,   1,   1,   0],\n",
       "       [  9,  35, 374,   0,   2,   0],\n",
       "       [  0,   0,   0, 425,  63,   3],\n",
       "       [  0,   0,   0,  39, 493,   0],\n",
       "       [  0,   0,   0,   1,  14, 522]])"
      ]
     },
     "execution_count": 95,
     "metadata": {},
     "output_type": "execute_result"
    }
   ],
   "source": [
    "ŷ_dec = one_hot_decoder(max_pooling(ŷ))\n",
    "confusion_matrix(y_test_raw, ŷ_dec)"
   ]
  },
  {
   "cell_type": "code",
   "execution_count": 98,
   "metadata": {},
   "outputs": [
    {
     "data": {
      "text/plain": [
       "array([[-0.14747279,  0.67430682, -0.1465138 , -0.505982  , -0.06237853,\n",
       "        -0.55767155],\n",
       "       [ 0.02805684,  0.03502533,  0.26126258, -0.56659294, -0.13379631,\n",
       "        -0.35074146],\n",
       "       [ 0.24876496,  0.45736688,  0.52081229, -0.08890319,  0.68508322,\n",
       "        -0.18816691],\n",
       "       ...,\n",
       "       [-0.35392128, -0.39242745,  0.44329607, -0.1360067 , -0.24568359,\n",
       "         0.18555675],\n",
       "       [ 0.17562936, -0.48111007,  0.7924318 ,  0.18659277,  0.50976079,\n",
       "        -1.09762546],\n",
       "       [-0.15755635,  0.62457765,  0.54693188,  0.60494751,  0.29378208,\n",
       "         0.13146746]])"
      ]
     },
     "execution_count": 98,
     "metadata": {},
     "output_type": "execute_result"
    }
   ],
   "source": [
    "w"
   ]
  }
 ],
 "metadata": {
  "kernelspec": {
   "display_name": "Python 3",
   "language": "python",
   "name": "python3"
  },
  "language_info": {
   "codemirror_mode": {
    "name": "ipython",
    "version": 3
   },
   "file_extension": ".py",
   "mimetype": "text/x-python",
   "name": "python",
   "nbconvert_exporter": "python",
   "pygments_lexer": "ipython3",
   "version": "3.7.4"
  }
 },
 "nbformat": 4,
 "nbformat_minor": 4
}
