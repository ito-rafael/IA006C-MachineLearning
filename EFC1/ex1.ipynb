{
 "cells": [
  {
   "cell_type": "markdown",
   "metadata": {},
   "source": [
    "import libraries"
   ]
  },
  {
   "cell_type": "code",
   "execution_count": 1,
   "metadata": {},
   "outputs": [],
   "source": [
    "#-----------------------------\n",
    "# import libraries\n",
    "#-----------------------------\n",
    "import numpy as np\n",
    "import pandas as pd\n",
    "from matplotlib import pyplot as plt"
   ]
  },
  {
   "cell_type": "markdown",
   "metadata": {},
   "source": [
    "defining the number of days K used as input and the number of folds F used for cross-validation"
   ]
  },
  {
   "cell_type": "code",
   "execution_count": 2,
   "metadata": {},
   "outputs": [],
   "source": [
    "# hyperparameter\n",
    "# K = number of previous days used as input data\n",
    "K = 10\n",
    "\n",
    "# k-fold\n",
    "# F = number of folds used for cross validation\n",
    "F = 10"
   ]
  },
  {
   "cell_type": "markdown",
   "metadata": {},
   "source": [
    "manipulating the date"
   ]
  },
  {
   "cell_type": "code",
   "execution_count": 3,
   "metadata": {},
   "outputs": [],
   "source": [
    "# read csv file\n",
    "df = pd.read_csv('daily-minimum-temperatures.csv')\n",
    "date = df['Date']\n",
    "temp = df['Temp']\n",
    "size = len(date)"
   ]
  },
  {
   "cell_type": "markdown",
   "metadata": {},
   "source": [
    "plot the data"
   ]
  },
  {
   "cell_type": "code",
   "execution_count": 4,
   "metadata": {},
   "outputs": [
    {
     "data": {
      "image/png": "[encoded data removed]",
      "text/plain": [
       "<Figure size 432x288 with 1 Axes>"
      ]
     },
     "metadata": {
      "needs_background": "light"
     },
     "output_type": "display_data"
    }
   ],
   "source": [
    "df.plot()\n",
    "plt.show()"
   ]
  },
  {
   "cell_type": "code",
   "execution_count": 5,
   "metadata": {},
   "outputs": [],
   "source": [
    "x = size*[0]  # list with arrays: x(K), x(K+1), ... , x(size)\n",
    "y = size*[0]  # list with arrays: y(K), y(K+1), ... , y(size)\n",
    "# note that for x(N), when N < K, data is missing\n",
    "for N in range(K, size):\n",
    "    y[N] = np.array([[temp[N]]])\n",
    "    x[N] = np.array([])\n",
    "    # we want x(N - 1), ... , x(N - K)\n",
    "    for i in range(1, K+1):\n",
    "        # append K previous samples of data in x[N] array\n",
    "        x[N] = np.append(x[N], temp[N-i])\n",
    "    # transform x[N] in a 2D array and transpose it\n",
    "    x[N] = np.array([x[N]]).T"
   ]
  },
  {
   "cell_type": "markdown",
   "metadata": {},
   "source": [
    "test set"
   ]
  },
  {
   "cell_type": "code",
   "execution_count": 6,
   "metadata": {},
   "outputs": [],
   "source": [
    "#-----------------------------\n",
    "# test set\n",
    "#-----------------------------\n",
    "#(df.Date.values == '1990-01-01').argmax()  #pandas\n",
    "index = df.Date.eq('1990-01-01').idxmax()   #numpy\n",
    "x_ts = x[index:size]\n",
    "y_ts = y[index:size]"
   ]
  },
  {
   "cell_type": "markdown",
   "metadata": {},
   "source": [
    "training set (divide in groups)"
   ]
  },
  {
   "cell_type": "code",
   "execution_count": 7,
   "metadata": {},
   "outputs": [],
   "source": [
    "#-----------------------------\n",
    "# training set (divide in groups)\n",
    "#-----------------------------\n",
    "# unlike standard cross-validation methods, successive training sets are supersets of those that come before them\n",
    "samples_size = size - len(x_ts)     # total samples to be divided in k folds\n",
    "fold_size = int(samples_size / F)   # equal size of each fold\n",
    "plus_one = samples_size % F         # number of folds that will receive +1 sample\n",
    "\n",
    "# split training set in groups\n",
    "gx = []  # list with x data arrays: group_1, ... , group_F\n",
    "gy = []  # list with y data arrays: group_1, ... , group_F\n",
    "for i in range(F):\n",
    "    # add 1 sample to first groups if needed\n",
    "    if(plus_one > i):\n",
    "        gx.append(x[i*fold_size : (i*fold_size + fold_size+1)])\n",
    "        gy.append(y[i*fold_size : (i*fold_size + fold_size+1)])\n",
    "    else:\n",
    "        gx.append(x[i*fold_size : (i*fold_size + fold_size)])\n",
    "        gy.append(y[i*fold_size : (i*fold_size + fold_size)])\n",
    "\n",
    "# remove first K data from first group\n",
    "for i in range(K):\n",
    "    gx[0].pop(0)\n",
    "    gy[0].pop(0)"
   ]
  },
  {
   "cell_type": "markdown",
   "metadata": {},
   "source": [
    "joing groups to form folds\n",
    "\n",
    "\n",
    "fx[i] contains the data for the iteration i of the training (for F folds)\n",
    "\n",
    "fx[0] = gx[0]\n",
    " ...\n",
    "fx[F-2] = gx[0] + ... + gx[F-2]\n",
    "\n",
    "\n",
    "\n",
    "fy[i] contains the data for the iteration i of the training (for F folds)\n",
    "\n",
    "fy[0] = gy[0]\n",
    " ...\n",
    "fy[F-2] = gy[0] + ... + gx[F-2]"
   ]
  },
  {
   "cell_type": "code",
   "execution_count": 8,
   "metadata": {},
   "outputs": [],
   "source": [
    "#-----------------------------\n",
    "# folds (joining groups)\n",
    "#-----------------------------\n",
    "fx = [] # list with x data folds: fold_0, ... , fold_F-2\n",
    "fy = [] # list with y data folds: fold_0, ... , fold_F-2\n",
    "\n",
    "groups_x = []\n",
    "groups_y = []\n",
    "# for F folds we have (F - 1) training subsets\n",
    "for i in range(F - 1):\n",
    "    groups_x = groups_x + gx[i]\n",
    "    groups_y = groups_y + gy[i]\n",
    "    fx.append(groups_x)\n",
    "    fy.append(groups_y)"
   ]
  },
  {
   "cell_type": "markdown",
   "metadata": {},
   "source": [
    "validation set\n",
    "\n",
    "vsx[i] contains the data for the iteration i of the validation (for F folds)\n",
    "\n",
    "vsx[0] = gx[1]\n",
    " ...\n",
    "vsx[F-2] = gx[F-1]\n",
    "\n",
    "\n",
    "vsy[i] contains the data for the iteration i of the validation (for F folds)\n",
    "\n",
    "vsy[0] = gy[1]\n",
    " ...\n",
    "vsy[F-2] = gy[F-1]"
   ]
  },
  {
   "cell_type": "code",
   "execution_count": 9,
   "metadata": {},
   "outputs": [],
   "source": [
    "#-----------------------------\n",
    "# validation set\n",
    "#-----------------------------\n",
    "vsx = [] # list with x values of validation fold: fold_F-1\n",
    "vsy = [] # list with y values of validation fold: fold_F-1\n",
    "\n",
    "for i in range(F - 1):\n",
    "    vsx.append(gx[F-1])\n",
    "    vsy.append(gy[F-1])"
   ]
  },
  {
   "cell_type": "markdown",
   "metadata": {},
   "source": [
    "creating phi & Y matrices"
   ]
  },
  {
   "cell_type": "code",
   "execution_count": 10,
   "metadata": {},
   "outputs": [],
   "source": [
    "#-----------------------------\n",
    "# creating phi & Y matrices\n",
    "#-----------------------------\n",
    "phi = (F - 1)*[0]   # initializing phi matrix\n",
    "Y = (F - 1)*[0]     # initializing Y matrix\n",
    "# form phi & Y matrices for each fold\n",
    "for i in range(F - 1):\n",
    "    # create first line of the matrices\n",
    "    phi[i] = np.array( fx[i][0].T )\n",
    "    Y[i] = np.array( fy[i][0] )\n",
    "    # complete the remaining lines of matrices\n",
    "    for j in range( len(fx[i]) - 1):\n",
    "        phi[i] = np.append(phi[i], fx[i][j+1].T, axis=0)\n",
    "        Y[i] = np.append(Y[i], fy[i][j+1], axis=0)\n",
    "    # insert fixed input 1 related w0 coeficient (bias)\n",
    "    phi[i] = np.insert(phi[i], 0, [1], axis=1)"
   ]
  },
  {
   "cell_type": "markdown",
   "metadata": {},
   "source": [
    "calculating weights array\n",
    "\n",
    "w[0]: weights when training set is composed of gx[1] only\n",
    "w[1]: weights when training set is composed of gx[1], gx[2]\n",
    " ...\n",
    "w[F-2]: weights when training set is composed of gx[1], ... , gx[F-2]"
   ]
  },
  {
   "cell_type": "code",
   "execution_count": 11,
   "metadata": {},
   "outputs": [],
   "source": [
    "#-----------------------------\n",
    "# calculating weights array\n",
    "#-----------------------------\n",
    "# initializing w array\n",
    "w = (F - 1)*[0]\n",
    "# w = inv(phi.T * phi) * phi.T * Y\n",
    "for i in range(F - 1):\n",
    "    w[i] = np.linalg.inv((phi[i].T @ phi[i])) @ phi[i].T @ Y[i]"
   ]
  },
  {
   "cell_type": "markdown",
   "metadata": {},
   "source": [
    "calculating ŷ and e (error)"
   ]
  },
  {
   "cell_type": "code",
   "execution_count": 12,
   "metadata": {},
   "outputs": [],
   "source": [
    "#-----------------------------\n",
    "# calculating ŷ and e (error)\n",
    "#-----------------------------\n"
   ]
  },
  {
   "cell_type": "code",
   "execution_count": null,
   "metadata": {},
   "outputs": [],
   "source": []
  }
 ],
 "metadata": {
  "kernelspec": {
   "display_name": "Python 3",
   "language": "python",
   "name": "python3"
  },
  "language_info": {
   "codemirror_mode": {
    "name": "ipython",
    "version": 3
   },
   "file_extension": ".py",
   "mimetype": "text/x-python",
   "name": "python",
   "nbconvert_exporter": "python",
   "pygments_lexer": "ipython3",
   "version": "3.7.4"
  }
 },
 "nbformat": 4,
 "nbformat_minor": 2
}
