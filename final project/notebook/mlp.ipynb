{
 "cells": [
  {
   "cell_type": "code",
   "execution_count": 288,
   "metadata": {},
   "outputs": [],
   "source": [
    "import os\n",
    "import pandas\n",
    "import numpy as np\n",
    "import seaborn as sb\n",
    "%matplotlib inline\n",
    "import matplotlib.pyplot as plt"
   ]
  },
  {
   "cell_type": "markdown",
   "metadata": {},
   "source": [
    "## Pré-processamento\n",
    "Etapa de seleção das colunas que carregam informações relevantes ao treinamento.\n",
    "\n",
    "A fim de diminuir a dimensão do dataset, diversos filtros serão aplicados."
   ]
  },
  {
   "cell_type": "code",
   "execution_count": 289,
   "metadata": {},
   "outputs": [],
   "source": [
    "input_cols = [\n",
    "    'SG_UF_RESIDENCIA', 'NU_IDADE', 'TP_SEXO',\n",
    "        'TP_COR_RACA', 'TP_NACIONALIDADE', 'SG_UF_NASCIMENTO', \n",
    "        'TP_ST_CONCLUSAO', 'TP_ANO_CONCLUIU', 'TP_ESCOLA', 'TP_ENSINO', 'IN_TREINEIRO',\n",
    "    'IN_BAIXA_VISAO', 'IN_CEGUEIRA', 'IN_SURDEZ', 'IN_DEFICIENCIA_AUDITIVA', 'IN_SURDO_CEGUEIRA',\n",
    "    'IN_DEFICIENCIA_FISICA', 'IN_DEFICIENCIA_MENTAL', 'IN_DEFICIT_ATENCAO', 'IN_DISLEXIA', 'IN_DISCALCULIA',\n",
    "    'IN_AUTISMO', 'IN_VISAO_MONOCULAR', 'IN_OUTRA_DEF', 'IN_ESTUDA_CLASSE_HOSPITALAR', 'IN_SEM_RECURSO',\n",
    "    'TP_PRESENCA_CN', 'TP_PRESENCA_CH', 'TP_PRESENCA_LC', 'TP_PRESENCA_MT',\n",
    "    'Q001', 'Q002', 'Q003', 'Q004', 'Q005', 'Q006', 'Q007', 'Q024', 'Q025', 'Q026', 'Q027']\n",
    "\n",
    "output_cols = ['NU_NOTA_REDACAO','NU_NOTA_CN', 'NU_NOTA_CH', 'NU_NOTA_LC', 'NU_NOTA_MT']"
   ]
  },
  {
   "cell_type": "code",
   "execution_count": 290,
   "metadata": {},
   "outputs": [],
   "source": [
    "import zipfile\n",
    "from os.path import abspath, join\n",
    "\n",
    "root_dir = abspath('..')\n",
    "dataset_dir = join(root_dir, 'dataset')\n",
    "# set dataset files path\n",
    "file_path = join(dataset_dir, 'microdados_enem2018.zip')\n",
    "# read zip files\n",
    "zf = zipfile.ZipFile(file_path)\n",
    "data = pandas.read_csv(zf.open('DADOS/MICRODADOS_ENEM_2018.csv'),\n",
    "                       sep=';', encoding='cp1252', usecols=input_cols + output_cols)\\\n",
    "            .dropna()"
   ]
  },
  {
   "cell_type": "markdown",
   "metadata": {},
   "source": [
    "### DADOS DO QUESTIONÁRIO SOCIOECONÔMICO\n",
    "O questionário socioeconômico possui informações categóricas que serão codificadas através do one-hot-encoding. Em casos especiais que a resposta é binária, os dados serão mapeados em 0 e 1.\n",
    "\n",
    "|Coluna|Valores |\n",
    "|:----:|:----:|\n",
    "|Q001,Q002|A-H|\n",
    "|Q003,Q004|                  A-F|\n",
    "|Q005|                       1-20 (Numérico)|\n",
    "|Q006|                       A-Q|\n",
    "|Q007,Q026|                  A-D|\n",
    "|Q008-17,Q019,Q022,Q024|     A-E|\n",
    "|Q018,Q020-21,Q023,Q025|     A-B  (Codificação A=0, B=1)|\n",
    "|Q027|                       A-F|\n"
   ]
  },
  {
   "cell_type": "code",
   "execution_count": 291,
   "metadata": {},
   "outputs": [],
   "source": [
    "one_hot_socio = ['Q001','Q002','Q003','Q004','Q006',\n",
    "         'Q007','Q008','Q009','Q010','Q011','Q012','Q013','Q014',\n",
    "         'Q015','Q016','Q017','Q019','Q022','Q024','Q026','Q027',\n",
    "        ]\n",
    "encode_socio = {\n",
    "    'Q018':{'A':0,'B':1},\n",
    "    'Q020':{'A':0,'B':1},\n",
    "    'Q021':{'A':0,'B':1},\n",
    "    'Q023':{'A':0,'B':1},\n",
    "    'Q025':{'A':0,'B':1}}"
   ]
  },
  {
   "cell_type": "markdown",
   "metadata": {},
   "source": [
    "#### Filtragem\n",
    "A alternativa \"Não sei.\" das questões Q001, Q002, Q003 e Q004 a princípio não traz tanta informação a cerca da situação socioeconômica do candidato. Devido aos recursos computacionais limitados, tais linhas do dataset serão eliminadas.\n",
    "\n",
    "|Coluna|Opção \"Não sei.\"|\n",
    "|:----:|:----:|\n",
    "|Q001|H|\n",
    "|Q002|H|\n",
    "|Q003|F|\n",
    "|Q004|F|"
   ]
  },
  {
   "cell_type": "code",
   "execution_count": 292,
   "metadata": {},
   "outputs": [
    {
     "name": "stdout",
     "output_type": "stream",
     "text": [
      "Antes (2318389, 49)\n",
      "Depois (1812629, 49)\n"
     ]
    }
   ],
   "source": [
    "print('Antes {}'.format(data.shape))\n",
    "data.drop(data[(data['Q001']==\"H\") | (data['Q002']==\"H\")|(data['Q003']==\"F\") | (data['Q004']==\"F\")].index, inplace=True)\n",
    "print('Depois {}'.format(data.shape))"
   ]
  },
  {
   "cell_type": "markdown",
   "metadata": {},
   "source": [
    "### DADOS DO PARTICIPANTE\n",
    "Sesão utilizadas as seguintes informações referentes ao participante:\n",
    "\n",
    "|Coluna|Descrição|\n",
    "|:----:|:---------|\n",
    "|NU_IDADE|\tIdade|\n",
    "|TP_SEXO|\tSexo|\n",
    "|TP_ESTADO_CIVIL|\tEstado Civil|\n",
    "|TP_COR_RACA|\tCor/raça|\n",
    "|TP_NACIONALIDADE|\tNacionalidade|\n",
    "|SG_UF_RESIDENCIA|\tSigla da Unidade da Federação de residência|\n",
    "|SG_UF_NASCIMENTO|\tSigla da Unidade da Federação de nascimento|\n",
    "|TP_ST_CONCLUSAO|\tSituação de conclusão do Ensino Médio|\n",
    "|TP_ANO_CONCLUIU|\tAno de Conclusão do Ensino Médio 1-12|\n",
    "|TP_ESCOLA|\tTipo de escola do Ensino Médio 1-4|\n",
    "|TP_ENSINO|\tTipo de instituição que concluiu ou concluirá o Ensino Médio 1-3|\n",
    "|IN_TREINEIRO|\tIndica se o inscrito fez a prova com intuito de apenas treinar seus conhecimentos 0-1|\n",
    "\n",
    "Para diminuir a matrix final, as seguintes colunas foram ignoradas:\n",
    "\n",
    "|Coluna|Descrição|\n",
    "|:----:|:---------|\n",
    "|NO_MUNICIPIO_RESIDENCIA|\tNome do município de residência|\n",
    "|NO_MUNICIPIO_NASCIMENTO|\tNome do município de nascimento|\n",
    "\n",
    "Serão avaliados apenas participantes do estado de São Paulo.\n",
    "\n",
    "|Coluna|Valor|\n",
    "|:----:|:---------|\n",
    "|SG_UF_RESIDENCIA|SP|"
   ]
  },
  {
   "cell_type": "code",
   "execution_count": 293,
   "metadata": {},
   "outputs": [],
   "source": [
    "one_hot_participante = [\n",
    "    'SG_UF_RESIDENCIA','NU_IDADE',\n",
    "    'TP_ESTADO_CIVIL','TP_COR_RACA',\n",
    "    'SG_UF_NASCIMENTO','TP_NACIONALIDADE',\n",
    "    'TP_ST_CONCLUSAO','TP_ANO_CONCLUIU','TP_ESCOLA','TP_ENSINO','IN_TREINEIRO'\n",
    "]\n",
    "\n",
    "encode_participante = {'TP_SEXO':{'M':0, 'F':1}}"
   ]
  },
  {
   "cell_type": "markdown",
   "metadata": {},
   "source": [
    "#### Filtragem\n",
    "Informações referentes aos municípios serão removidas pois ao serem codificadas pelo one-hot-encode produzem matrizes de dimensões elevadas.\n",
    "\n",
    "Serão removidos do dataset linhas que não trazem informações relevantes ao classificados, tais como:\n",
    "\n",
    "|Coluna|Valor|Descrição|\n",
    "|:----:|:---:|:-------:|\n",
    "|TP_NACIONALIDADE|0|Não informado|\n",
    "\n",
    "Todos os participantes que fizeram a prova para treinar os conhecimentos serão removidos do dataset:\n",
    "\n",
    "|Coluna|Valor|Descrição|\n",
    "|:----:|:---:|:-------:|\n",
    "|IN_TREINEIRO|1|Indica se o inscrito fez a prova com intuito de apenas treinar seus conhecimentos.|\n",
    "\n",
    "\n"
   ]
  },
  {
   "cell_type": "code",
   "execution_count": 294,
   "metadata": {},
   "outputs": [
    {
     "name": "stdout",
     "output_type": "stream",
     "text": [
      "Antes (1812629, 49)\n",
      "Depois (289542, 47)\n"
     ]
    }
   ],
   "source": [
    "print('Antes {}'.format(data.shape))\n",
    "\n",
    "if 'NO_MUNICIPIO_RESIDENCIA' in data.columns:\n",
    "    data.drop(['NO_MUNICIPIO_RESIDENCIA'], axis=1, inplace=True)\n",
    "if 'NO_MUNICIPIO_NASCIMENTO' in data.columns:\n",
    "    data.drop(['NO_MUNICIPIO_NASCIMENTO'], axis=1, inplace=True)\n",
    "\n",
    "if 'IN_TREINEIRO' in data.columns:\n",
    "    data.drop(data[data['IN_TREINEIRO']==1].index, inplace=True)\n",
    "    data.drop(['IN_TREINEIRO'], axis=1, inplace=True)\n",
    "    \n",
    "if 'SG_UF_RESIDENCIA' in data.columns:\n",
    "    data.drop(data[data['SG_UF_RESIDENCIA']!=\"SP\"].index, inplace=True)\n",
    "    data.drop(['SG_UF_RESIDENCIA'], axis=1, inplace=True)\n",
    "    \n",
    "data.drop(data[(data['TP_NACIONALIDADE']==0)].index, inplace=True)    \n",
    "print('Depois {}'.format(data.shape))\n",
    "    \n"
   ]
  },
  {
   "cell_type": "markdown",
   "metadata": {},
   "source": [
    "### Recursos Especializados\n",
    "#### Filtragem\n",
    "\n",
    "Removida as colunas:\n",
    "\n",
    "|Coluna|Descrição|\n",
    "|:----:|:-------:|\n",
    "|IN_SEM_RECURSO|Indicador de inscrito que não requisitou nenhum recurso|\n",
    "\n"
   ]
  },
  {
   "cell_type": "code",
   "execution_count": 295,
   "metadata": {},
   "outputs": [],
   "source": [
    "if 'IN_SEM_RECURSO' in data.columns:\n",
    "    data.drop(['IN_SEM_RECURSO'], axis=1, inplace=True)\n",
    "    "
   ]
  },
  {
   "cell_type": "markdown",
   "metadata": {},
   "source": [
    "### DADOS DA PROVA OBJETIVA\n",
    "\n",
    "Participantes que não são considerados presentes serão descartados.\n",
    "\n",
    "|Coluna|Descrição|\n",
    "|:-----:|:------:|\n",
    "|TP_PRESENCA_CN|\tPresença na prova objetiva de Ciências da Natureza|\n",
    "|TP_PRESENCA_CH|\tPresença na prova objetiva de Ciências Humanas|\n",
    "|TP_PRESENCA_LC|\tPresença na prova objetiva de Linguagens e Códigos|\n",
    "|TP_PRESENCA_MT|\tPresença na prova objetiva de Matemática|\n",
    "\n",
    "Será aplicada uma função de conversão no valor médio das notas do participante. É objetivo do classificador\n",
    "apresentar uma visão geral da performance do candidato.\n",
    "\n",
    "|Coluna|Descrição|\n",
    "|:-----:|:------:|\n",
    "|NU_NOTA_CN|\tNota da prova de Ciências da Natureza|\n",
    "|NU_NOTA_CH|\tNota da prova de Ciências Humanas|\n",
    "|NU_NOTA_LC|\tNota da prova de Linguagens e Códigos|\n",
    "|NU_NOTA_MT|\tNota da prova de Matemática|\n",
    "|NU_NOTA_REDACAO|\tNota da prova de redação|\n",
    "\n",
    "Aplicando a seguinte conversão:\n",
    "\n",
    "Conceito|Faixa de nota correspondente\n",
    "------------|-------------------------\n",
    "A \t| Entre 600 e 1000, \"Acima da média\"\n",
    "B \t| Abaixo de 600   \"Abaixo da média\""
   ]
  },
  {
   "cell_type": "code",
   "execution_count": 296,
   "metadata": {},
   "outputs": [],
   "source": [
    "one_hot_prova = ['TP_PRESENCA_CN', 'TP_PRESENCA_CH', 'TP_PRESENCA_LC', 'TP_PRESENCA_MT']"
   ]
  },
  {
   "cell_type": "code",
   "execution_count": 297,
   "metadata": {},
   "outputs": [],
   "source": [
    "def encode_nota(val):\n",
    "    if val >= 600:\n",
    "        return 'A'\n",
    "    else:\n",
    "        return 'B'"
   ]
  },
  {
   "cell_type": "code",
   "execution_count": 298,
   "metadata": {},
   "outputs": [
    {
     "name": "stdout",
     "output_type": "stream",
     "text": [
      "Filtro de presença\n",
      "Antes (289542, 46)\n",
      "Depis(289542, 42)\n"
     ]
    }
   ],
   "source": [
    "print('Filtro de presença')\n",
    "print('Antes {}'.format(data.shape))\n",
    "for p in ['TP_PRESENCA_CN', 'TP_PRESENCA_CH', 'TP_PRESENCA_LC', 'TP_PRESENCA_MT']:\n",
    "    if p in data.columns:\n",
    "        data.drop(data[(data[p]!=1)].index, inplace=True) # Só fica que foi\n",
    "        data.drop([p], axis=1, inplace=True) # Apaga coluna\n",
    "    else:\n",
    "        print('Column {} do not exists.'.format(p))\n",
    "print('Depis{}'.format(data.shape))    "
   ]
  },
  {
   "cell_type": "code",
   "execution_count": 299,
   "metadata": {},
   "outputs": [],
   "source": [
    "## Nota média total\n",
    "data['NU_NOTA_TOTAL'] = (data['NU_NOTA_REDACAO'] + data['NU_NOTA_CN'] +\\\n",
    "                         data['NU_NOTA_CH'] + data['NU_NOTA_LC'] + data['NU_NOTA_MT'])/5."
   ]
  },
  {
   "cell_type": "markdown",
   "metadata": {},
   "source": [
    "### Colunas utilizadas no classificador"
   ]
  },
  {
   "cell_type": "code",
   "execution_count": 300,
   "metadata": {},
   "outputs": [
    {
     "data": {
      "text/plain": [
       "Index(['NU_IDADE', 'TP_SEXO', 'TP_COR_RACA', 'TP_NACIONALIDADE',\n",
       "       'SG_UF_NASCIMENTO', 'TP_ST_CONCLUSAO', 'TP_ANO_CONCLUIU', 'TP_ESCOLA',\n",
       "       'TP_ENSINO', 'IN_BAIXA_VISAO', 'IN_CEGUEIRA', 'IN_SURDEZ',\n",
       "       'IN_DEFICIENCIA_AUDITIVA', 'IN_SURDO_CEGUEIRA', 'IN_DEFICIENCIA_FISICA',\n",
       "       'IN_DEFICIENCIA_MENTAL', 'IN_DEFICIT_ATENCAO', 'IN_DISLEXIA',\n",
       "       'IN_DISCALCULIA', 'IN_AUTISMO', 'IN_VISAO_MONOCULAR', 'IN_OUTRA_DEF',\n",
       "       'IN_GESTANTE', 'IN_LACTANTE', 'IN_IDOSO', 'IN_ESTUDA_CLASSE_HOSPITALAR',\n",
       "       'NU_NOTA_CN', 'NU_NOTA_CH', 'NU_NOTA_LC', 'NU_NOTA_MT',\n",
       "       'NU_NOTA_REDACAO', 'Q001', 'Q002', 'Q003', 'Q004', 'Q005', 'Q006',\n",
       "       'Q007', 'Q024', 'Q025', 'Q026', 'Q027', 'NU_NOTA_TOTAL'],\n",
       "      dtype='object')"
      ]
     },
     "execution_count": 300,
     "metadata": {},
     "output_type": "execute_result"
    }
   ],
   "source": [
    "data.columns"
   ]
  },
  {
   "cell_type": "markdown",
   "metadata": {},
   "source": [
    "## Histograma das notas do ENEM"
   ]
  },
  {
   "cell_type": "code",
   "execution_count": 301,
   "metadata": {},
   "outputs": [
    {
     "data": {
      "image/png": "[encoded data removed]",
      "text/plain": [
       "<Figure size 432x288 with 1 Axes>"
      ]
     },
     "metadata": {
      "needs_background": "light"
     },
     "output_type": "display_data"
    },
    {
     "data": {
      "image/png": "[encoded data removed]",
      "text/plain": [
       "<Figure size 432x288 with 1 Axes>"
      ]
     },
     "metadata": {
      "needs_background": "light"
     },
     "output_type": "display_data"
    },
    {
     "data": {
      "image/png": "[encoded data removed]",
      "text/plain": [
       "<Figure size 432x288 with 1 Axes>"
      ]
     },
     "metadata": {
      "needs_background": "light"
     },
     "output_type": "display_data"
    },
    {
     "data": {
      "image/png": "[encoded data removed]",
      "text/plain": [
       "<Figure size 432x288 with 1 Axes>"
      ]
     },
     "metadata": {
      "needs_background": "light"
     },
     "output_type": "display_data"
    },
    {
     "data": {
      "image/png": "[encoded data removed]",
      "text/plain": [
       "<Figure size 432x288 with 1 Axes>"
      ]
     },
     "metadata": {
      "needs_background": "light"
     },
     "output_type": "display_data"
    },
    {
     "data": {
      "image/png": "[encoded data removed]",
      "text/plain": [
       "<Figure size 432x288 with 1 Axes>"
      ]
     },
     "metadata": {
      "needs_background": "light"
     },
     "output_type": "display_data"
    }
   ],
   "source": [
    "data['NU_NOTA_REDACAO'].plot.hist(grid=True, bins=20, rwidth=0.9,\n",
    "                   color='#eb8f34')\n",
    "plt.title('Nota da prova de redação')\n",
    "plt.xlabel('Nota')\n",
    "plt.ylabel('Candidados')\n",
    "plt.grid(axis='y', alpha=0.45)\n",
    "plt.show()\n",
    "\n",
    "data['NU_NOTA_CN'].plot.hist(grid=True, bins=20, rwidth=0.9,\n",
    "                   color='#eb5634')\n",
    "plt.title('Nota da prova de Ciências da Natureza')\n",
    "plt.xlabel('Nota')\n",
    "plt.ylabel('Candidados')\n",
    "plt.grid(axis='y', alpha=0.25)\n",
    "plt.show()\n",
    "\n",
    "data['NU_NOTA_CH'].plot.hist(grid=True, bins=20, rwidth=0.9,\n",
    "                   color='#34eb52')\n",
    "plt.title('Nota da prova de Ciências Humanas')\n",
    "plt.xlabel('Nota')\n",
    "plt.ylabel('Candidados')\n",
    "plt.grid(axis='y', alpha=0.25)\n",
    "plt.show()\n",
    "\n",
    "\n",
    "data['NU_NOTA_LC'].plot.hist(grid=True, bins=20, rwidth=0.9,\n",
    "                   color='#3496eb')\n",
    "plt.title('Nota da prova de Linguagens e Códigos')\n",
    "plt.xlabel('Nota')\n",
    "plt.ylabel('Candidados')\n",
    "plt.grid(axis='y', alpha=0.25)\n",
    "plt.show()\n",
    "\n",
    "\n",
    "data['NU_NOTA_MT'].plot.hist(grid=True, bins=20, rwidth=0.9,\n",
    "                   color='#d934eb')\n",
    "plt.title('Nota da prova de Matemática')\n",
    "plt.xlabel('Nota')\n",
    "plt.ylabel('Candidados')\n",
    "plt.grid(axis='y', alpha=0.25)\n",
    "plt.show()\n",
    "\n",
    "\n",
    "\n",
    "data['NU_NOTA_TOTAL'].plot.hist(grid=True, bins=20, rwidth=0.9,\n",
    "                   color='#607c8e')\n",
    "plt.title('Nota média dos candidados do ENEM')\n",
    "plt.xlabel('Nota média')\n",
    "plt.ylabel('Candidados')\n",
    "plt.grid(axis='y', alpha=0.75)\n",
    "plt.show()\n"
   ]
  },
  {
   "cell_type": "code",
   "execution_count": 302,
   "metadata": {},
   "outputs": [
    {
     "data": {
      "text/plain": [
       "843.0"
      ]
     },
     "execution_count": 302,
     "metadata": {},
     "output_type": "execute_result"
    }
   ],
   "source": [
    "data['NU_NOTA_CN'].max()"
   ]
  },
  {
   "cell_type": "markdown",
   "metadata": {},
   "source": [
    "Estou interessado em uma visão geral da nota do aluno\n",
    "Se por algum motivo ele não fez a prova o dado não é válido para mim"
   ]
  },
  {
   "cell_type": "code",
   "execution_count": 306,
   "metadata": {},
   "outputs": [],
   "source": [
    "## Nota média total\n",
    "data['NU_NOTA_TOTAL'] = (data['NU_NOTA_REDACAO'] + data['NU_NOTA_CN'] +\\\n",
    "                         data['NU_NOTA_CH'] + data['NU_NOTA_LC'] + data['NU_NOTA_MT'])/5."
   ]
  },
  {
   "cell_type": "markdown",
   "metadata": {},
   "source": [
    "# MLP"
   ]
  },
  {
   "cell_type": "code",
   "execution_count": 307,
   "metadata": {},
   "outputs": [],
   "source": [
    "from pandas.plotting import scatter_matrix\n",
    "from sklearn.utils import shuffle\n",
    "from sklearn.metrics import confusion_matrix, f1_score, roc_curve, roc_auc_score, classification_report\n",
    "\n",
    "from keras.models import Sequential\n",
    "from keras.utils import np_utils\n",
    "from keras.regularizers import l1_l2\n",
    "from keras.layers.core import Dense, Activation, Dropout\n",
    "from keras.callbacks import Callback, ModelCheckpoint, EarlyStopping\n",
    "from keras.wrappers.scikit_learn import KerasClassifier\n",
    "from sklearn.model_selection import train_test_split, GridSearchCV\n"
   ]
  },
  {
   "cell_type": "code",
   "execution_count": null,
   "metadata": {},
   "outputs": [],
   "source": []
  },
  {
   "cell_type": "markdown",
   "metadata": {},
   "source": [
    "## Divisão do dataset"
   ]
  },
  {
   "cell_type": "markdown",
   "metadata": {},
   "source": [
    "|Tipo|Amostras|\n",
    "|::|::|\n",
    "|Treino|169416|\n",
    "|Teste|70591|\n",
    "|Validação|42354|\n"
   ]
  },
  {
   "cell_type": "code",
   "execution_count": 318,
   "metadata": {},
   "outputs": [],
   "source": [
    "def get_model(neurons=30,dropout=0.1):\n",
    "    model = Sequential()\n",
    "    kernel_initializer='uniform'\n",
    "    optimizer='adam'\n",
    "    \n",
    "    # Camada Entrada\n",
    "    model.add(Dense(neurons, input_dim=df_inp_train.shape[1], kernel_initializer=kernel_initializer))\n",
    "    model.add(Dropout(dropout))\n",
    "    model.add(Activation('relu'))\n",
    " \n",
    "    model.add(Dense(neurons, kernel_initializer=kernel_initializer))\n",
    "    model.add(Dropout(dropout))\n",
    "    model.add(Activation('relu'))\n",
    "  \n",
    "    # Camada Saída\n",
    "    model.add(Dense(output_dim=1, kernel_initializer=kernel_initializer))\n",
    "    model.add(Dropout(dropout))\n",
    "    model.add(Activation('sigmoid'))\n",
    "    model.compile(loss='binary_crossentropy', optimizer=optimizer,  metrics=['accuracy'])\n",
    "    return model\n"
   ]
  },
  {
   "cell_type": "markdown",
   "metadata": {},
   "source": [
    "### Busca de hiperparâmetros\n",
    "Será feita uma busca pelos melhores hiperparâmetros para o modelo. A métrica escolhida será a acurácia.\n",
    "\n",
    "|Hiperparâmetro|Valores|\n",
    "|:------------:|:------:|\n",
    "|Neurônios|1, 5, 10, 15, 20, 25, 30, 50|\n",
    "|Dropout|0.1, 0.15, 0.25|\n",
    "\n",
    "#### Características do modelo\n",
    "\n",
    "|||\n",
    "|:-----:|:------:|\n",
    "|Otimizador|Adam|\n",
    "|Camadas escondidas|2|\n",
    "|Função de ativação, camdas escondidas|relu|\n",
    "|Função de ativação, camada de saída|softmax|\n",
    "|Função de custo|binary_crossentropy|\n",
    "|Inicialização dos pesos|uniform|\n",
    "\n",
    "\n"
   ]
  },
  {
   "cell_type": "code",
   "execution_count": 314,
   "metadata": {},
   "outputs": [],
   "source": [
    "one_hot_cols = set(data.columns).intersection(one_hot_socio + one_hot_participante + one_hot_prova)\n",
    "input_cols_ = set(input_cols).intersection(data.columns)\n",
    "\n",
    "# Dataframe de entrada\n",
    "df_inp = pandas.get_dummies(data[input_cols_], \n",
    "                   columns=set(one_hot_cols).intersection(input_cols_)\n",
    "           ).replace({**encode_participante, **encode_socio})\n",
    "\n",
    "# Dataframe de saída\n",
    "df_out = data['NU_NOTA_TOTAL'].apply(encode_nota)\n",
    "\n",
    "# Para usar o GridSearch não suport one-hot-encoding\n",
    "from sklearn.preprocessing import LabelEncoder\n",
    "lc = LabelEncoder()\n",
    "df_out = lc.fit_transform(df_out)\n",
    "\n",
    "df_inp_train, df_inp_test, df_out_train, df_out_test = \\\n",
    "    train_test_split(df_inp,df_out, test_size=0.25, random_state=1)\n",
    "\n",
    "df_inp_train, df_inp_val, df_out_train, df_out_val = \\\n",
    "    train_test_split(df_inp_train, df_out_train, test_size=0.20, random_state=1)\n",
    "\n",
    "for col in df_inp.columns:\n",
    "    if df_inp[col].dtype != 'uint8' and df_inp[col].dtype != 'int64':\n",
    "        print(col, df_inp[col].dtype)"
   ]
  },
  {
   "cell_type": "code",
   "execution_count": 319,
   "metadata": {},
   "outputs": [
    {
     "name": "stdout",
     "output_type": "stream",
     "text": [
      "Fitting 5 folds for each of 24 candidates, totalling 120 fits\n"
     ]
    },
    {
     "name": "stderr",
     "output_type": "stream",
     "text": [
      "[Parallel(n_jobs=-1)]: Using backend LokyBackend with 62 concurrent workers.\n",
      "[Parallel(n_jobs=-1)]: Done 118 out of 120 | elapsed:  9.7min remaining:    9.8s\n",
      "[Parallel(n_jobs=-1)]: Done 120 out of 120 | elapsed:  9.7min finished\n",
      "/opt/conda/lib/python3.7/site-packages/ipykernel_launcher.py:16: UserWarning: Update your `Dense` call to the Keras 2 API: `Dense(kernel_initializer=\"uniform\", units=1)`\n",
      "  app.launch_new_instance()\n"
     ]
    },
    {
     "name": "stdout",
     "output_type": "stream",
     "text": [
      "Epoch 1/50\n",
      "173724/173724 [==============================] - 2s 13us/step - loss: 0.5349 - accuracy: 0.6978\n",
      "Epoch 2/50\n",
      "173724/173724 [==============================] - 2s 12us/step - loss: 0.4754 - accuracy: 0.7185\n",
      "Epoch 3/50\n",
      "173724/173724 [==============================] - 2s 13us/step - loss: 0.4708 - accuracy: 0.7220\n",
      "Epoch 4/50\n",
      "173724/173724 [==============================] - 2s 12us/step - loss: 0.4691 - accuracy: 0.7226\n",
      "Epoch 5/50\n",
      "173724/173724 [==============================] - 2s 12us/step - loss: 0.4687 - accuracy: 0.7224\n",
      "Epoch 6/50\n",
      "173724/173724 [==============================] - 2s 12us/step - loss: 0.4674 - accuracy: 0.7245\n",
      "Epoch 7/50\n",
      "173724/173724 [==============================] - 2s 12us/step - loss: 0.4673 - accuracy: 0.7240\n",
      "Epoch 8/50\n",
      "173724/173724 [==============================] - 2s 13us/step - loss: 0.4673 - accuracy: 0.7242\n",
      "Epoch 9/50\n",
      "173724/173724 [==============================] - 2s 12us/step - loss: 0.4675 - accuracy: 0.7223\n",
      "Epoch 10/50\n",
      "173724/173724 [==============================] - 2s 13us/step - loss: 0.4659 - accuracy: 0.7246\n",
      "Epoch 11/50\n",
      "173724/173724 [==============================] - 2s 13us/step - loss: 0.4663 - accuracy: 0.7238\n",
      "Epoch 12/50\n",
      "173724/173724 [==============================] - 2s 12us/step - loss: 0.4657 - accuracy: 0.7250\n",
      "Epoch 13/50\n",
      "173724/173724 [==============================] - 2s 12us/step - loss: 0.4661 - accuracy: 0.7238\n",
      "Epoch 14/50\n",
      "173724/173724 [==============================] - 2s 12us/step - loss: 0.4664 - accuracy: 0.7240\n",
      "Epoch 15/50\n",
      "173724/173724 [==============================] - 2s 12us/step - loss: 0.4658 - accuracy: 0.7241\n",
      "Epoch 16/50\n",
      "173724/173724 [==============================] - 2s 13us/step - loss: 0.4662 - accuracy: 0.7232\n",
      "Epoch 17/50\n",
      "173724/173724 [==============================] - 2s 12us/step - loss: 0.4646 - accuracy: 0.7247\n",
      "Epoch 18/50\n",
      "173724/173724 [==============================] - 2s 12us/step - loss: 0.4669 - accuracy: 0.7228\n",
      "Epoch 19/50\n",
      "173724/173724 [==============================] - 2s 12us/step - loss: 0.4643 - accuracy: 0.7246\n",
      "Epoch 20/50\n",
      "173724/173724 [==============================] - 2s 11us/step - loss: 0.4644 - accuracy: 0.7239\n",
      "Epoch 21/50\n",
      "173724/173724 [==============================] - 2s 12us/step - loss: 0.4635 - accuracy: 0.7262\n",
      "Epoch 22/50\n",
      "173724/173724 [==============================] - 2s 12us/step - loss: 0.4647 - accuracy: 0.7248\n",
      "Epoch 23/50\n",
      "173724/173724 [==============================] - 2s 12us/step - loss: 0.4644 - accuracy: 0.7254\n",
      "Epoch 24/50\n",
      "173724/173724 [==============================] - 2s 12us/step - loss: 0.4637 - accuracy: 0.7248\n",
      "Epoch 25/50\n",
      "173724/173724 [==============================] - 2s 12us/step - loss: 0.4634 - accuracy: 0.7259\n",
      "Epoch 26/50\n",
      "173724/173724 [==============================] - 2s 12us/step - loss: 0.4629 - accuracy: 0.7253\n",
      "Epoch 27/50\n",
      "173724/173724 [==============================] - 2s 13us/step - loss: 0.4646 - accuracy: 0.7237\n",
      "Epoch 28/50\n",
      "173724/173724 [==============================] - 2s 12us/step - loss: 0.4622 - accuracy: 0.7266\n",
      "Epoch 29/50\n",
      "173724/173724 [==============================] - 2s 12us/step - loss: 0.4622 - accuracy: 0.7263\n",
      "Epoch 30/50\n",
      "173724/173724 [==============================] - 2s 12us/step - loss: 0.4646 - accuracy: 0.7236\n",
      "Epoch 31/50\n",
      "173724/173724 [==============================] - 2s 12us/step - loss: 0.4627 - accuracy: 0.7256\n",
      "Epoch 32/50\n",
      "173724/173724 [==============================] - 2s 12us/step - loss: 0.4630 - accuracy: 0.7260\n",
      "Epoch 33/50\n",
      "173724/173724 [==============================] - 2s 13us/step - loss: 0.4628 - accuracy: 0.7261\n",
      "Epoch 34/50\n",
      "173724/173724 [==============================] - 2s 13us/step - loss: 0.4626 - accuracy: 0.7264\n",
      "Epoch 35/50\n",
      "173724/173724 [==============================] - 2s 12us/step - loss: 0.4613 - accuracy: 0.7273\n",
      "Epoch 36/50\n",
      "173724/173724 [==============================] - 2s 11us/step - loss: 0.4629 - accuracy: 0.7251\n",
      "Epoch 37/50\n",
      "173724/173724 [==============================] - 2s 13us/step - loss: 0.4626 - accuracy: 0.7262\n",
      "Epoch 38/50\n",
      "173724/173724 [==============================] - 2s 12us/step - loss: 0.4622 - accuracy: 0.7256\n",
      "Epoch 39/50\n",
      "173724/173724 [==============================] - 2s 12us/step - loss: 0.4622 - accuracy: 0.7254\n",
      "Epoch 40/50\n",
      "173724/173724 [==============================] - 2s 12us/step - loss: 0.4609 - accuracy: 0.7276\n",
      "Epoch 41/50\n",
      "173724/173724 [==============================] - 2s 12us/step - loss: 0.4615 - accuracy: 0.7264\n",
      "Epoch 42/50\n",
      "173724/173724 [==============================] - 2s 12us/step - loss: 0.4615 - accuracy: 0.7264\n",
      "Epoch 43/50\n",
      "173724/173724 [==============================] - 2s 12us/step - loss: 0.4616 - accuracy: 0.7254\n",
      "Epoch 44/50\n",
      "173724/173724 [==============================] - 2s 12us/step - loss: 0.4616 - accuracy: 0.7264\n",
      "Epoch 45/50\n",
      "173724/173724 [==============================] - 2s 12us/step - loss: 0.4618 - accuracy: 0.7258\n",
      "Epoch 46/50\n",
      "173724/173724 [==============================] - 2s 12us/step - loss: 0.4616 - accuracy: 0.7261\n",
      "Epoch 47/50\n",
      "173724/173724 [==============================] - 2s 12us/step - loss: 0.4616 - accuracy: 0.7266\n",
      "Epoch 48/50\n",
      "173724/173724 [==============================] - 2s 11us/step - loss: 0.4614 - accuracy: 0.7268\n",
      "Epoch 49/50\n",
      "173724/173724 [==============================] - 2s 11us/step - loss: 0.4617 - accuracy: 0.7266\n",
      "Epoch 50/50\n",
      "173724/173724 [==============================] - 2s 11us/step - loss: 0.4610 - accuracy: 0.7271\n"
     ]
    }
   ],
   "source": [
    "# create model \n",
    "keras_model = KerasClassifier(build_fn=get_model, epochs=50, batch_size=1000)\n",
    " \n",
    "# define the grid search parameters\n",
    "param_grid = {\n",
    "    'neurons':[1, 5, 10, 15, 20, 25, 30, 50],\n",
    "    'dropout':[0.1, 0.15, 0.25]\n",
    "}\n",
    "\n",
    "grid = GridSearchCV(estimator=keras_model, param_grid=param_grid, verbose=1, n_jobs=-1, cv=5, scoring='accuracy')\n",
    "\n",
    "grid_result = grid.fit(df_inp_train, df_out_train)\n"
   ]
  },
  {
   "cell_type": "markdown",
   "metadata": {},
   "source": [
    "#### Resultados da busca por hiperparâmetros\n",
    "\n",
    "O melhort conjunto para a busca, com k-fold cross validation de 5 folds apresentou acurácia de acurácia 0.701616.\n",
    "\n",
    "* Dropout 0.25\n",
    "* Neurônios por camada 25\n",
    "* Épocas 50\n",
    "* Batch 1000"
   ]
  },
  {
   "cell_type": "code",
   "execution_count": 320,
   "metadata": {},
   "outputs": [
    {
     "name": "stdout",
     "output_type": "stream",
     "text": [
      "Melhor: acurácia 0.810280 com {'dropout': 0.15, 'neurons': 25}\n",
      "\n",
      "\n",
      "0.766653 (0.001841) com: {'dropout': 0.1, 'neurons': 1}\n",
      "0.808984 (0.001621) com: {'dropout': 0.1, 'neurons': 5}\n",
      "0.809882 (0.001074) com: {'dropout': 0.1, 'neurons': 10}\n",
      "0.809802 (0.001918) com: {'dropout': 0.1, 'neurons': 15}\n",
      "0.809980 (0.001464) com: {'dropout': 0.1, 'neurons': 20}\n",
      "0.809848 (0.000985) com: {'dropout': 0.1, 'neurons': 25}\n",
      "0.809664 (0.001279) com: {'dropout': 0.1, 'neurons': 30}\n",
      "0.808115 (0.001200) com: {'dropout': 0.1, 'neurons': 50}\n",
      "0.766653 (0.001841) com: {'dropout': 0.15, 'neurons': 1}\n",
      "0.809128 (0.001966) com: {'dropout': 0.15, 'neurons': 5}\n",
      "0.809623 (0.000703) com: {'dropout': 0.15, 'neurons': 10}\n",
      "0.809917 (0.000863) com: {'dropout': 0.15, 'neurons': 15}\n",
      "0.809589 (0.001190) com: {'dropout': 0.15, 'neurons': 20}\n",
      "0.810280 (0.000965) com: {'dropout': 0.15, 'neurons': 25}\n",
      "0.809577 (0.001278) com: {'dropout': 0.15, 'neurons': 30}\n",
      "0.808484 (0.000906) com: {'dropout': 0.15, 'neurons': 50}\n",
      "0.766653 (0.001841) com: {'dropout': 0.25, 'neurons': 1}\n",
      "0.782765 (0.021451) com: {'dropout': 0.25, 'neurons': 5}\n",
      "0.809779 (0.001522) com: {'dropout': 0.25, 'neurons': 10}\n",
      "0.810153 (0.001632) com: {'dropout': 0.25, 'neurons': 15}\n",
      "0.809750 (0.001394) com: {'dropout': 0.25, 'neurons': 20}\n",
      "0.809065 (0.001601) com: {'dropout': 0.25, 'neurons': 25}\n",
      "0.809451 (0.000826) com: {'dropout': 0.25, 'neurons': 30}\n",
      "0.808933 (0.001141) com: {'dropout': 0.25, 'neurons': 50}\n"
     ]
    }
   ],
   "source": [
    "# summarize results\n",
    "print(\"Melhor: acurácia %f com %s\\n\\n\" % (grid_result.best_score_, grid_result.best_params_))\n",
    "means = grid_result.cv_results_['mean_test_score']\n",
    "stds = grid_result.cv_results_['std_test_score']\n",
    "params = grid_result.cv_results_['params']\n",
    "for mean, stdev, param in zip(means, stds, params):\n",
    "    print(\"%f (%f) com: %r\" % (mean, stdev, param))"
   ]
  },
  {
   "cell_type": "markdown",
   "metadata": {},
   "source": [
    "### Treinamento com Keras"
   ]
  },
  {
   "cell_type": "code",
   "execution_count": 321,
   "metadata": {},
   "outputs": [
    {
     "name": "stderr",
     "output_type": "stream",
     "text": [
      "/opt/conda/lib/python3.7/site-packages/ipykernel_launcher.py:16: UserWarning: Update your `Dense` call to the Keras 2 API: `Dense(kernel_initializer=\"uniform\", units=1)`\n",
      "  app.launch_new_instance()\n"
     ]
    }
   ],
   "source": [
    "keras_model = get_model(neurons=25, dropout=0.15)\n",
    "epochs=50\n",
    "batch_size=1000"
   ]
  },
  {
   "cell_type": "code",
   "execution_count": 322,
   "metadata": {},
   "outputs": [
    {
     "name": "stderr",
     "output_type": "stream",
     "text": [
      "/opt/conda/lib/python3.7/site-packages/ipykernel_launcher.py:16: UserWarning: Update your `Dense` call to the Keras 2 API: `Dense(kernel_initializer=\"uniform\", units=1)`\n",
      "  app.launch_new_instance()\n"
     ]
    },
    {
     "name": "stdout",
     "output_type": "stream",
     "text": [
      "Training...\n",
      "Train on 173724 samples, validate on 43432 samples\n",
      "Epoch 1/50\n",
      "173724/173724 [==============================] - 2s 14us/step - loss: 0.5133 - accuracy: 0.7319 - val_loss: 0.4335 - val_accuracy: 0.8086\n",
      "\n",
      "Epoch 00001: val_loss improved from inf to 0.43348, saving model to mlp-neurons-[10]-init-uniform\n",
      "Epoch 2/50\n",
      "173724/173724 [==============================] - 2s 12us/step - loss: 0.4592 - accuracy: 0.7489 - val_loss: 0.4297 - val_accuracy: 0.8104\n",
      "\n",
      "Epoch 00002: val_loss improved from 0.43348 to 0.42966, saving model to mlp-neurons-[10]-init-uniform\n",
      "Epoch 3/50\n",
      "173724/173724 [==============================] - 2s 13us/step - loss: 0.4566 - accuracy: 0.7504 - val_loss: 0.4272 - val_accuracy: 0.8107\n",
      "\n",
      "Epoch 00003: val_loss improved from 0.42966 to 0.42718, saving model to mlp-neurons-[10]-init-uniform\n",
      "Epoch 4/50\n",
      "173724/173724 [==============================] - 2s 13us/step - loss: 0.4555 - accuracy: 0.7514 - val_loss: 0.4269 - val_accuracy: 0.8122\n",
      "\n",
      "Epoch 00004: val_loss improved from 0.42718 to 0.42686, saving model to mlp-neurons-[10]-init-uniform\n",
      "Epoch 5/50\n",
      "173724/173724 [==============================] - 2s 13us/step - loss: 0.4542 - accuracy: 0.7518 - val_loss: 0.4279 - val_accuracy: 0.8115\n",
      "\n",
      "Epoch 00005: val_loss did not improve from 0.42686\n",
      "Epoch 6/50\n",
      "173724/173724 [==============================] - 2s 13us/step - loss: 0.4539 - accuracy: 0.7521 - val_loss: 0.4263 - val_accuracy: 0.8113\n",
      "\n",
      "Epoch 00006: val_loss improved from 0.42686 to 0.42630, saving model to mlp-neurons-[10]-init-uniform\n",
      "Epoch 7/50\n",
      "173724/173724 [==============================] - 2s 13us/step - loss: 0.4536 - accuracy: 0.7511 - val_loss: 0.4282 - val_accuracy: 0.8116\n",
      "\n",
      "Epoch 00007: val_loss did not improve from 0.42630\n",
      "Epoch 8/50\n",
      "173724/173724 [==============================] - 2s 12us/step - loss: 0.4524 - accuracy: 0.7532 - val_loss: 0.4246 - val_accuracy: 0.8116\n",
      "\n",
      "Epoch 00008: val_loss improved from 0.42630 to 0.42458, saving model to mlp-neurons-[10]-init-uniform\n",
      "Epoch 9/50\n",
      "173724/173724 [==============================] - 2s 13us/step - loss: 0.4525 - accuracy: 0.7523 - val_loss: 0.4246 - val_accuracy: 0.8124\n",
      "\n",
      "Epoch 00009: val_loss improved from 0.42458 to 0.42455, saving model to mlp-neurons-[10]-init-uniform\n",
      "Epoch 10/50\n",
      "173724/173724 [==============================] - 2s 13us/step - loss: 0.4515 - accuracy: 0.7538 - val_loss: 0.4257 - val_accuracy: 0.8120\n",
      "\n",
      "Epoch 00010: val_loss did not improve from 0.42455\n",
      "Epoch 11/50\n",
      "173724/173724 [==============================] - 2s 14us/step - loss: 0.4508 - accuracy: 0.7540 - val_loss: 0.4270 - val_accuracy: 0.8124\n",
      "\n",
      "Epoch 00011: val_loss did not improve from 0.42455\n",
      "Epoch 12/50\n",
      "173724/173724 [==============================] - 2s 13us/step - loss: 0.4516 - accuracy: 0.7526 - val_loss: 0.4245 - val_accuracy: 0.8126\n",
      "\n",
      "Epoch 00012: val_loss improved from 0.42455 to 0.42451, saving model to mlp-neurons-[10]-init-uniform\n",
      "Epoch 13/50\n",
      "173724/173724 [==============================] - 2s 14us/step - loss: 0.4508 - accuracy: 0.7536 - val_loss: 0.4280 - val_accuracy: 0.8127\n",
      "\n",
      "Epoch 00013: val_loss did not improve from 0.42451\n",
      "Epoch 14/50\n",
      "173724/173724 [==============================] - 2s 13us/step - loss: 0.4496 - accuracy: 0.7551 - val_loss: 0.4238 - val_accuracy: 0.8121\n",
      "\n",
      "Epoch 00014: val_loss improved from 0.42451 to 0.42377, saving model to mlp-neurons-[10]-init-uniform\n",
      "Epoch 15/50\n",
      "173724/173724 [==============================] - 2s 13us/step - loss: 0.4505 - accuracy: 0.7533 - val_loss: 0.4254 - val_accuracy: 0.8119\n",
      "\n",
      "Epoch 00015: val_loss did not improve from 0.42377\n",
      "Epoch 16/50\n",
      "173724/173724 [==============================] - 2s 13us/step - loss: 0.4494 - accuracy: 0.7551 - val_loss: 0.4251 - val_accuracy: 0.8120\n",
      "\n",
      "Epoch 00016: val_loss did not improve from 0.42377\n",
      "Epoch 17/50\n",
      "173724/173724 [==============================] - 2s 14us/step - loss: 0.4496 - accuracy: 0.7543 - val_loss: 0.4236 - val_accuracy: 0.8122\n",
      "\n",
      "Epoch 00017: val_loss improved from 0.42377 to 0.42365, saving model to mlp-neurons-[10]-init-uniform\n",
      "Epoch 18/50\n",
      "173724/173724 [==============================] - 2s 13us/step - loss: 0.4486 - accuracy: 0.7553 - val_loss: 0.4241 - val_accuracy: 0.8122\n",
      "\n",
      "Epoch 00018: val_loss did not improve from 0.42365\n",
      "Epoch 19/50\n",
      "173724/173724 [==============================] - 2s 13us/step - loss: 0.4496 - accuracy: 0.7545 - val_loss: 0.4242 - val_accuracy: 0.8120\n",
      "\n",
      "Epoch 00019: val_loss did not improve from 0.42365\n",
      "Epoch 20/50\n",
      "173724/173724 [==============================] - 2s 13us/step - loss: 0.4492 - accuracy: 0.7546 - val_loss: 0.4253 - val_accuracy: 0.8117\n",
      "\n",
      "Epoch 00020: val_loss did not improve from 0.42365\n",
      "Epoch 21/50\n",
      "173724/173724 [==============================] - 2s 13us/step - loss: 0.4490 - accuracy: 0.7542 - val_loss: 0.4239 - val_accuracy: 0.8125\n",
      "\n",
      "Epoch 00021: val_loss did not improve from 0.42365\n",
      "Epoch 22/50\n",
      "173724/173724 [==============================] - 2s 14us/step - loss: 0.4493 - accuracy: 0.7539 - val_loss: 0.4235 - val_accuracy: 0.8129\n",
      "\n",
      "Epoch 00022: val_loss improved from 0.42365 to 0.42354, saving model to mlp-neurons-[10]-init-uniform\n",
      "Epoch 23/50\n",
      "173724/173724 [==============================] - 2s 12us/step - loss: 0.4491 - accuracy: 0.7544 - val_loss: 0.4248 - val_accuracy: 0.8116\n",
      "\n",
      "Epoch 00023: val_loss did not improve from 0.42354\n",
      "Epoch 24/50\n",
      "173724/173724 [==============================] - 2s 13us/step - loss: 0.4475 - accuracy: 0.7565 - val_loss: 0.4264 - val_accuracy: 0.8123\n",
      "\n",
      "Epoch 00024: val_loss did not improve from 0.42354\n",
      "Epoch 25/50\n",
      "173724/173724 [==============================] - 2s 14us/step - loss: 0.4480 - accuracy: 0.7548 - val_loss: 0.4259 - val_accuracy: 0.8120\n",
      "\n",
      "Epoch 00025: val_loss did not improve from 0.42354\n",
      "Epoch 26/50\n",
      "173724/173724 [==============================] - 2s 13us/step - loss: 0.4484 - accuracy: 0.7538 - val_loss: 0.4241 - val_accuracy: 0.8117\n",
      "\n",
      "Epoch 00026: val_loss did not improve from 0.42354\n",
      "Epoch 27/50\n",
      "173724/173724 [==============================] - 2s 14us/step - loss: 0.4473 - accuracy: 0.7563 - val_loss: 0.4251 - val_accuracy: 0.8112\n",
      "\n",
      "Epoch 00027: val_loss did not improve from 0.42354\n",
      "Epoch 28/50\n",
      "173724/173724 [==============================] - 2s 13us/step - loss: 0.4481 - accuracy: 0.7553 - val_loss: 0.4247 - val_accuracy: 0.8118\n",
      "\n",
      "Epoch 00028: val_loss did not improve from 0.42354\n",
      "Epoch 29/50\n",
      "173724/173724 [==============================] - 2s 13us/step - loss: 0.4468 - accuracy: 0.7556 - val_loss: 0.4243 - val_accuracy: 0.8122\n",
      "\n",
      "Epoch 00029: val_loss did not improve from 0.42354\n",
      "Epoch 30/50\n",
      "173724/173724 [==============================] - 2s 12us/step - loss: 0.4479 - accuracy: 0.7547 - val_loss: 0.4252 - val_accuracy: 0.8112\n",
      "\n",
      "Epoch 00030: val_loss did not improve from 0.42354\n",
      "Epoch 31/50\n",
      "173724/173724 [==============================] - 2s 14us/step - loss: 0.4476 - accuracy: 0.7558 - val_loss: 0.4255 - val_accuracy: 0.8114\n",
      "\n",
      "Epoch 00031: val_loss did not improve from 0.42354\n",
      "Epoch 32/50\n",
      "173724/173724 [==============================] - 2s 13us/step - loss: 0.4471 - accuracy: 0.7557 - val_loss: 0.4258 - val_accuracy: 0.8116\n",
      "\n",
      "Epoch 00032: val_loss did not improve from 0.42354\n",
      "Epoch 33/50\n",
      "173724/173724 [==============================] - 2s 13us/step - loss: 0.4467 - accuracy: 0.7557 - val_loss: 0.4248 - val_accuracy: 0.8117\n",
      "\n",
      "Epoch 00033: val_loss did not improve from 0.42354\n",
      "Epoch 34/50\n",
      "173724/173724 [==============================] - 2s 13us/step - loss: 0.4473 - accuracy: 0.7556 - val_loss: 0.4251 - val_accuracy: 0.8122\n",
      "\n",
      "Epoch 00034: val_loss did not improve from 0.42354\n",
      "Epoch 35/50\n",
      "173724/173724 [==============================] - 2s 13us/step - loss: 0.4465 - accuracy: 0.7566 - val_loss: 0.4258 - val_accuracy: 0.8117\n",
      "\n",
      "Epoch 00035: val_loss did not improve from 0.42354\n",
      "Epoch 36/50\n",
      "173724/173724 [==============================] - 2s 14us/step - loss: 0.4473 - accuracy: 0.7554 - val_loss: 0.4254 - val_accuracy: 0.8115\n",
      "\n",
      "Epoch 00036: val_loss did not improve from 0.42354\n",
      "Epoch 37/50\n",
      "173724/173724 [==============================] - 2s 13us/step - loss: 0.4461 - accuracy: 0.7568 - val_loss: 0.4246 - val_accuracy: 0.8108\n",
      "\n",
      "Epoch 00037: val_loss did not improve from 0.42354\n",
      "Epoch 38/50\n",
      "173724/173724 [==============================] - 2s 13us/step - loss: 0.4462 - accuracy: 0.7576 - val_loss: 0.4264 - val_accuracy: 0.8109\n"
     ]
    },
    {
     "name": "stdout",
     "output_type": "stream",
     "text": [
      "\n",
      "Epoch 00038: val_loss did not improve from 0.42354\n",
      "Epoch 39/50\n",
      "173724/173724 [==============================] - 2s 13us/step - loss: 0.4462 - accuracy: 0.7560 - val_loss: 0.4280 - val_accuracy: 0.8102\n",
      "\n",
      "Epoch 00039: val_loss did not improve from 0.42354\n",
      "Epoch 40/50\n",
      "173724/173724 [==============================] - 2s 14us/step - loss: 0.4457 - accuracy: 0.7561 - val_loss: 0.4273 - val_accuracy: 0.8108\n",
      "\n",
      "Epoch 00040: val_loss did not improve from 0.42354\n",
      "Epoch 41/50\n",
      "173724/173724 [==============================] - 2s 13us/step - loss: 0.4446 - accuracy: 0.7590 - val_loss: 0.4251 - val_accuracy: 0.8112\n",
      "\n",
      "Epoch 00041: val_loss did not improve from 0.42354\n",
      "Epoch 42/50\n",
      "173724/173724 [==============================] - 2s 13us/step - loss: 0.4455 - accuracy: 0.7571 - val_loss: 0.4256 - val_accuracy: 0.8114\n",
      "\n",
      "Epoch 00042: val_loss did not improve from 0.42354\n",
      "Epoch 43/50\n",
      "173724/173724 [==============================] - 2s 13us/step - loss: 0.4452 - accuracy: 0.7566 - val_loss: 0.4248 - val_accuracy: 0.8101\n",
      "\n",
      "Epoch 00043: val_loss did not improve from 0.42354\n",
      "Epoch 44/50\n",
      "173724/173724 [==============================] - 2s 13us/step - loss: 0.4453 - accuracy: 0.7564 - val_loss: 0.4259 - val_accuracy: 0.8105\n",
      "\n",
      "Epoch 00044: val_loss did not improve from 0.42354\n",
      "Epoch 45/50\n",
      "173724/173724 [==============================] - 2s 13us/step - loss: 0.4446 - accuracy: 0.7584 - val_loss: 0.4249 - val_accuracy: 0.8108\n",
      "\n",
      "Epoch 00045: val_loss did not improve from 0.42354\n",
      "Epoch 46/50\n",
      "173724/173724 [==============================] - 2s 13us/step - loss: 0.4464 - accuracy: 0.7558 - val_loss: 0.4271 - val_accuracy: 0.8105\n",
      "\n",
      "Epoch 00046: val_loss did not improve from 0.42354\n",
      "Epoch 47/50\n",
      "173724/173724 [==============================] - 2s 13us/step - loss: 0.4438 - accuracy: 0.7585 - val_loss: 0.4255 - val_accuracy: 0.8100\n",
      "\n",
      "Epoch 00047: val_loss did not improve from 0.42354\n",
      "Epoch 48/50\n",
      "173724/173724 [==============================] - 2s 12us/step - loss: 0.4448 - accuracy: 0.7572 - val_loss: 0.4269 - val_accuracy: 0.8102\n",
      "\n",
      "Epoch 00048: val_loss did not improve from 0.42354\n",
      "Epoch 49/50\n",
      "173724/173724 [==============================] - 2s 13us/step - loss: 0.4456 - accuracy: 0.7568 - val_loss: 0.4256 - val_accuracy: 0.8110\n",
      "\n",
      "Epoch 00049: val_loss did not improve from 0.42354\n",
      "Epoch 50/50\n",
      "173724/173724 [==============================] - 2s 13us/step - loss: 0.4444 - accuracy: 0.7580 - val_loss: 0.4258 - val_accuracy: 0.8103\n",
      "\n",
      "Epoch 00050: val_loss did not improve from 0.42354\n"
     ]
    }
   ],
   "source": [
    "model = get_model()\n",
    "callbacks = [\n",
    "    ModelCheckpoint('mlp-neurons'),\n",
    "                    monitor='val_loss', save_best_only=True, verbose=1)\n",
    "]\n",
    "print(\"Training...\")\n",
    "history = model.fit(df_inp_train, df_out_train, validation_data=(df_inp_val, df_out_val),\\\n",
    "    callbacks=callbacks, epochs=epochs, batch_size=batch_size, verbose=1, shuffle=True, use_multiprocessing=True)"
   ]
  },
  {
   "cell_type": "code",
   "execution_count": 333,
   "metadata": {},
   "outputs": [
    {
     "data": {
      "image/png": "[encoded data removed]",
      "text/plain": [
       "<Figure size 720x360 with 1 Axes>"
      ]
     },
     "metadata": {
      "needs_background": "light"
     },
     "output_type": "display_data"
    }
   ],
   "source": [
    "fig = plt.figure(figsize=(10,5))\n",
    "plt.grid(color='#919191', linestyle=':', linewidth=1)\n",
    "plt.plot(history.history['loss'], label='Custo de treinamento')\n",
    "plt.plot(history.history['val_loss'], label='Custo de validação')\n",
    "plt.grid(True)\n",
    "plt.legend()\n",
    "fig.savefig('mlp_history.png', dpi=600)\n",
    "plt.show()\n"
   ]
  },
  {
   "cell_type": "markdown",
   "metadata": {},
   "source": [
    "#### Parada prematura\n",
    "Os pesos utilizados são referentes à época 14, que apresentou menor valor para a função de custo no treinamento 0.4505 e validação 0.4254.\n",
    "\n",
    "A acurácia para o dataset de treinamento foi 0.7533 enquanto para o dataset de validação 0.8119.\n"
   ]
  },
  {
   "cell_type": "code",
   "execution_count": 335,
   "metadata": {},
   "outputs": [
    {
     "name": "stdout",
     "output_type": "stream",
     "text": [
      "              precision    recall  f1-score   support\n",
      "\n",
      "           0       0.67      0.38      0.48     16903\n",
      "           1       0.83      0.94      0.88     55483\n",
      "\n",
      "    accuracy                           0.81     72386\n",
      "   macro avg       0.75      0.66      0.68     72386\n",
      "weighted avg       0.79      0.81      0.79     72386\n",
      "\n"
     ]
    }
   ],
   "source": [
    "model.load_weights('mlp-neurons-[10]-init-uniform')\n",
    "class_pred = model.predict_classes(df_inp_test)\n",
    "print(classification_report(df_out_test, class_pred))"
   ]
  },
  {
   "cell_type": "code",
   "execution_count": null,
   "metadata": {},
   "outputs": [],
   "source": []
  }
 ],
 "metadata": {
  "kernelspec": {
   "display_name": "Python 3",
   "language": "python",
   "name": "python3"
  },
  "language_info": {
   "codemirror_mode": {
    "name": "ipython",
    "version": 3
   },
   "file_extension": ".py",
   "mimetype": "text/x-python",
   "name": "python",
   "nbconvert_exporter": "python",
   "pygments_lexer": "ipython3",
   "version": "3.7.3"
  }
 },
 "nbformat": 4,
 "nbformat_minor": 2
}
