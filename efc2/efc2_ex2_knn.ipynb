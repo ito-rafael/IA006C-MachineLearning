{
 "cells": [
  {
   "cell_type": "code",
   "execution_count": 1,
   "metadata": {
    "jupyter": {
     "outputs_hidden": false
    }
   },
   "outputs": [],
   "source": [
    "#----------------------------\n",
    "# import libraries\n",
    "#----------------------------\n",
    "import numpy as np\n",
    "import pandas as pd\n",
    "from matplotlib import pyplot as plt\n",
    "# scikit-learn\n",
    "from sklearn.utils import shuffle\n",
    "from sklearn.preprocessing import StandardScaler\n",
    "from sklearn.preprocessing import OneHotEncoder\n",
    "from sklearn.metrics import confusion_matrix\n",
    "from sklearn.metrics import roc_curve\n",
    "from sklearn.metrics import f1_score\n",
    "from sklearn.metrics import accuracy_score\n",
    "#----------------------------\n",
    "#use fixed point notation\n",
    "np.set_printoptions(suppress=True)"
   ]
  },
  {
   "cell_type": "markdown",
   "metadata": {},
   "source": [
    "**output** <br>\n",
    "1 – caminhada <br>\n",
    "2 – subindo escadas <br>\n",
    "3 – descendo escadas <br>\n",
    "4 – sentado <br>\n",
    "5 – em pé <br>\n",
    "6 – deitado <br>\n",
    "<br>\n",
    "**one-hot enconding** <br>\n",
    "[1 0 0 0 0 0]$^T$: walking <br>\n",
    "[0 1 0 0 0 0]$^T$: climbing stairs <br>\n",
    "[0 0 1 0 0 0]$^T$: going down stairs <br>\n",
    "[0 0 0 1 0 0]$^T$: seated <br>\n",
    "[0 0 0 0 1 0]$^T$: standing <br>\n",
    "[0 0 0 0 0 1]$^T$: lying <br>\n"
   ]
  },
  {
   "cell_type": "code",
   "execution_count": 2,
   "metadata": {},
   "outputs": [],
   "source": [
    "def zero_one_loss(y_true, y_pred):\n",
    "    diff = (y_true - y_pred)\n",
    "    # if class is right, row has only zeros\n",
    "    # if class is wrong, real and predicted colums have values 0.5\n",
    "    half = (diff * diff) / 2\n",
    "    # sum rows\n",
    "    row_sum = np.sum(half, axis=1)\n",
    "    error = np.sum(row_sum)\n",
    "    loss = error / len(y_true)\n",
    "    return loss"
   ]
  },
  {
   "cell_type": "code",
   "execution_count": null,
   "metadata": {},
   "outputs": [],
   "source": []
  },
  {
   "cell_type": "code",
   "execution_count": 3,
   "metadata": {},
   "outputs": [],
   "source": [
    "# path to save figures\n",
    "path = 'figures/ex2-knn/'\n",
    "# read training data\n",
    "X_train_df = pd.read_fwf('X_train.txt', header=None)\n",
    "y_train_df = pd.read_csv('y_train.txt', header=None)\n",
    "# read test data\n",
    "X_test_df = pd.read_fwf('X_test.txt', header=None)\n",
    "y_test_df = pd.read_csv('y_test.txt', header=None)"
   ]
  },
  {
   "cell_type": "code",
   "execution_count": 4,
   "metadata": {},
   "outputs": [],
   "source": [
    "# convert DataFrame to NumPy array\n",
    "X_train_raw = X_train_df.to_numpy()\n",
    "X_test_raw = X_test_df.to_numpy()\n",
    "y_train_raw = y_train_df.to_numpy()\n",
    "y_test_raw = y_test_df.to_numpy()"
   ]
  },
  {
   "cell_type": "code",
   "execution_count": 5,
   "metadata": {},
   "outputs": [],
   "source": [
    "enc = OneHotEncoder(categories='auto')\n",
    "enc.fit(y_train_raw)\n",
    "def one_hot_encoder(y):\n",
    "    return enc.transform(y).toarray()\n",
    "def one_hot_decoder(y):\n",
    "    return enc.inverse_transform(y)"
   ]
  },
  {
   "cell_type": "code",
   "execution_count": 6,
   "metadata": {},
   "outputs": [],
   "source": [
    "# data standardization: x' = (x - u) / s\n",
    "scaler = StandardScaler()\n",
    "#----------------------------\n",
    "# join X_train and X_test\n",
    "X_set_raw = np.append(X_train_raw, X_test_raw, axis=0)\n",
    "# perform standardization with x data\n",
    "scaler.fit(X_set_raw)\n",
    "X_set = scaler.transform(X_set_raw)\n",
    "# split X data again in train and test\n",
    "X_train = X_set[:7352,:]\n",
    "X_test = X_set[7352:,:]"
   ]
  },
  {
   "cell_type": "code",
   "execution_count": 7,
   "metadata": {},
   "outputs": [],
   "source": [
    "# one-hot encoding\n",
    "y_train = one_hot_encoder(y_train_df)\n",
    "y_test = one_hot_encoder(y_test_df)"
   ]
  },
  {
   "cell_type": "code",
   "execution_count": null,
   "metadata": {},
   "outputs": [],
   "source": []
  },
  {
   "cell_type": "code",
   "execution_count": 8,
   "metadata": {},
   "outputs": [],
   "source": [
    "#----------------------------\n",
    "# training\n",
    "#----------------------------\n",
    "x = X_train\n",
    "y = y_train"
   ]
  },
  {
   "cell_type": "markdown",
   "metadata": {},
   "source": [
    "Minkowski distance:\n",
    "\n",
    "$ \\displaystyle d(x,y) = \\left( \\sum_{i=1}^{K} |x_i - y_i|^p \\right)^{1/p}$\n",
    "\n",
    "For $p = 2$, we have the Euclidian distance:\n",
    "\n",
    "$ \\displaystyle d(x,y) = \\sqrt{\\sum_{i=1}^{K} |x_i - y_i|^2}$"
   ]
  },
  {
   "cell_type": "code",
   "execution_count": 9,
   "metadata": {},
   "outputs": [],
   "source": [
    "# size of training set\n",
    "N = X_train.shape[0]\n",
    "# size of test set\n",
    "M = X_test.shape[0]\n",
    "# number of features\n",
    "K = X_train.shape[1]\n",
    "# number of classes\n",
    "C = len(enc.categories_[0])"
   ]
  },
  {
   "cell_type": "markdown",
   "metadata": {},
   "source": [
    "$dist$ shape: (M x N)\n",
    "<br>\n",
    "\n",
    "$ \\displaystyle \n",
    "dist = \\begin{bmatrix}\n",
    "    d(x_{T_0},x_{D_0}) & d(x_{T_0},x_{D_1}) &   ...  & d(x_{T_0},x_{D_N}) \\\\ \n",
    "    d(x_{T_1},x_{D_0}) & d(x_{T_1},x_{D_1}) &   ...  & d(x_{T_1},x_{D_N}) \\\\ \n",
    "           \\vdots      &       \\vdots       & \\ddots &        \\vdots      \\\\\n",
    "    d(x_{T_M},x_{D_0}) & d(x_{T_M},x_{D_1}) &   ...  & d(x_{T_M},x_{D_N}) \\\\ \n",
    "\\end{bmatrix} $\n",
    "\n",
    "Where:\n",
    "* $x_{T_M}$ is the M$^{th}$ sample of training set\n",
    "* $x_{D_N}$ is the N$^{th}$ sample of data set\n",
    "* $d(x_{T_M},x_{D_N})$ is the Minkowski distance between the points $x_{T_M}$ and $x_{D_N}$"
   ]
  },
  {
   "cell_type": "code",
   "execution_count": 21,
   "metadata": {},
   "outputs": [],
   "source": [
    "# inputs: x, y --> 2D-arrays (N x K)\n",
    "# output: dist --> 2D-array (N x 1)\n",
    "def minkowski_distance(x, y, p):\n",
    "    power = np.power((x - y), p)\n",
    "    dist = np.power( np.sum(power, axis=1), 1/p )\n",
    "    return dist.reshape(N,1).T"
   ]
  },
  {
   "cell_type": "code",
   "execution_count": 11,
   "metadata": {},
   "outputs": [],
   "source": [
    "dist = np.zeros(shape=(M,N))"
   ]
  },
  {
   "cell_type": "code",
   "execution_count": 12,
   "metadata": {},
   "outputs": [
    {
     "data": {
      "text/plain": [
       "(2947, 7352)"
      ]
     },
     "execution_count": 12,
     "metadata": {},
     "output_type": "execute_result"
    }
   ],
   "source": [
    "dist.shape"
   ]
  },
  {
   "cell_type": "code",
   "execution_count": 64,
   "metadata": {},
   "outputs": [],
   "source": [
    "# inputs:\n",
    "#   - x_test: 2D-array (N x K)\n",
    "#   - x_train: 2D-array (M x K)\n",
    "#   - p: order of Minkowski distance (scalar)\n",
    "# output: \n",
    "#   - dist: 2D-array (? x ?)\n",
    "def knn(x_test, x_train, p):\n",
    "    # define constants\n",
    "    N = x_train.shape[0]            # size of training set\n",
    "    M = x_test.shape[0]             # size of test set\n",
    "    K = x_train.shape[1]            # number of features\n",
    "    dist = np.zeros(shape=(M,N))\n",
    "    #----------------------------\n",
    "    for M in range(M):\n",
    "        # create an array (N x K) with rows being the copy of x_test[j]\n",
    "        copy = np.repeat(x_test[M], N, axis=0).reshape(N,K)\n",
    "        dist[M] = minkowski_distance(x_test[M], x_train, 2)\n",
    "    return dist"
   ]
  },
  {
   "cell_type": "code",
   "execution_count": 174,
   "metadata": {},
   "outputs": [
    {
     "data": {
      "text/plain": [
       "(5, 7352)"
      ]
     },
     "execution_count": 174,
     "metadata": {},
     "output_type": "execute_result"
    }
   ],
   "source": [
    "D = knn(X_test[0:5], X_train, 2)\n",
    "knn(X_test[0:5], X_train, 2).shape"
   ]
  },
  {
   "cell_type": "code",
   "execution_count": 182,
   "metadata": {},
   "outputs": [],
   "source": [
    "# define neighbors\n",
    "KN = 3"
   ]
  },
  {
   "cell_type": "code",
   "execution_count": 189,
   "metadata": {},
   "outputs": [
    {
     "data": {
      "text/plain": [
       "(5, 3)"
      ]
     },
     "execution_count": 189,
     "metadata": {},
     "output_type": "execute_result"
    }
   ],
   "source": [
    "#index = np.argpartition(D, -KN, axis=0)\n",
    "index = np.argpartition(D, -KN, axis=0)[:,-KN:]\n",
    "index.shape\n",
    "#class = y[index]"
   ]
  },
  {
   "cell_type": "code",
   "execution_count": null,
   "metadata": {},
   "outputs": [],
   "source": []
  },
  {
   "cell_type": "code",
   "execution_count": null,
   "metadata": {},
   "outputs": [],
   "source": []
  },
  {
   "cell_type": "code",
   "execution_count": null,
   "metadata": {},
   "outputs": [],
   "source": []
  },
  {
   "cell_type": "code",
   "execution_count": null,
   "metadata": {},
   "outputs": [],
   "source": []
  },
  {
   "cell_type": "code",
   "execution_count": 18,
   "metadata": {},
   "outputs": [],
   "source": [
    "error = []"
   ]
  },
  {
   "cell_type": "code",
   "execution_count": null,
   "metadata": {},
   "outputs": [],
   "source": [
    "w, e = train(x, y, w, alpha=1e-6, tolerance=0.025)\n",
    "error.append(e)"
   ]
  },
  {
   "cell_type": "code",
   "execution_count": 436,
   "metadata": {},
   "outputs": [
    {
     "data": {
      "image/png": "[encoded data removed]",
      "text/plain": [
       "<Figure size 432x288 with 1 Axes>"
      ]
     },
     "metadata": {
      "needs_background": "light"
     },
     "output_type": "display_data"
    }
   ],
   "source": [
    "# plots\n",
    "plt.plot(error)\n",
    "plt.xlabel('Epochs')\n",
    "plt.ylabel('zero-one loss')\n",
    "plt.autoscale(axis='x', tight=True)\n",
    "plt.title('Progression of loss while training')\n",
    "plt.grid(True)\n",
    "plt.savefig(path + 'zero_one_loss', dpi=300)\n",
    "plt.show()"
   ]
  },
  {
   "cell_type": "code",
   "execution_count": null,
   "metadata": {},
   "outputs": [],
   "source": []
  },
  {
   "cell_type": "code",
   "execution_count": 376,
   "metadata": {},
   "outputs": [],
   "source": [
    "#----------------------------\n",
    "# test set\n",
    "#----------------------------"
   ]
  },
  {
   "cell_type": "code",
   "execution_count": 377,
   "metadata": {},
   "outputs": [],
   "source": [
    "x = X_test\n",
    "y = y_test\n",
    "# create phi matrix\n",
    "phi = np.insert(x, 0, [1], axis=1)\n",
    "ŷ = softmax(phi,w)"
   ]
  },
  {
   "cell_type": "code",
   "execution_count": 385,
   "metadata": {},
   "outputs": [
    {
     "data": {
      "text/plain": [
       "(99.0, 0.033593484899898204)"
      ]
     },
     "execution_count": 385,
     "metadata": {},
     "output_type": "execute_result"
    }
   ],
   "source": [
    "zero_one_loss(y, max_pooling(ŷ))"
   ]
  },
  {
   "cell_type": "code",
   "execution_count": 386,
   "metadata": {},
   "outputs": [
    {
     "data": {
      "text/plain": [
       "array([[490,   4,   2,   0,   0,   0],\n",
       "       [  5, 462,   2,   0,   2,   0],\n",
       "       [  2,   3, 415,   0,   0,   0],\n",
       "       [  0,   1,   0, 451,  39,   0],\n",
       "       [  0,   0,   0,  38, 494,   0],\n",
       "       [  0,   0,   1,   0,   0, 536]])"
      ]
     },
     "execution_count": 386,
     "metadata": {},
     "output_type": "execute_result"
    }
   ],
   "source": [
    "ŷ_dec = one_hot_decoder(max_pooling(ŷ))\n",
    "confusion_matrix(y_test_raw, ŷ_dec)"
   ]
  }
 ],
 "metadata": {
  "kernelspec": {
   "display_name": "Python 3",
   "language": "python",
   "name": "python3"
  },
  "language_info": {
   "codemirror_mode": {
    "name": "ipython",
    "version": 3
   },
   "file_extension": ".py",
   "mimetype": "text/x-python",
   "name": "python",
   "nbconvert_exporter": "python",
   "pygments_lexer": "ipython3",
   "version": "3.7.4"
  }
 },
 "nbformat": 4,
 "nbformat_minor": 4
}
