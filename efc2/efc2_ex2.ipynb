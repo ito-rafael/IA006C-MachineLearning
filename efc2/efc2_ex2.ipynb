{
 "cells": [
  {
   "cell_type": "code",
   "execution_count": 1,
   "metadata": {
    "collapsed": false,
    "jupyter": {
     "outputs_hidden": false
    }
   },
   "outputs": [],
   "source": [
    "#----------------------------\n",
    "# import libraries\n",
    "#----------------------------\n",
    "import numpy as np\n",
    "import pandas as pd\n",
    "from matplotlib import pyplot as plt\n",
    "#import sklearn\n",
    "from sklearn.utils import shuffle\n",
    "from sklearn.preprocessing import StandardScaler\n",
    "from sklearn.metrics import confusion_matrix\n",
    "from sklearn.metrics import roc_curve\n",
    "from sklearn.metrics import f1_score\n",
    "from sklearn.metrics import accuracy_score"
   ]
  },
  {
   "cell_type": "code",
   "execution_count": 2,
   "metadata": {
    "collapsed": false,
    "jupyter": {
     "outputs_hidden": false
    }
   },
   "outputs": [],
   "source": [
    "def reserve_test_set(df, ratio):\n",
    "    # shuffle array\n",
    "    df = shuffle(df)\n",
    "    # calculate number of samples in test set\n",
    "    N = round( ratio * df.shape[0] )\n",
    "    # split dataframe\n",
    "    test_set = df.iloc[:N, :]\n",
    "    df = df.iloc[N:, :]\n",
    "    return test_set, df"
   ]
  },
  {
   "cell_type": "code",
   "execution_count": 291,
   "metadata": {},
   "outputs": [],
   "source": [
    "# path to save figures\n",
    "path = 'figures/ex2/'\n",
    "# read training data\n",
    "X_train_df = pd.read_fwf('X_train.txt', header=None)\n",
    "y_train_df = pd.read_csv('y_train.txt')\n",
    "# read test data\n",
    "X_test_df = pd.read_fwf('X_test.txt', header=None)\n",
    "y_test_df = pd.read_csv('y_test.txt')"
   ]
  },
  {
   "cell_type": "code",
   "execution_count": 292,
   "metadata": {},
   "outputs": [],
   "source": [
    "# convert DataFrame to NumPy array\n",
    "X_train = X_train_df.to_numpy()\n",
    "X_test = X_test_df.to_numpy()\n",
    "y_train_raw = y_train_df.to_numpy()\n",
    "y_test_raw = y_test_df.to_numpy()"
   ]
  },
  {
   "cell_type": "markdown",
   "metadata": {},
   "source": [
    "**output** <br>\n",
    "1 – caminhada <br>\n",
    "2 – subindo escadas <br>\n",
    "3 – descendo escadas <br>\n",
    "4 – sentado <br>\n",
    "5 – em pé <br>\n",
    "6 – deitado <br>\n",
    "<br>\n",
    "**one-hot enconding** <br>\n",
    "[1 0 0 0 0 0]$^T$: walking <br>\n",
    "[0 1 0 0 0 0]$^T$: climbing stairs <br>\n",
    "[0 0 1 0 0 0]$^T$: going down stairs <br>\n",
    "[0 0 0 1 0 0]$^T$: seated <br>\n",
    "[0 0 0 0 1 0]$^T$: standing <br>\n",
    "[0 0 0 0 0 1]$^T$: lying <br>\n"
   ]
  },
  {
   "cell_type": "code",
   "execution_count": 171,
   "metadata": {},
   "outputs": [],
   "source": [
    "from sklearn.preprocessing import OneHotEncoder"
   ]
  },
  {
   "cell_type": "code",
   "execution_count": 172,
   "metadata": {},
   "outputs": [],
   "source": [
    "enc = OneHotEncoder(categories='auto')\n",
    "enc.fit(y_train)\n",
    "def one_hot_encoder(y):\n",
    "    return enc.transform(y).toarray()\n",
    "def one_hot_decoder(y):\n",
    "    return enc.inverse_transform(y)"
   ]
  },
  {
   "cell_type": "code",
   "execution_count": 293,
   "metadata": {},
   "outputs": [],
   "source": [
    "# one-hot encoding\n",
    "y_train = one_hot_encoder(y_train_df)\n",
    "y_test = one_hot_encoder(y_test_df)"
   ]
  },
  {
   "cell_type": "code",
   "execution_count": null,
   "metadata": {},
   "outputs": [],
   "source": []
  },
  {
   "cell_type": "code",
   "execution_count": 175,
   "metadata": {},
   "outputs": [],
   "source": [
    "# size of dataset\n",
    "N = X_test.shape[0]\n",
    "# number of features\n",
    "K = X_test.shape[1]\n",
    "# number of classes\n",
    "C = len(enc.categories_[0])"
   ]
  },
  {
   "cell_type": "code",
   "execution_count": null,
   "metadata": {},
   "outputs": [],
   "source": []
  },
  {
   "cell_type": "code",
   "execution_count": 176,
   "metadata": {},
   "outputs": [],
   "source": [
    "# w = [ w0(0) w0(1) ... w0(C)]\n",
    "#     [ w1(0) w1(1) ... w1(C)]\n",
    "#     [ ...    ...  ...  ... ]\n",
    "#     [ wK(0) wK(1) ... wK(C)]\n",
    "\n",
    "\n",
    "# phi: (N x K)\n",
    "#   w: (K x C)\n",
    "\n",
    "# (phi @ w): (N x C) --> expoentes para softmax"
   ]
  },
  {
   "cell_type": "code",
   "execution_count": 282,
   "metadata": {},
   "outputs": [],
   "source": [
    "# create weights matrix\n",
    "w = np.random.rand(K+1, C)\n",
    "# create phi matrix\n",
    "phi = np.insert(X_train, 0, [1], axis=1)"
   ]
  },
  {
   "cell_type": "code",
   "execution_count": 286,
   "metadata": {},
   "outputs": [],
   "source": [
    "def softmax(phi, w):\n",
    "    # exponent matrix --> (phi @ w)\n",
    "    exp_matrix = phi @ w\n",
    "    # terms of exponent matrix --> exp(phi @ w)\n",
    "    numerator = np.exp(exp_matrix)\n",
    "    # sum of terms in exponent matrix --> exp(phi@w0) + ... + exp(phi@wK)\n",
    "    # denominator of softmax function\n",
    "    sum_numerator = np.sum(numerator, axis=1).reshape(-1,1)\n",
    "    # copy sum (Nx1) in (K+1) columns\n",
    "    denominator = np.repeat(sum_numerator, C, axis=1)\n",
    "    # calculate softmax\n",
    "    ŷ = numerator/denominator\n",
    "    return ŷ"
   ]
  },
  {
   "cell_type": "code",
   "execution_count": 295,
   "metadata": {},
   "outputs": [],
   "source": [
    "#gradient = (y - ŷ)"
   ]
  },
  {
   "cell_type": "code",
   "execution_count": null,
   "metadata": {},
   "outputs": [],
   "source": []
  },
  {
   "cell_type": "code",
   "execution_count": 500,
   "metadata": {
    "collapsed": false,
    "jupyter": {
     "outputs_hidden": false
    }
   },
   "outputs": [],
   "source": [
    "# dataframe to numpy\n",
    "features = df.to_numpy()"
   ]
  },
  {
   "cell_type": "code",
   "execution_count": 501,
   "metadata": {},
   "outputs": [],
   "source": [
    "# split data according to the label\n",
    "df_male = df[df['label'] == 1]\n",
    "df_female = df[df['label'] == 0]"
   ]
  },
  {
   "cell_type": "code",
   "execution_count": 502,
   "metadata": {
    "collapsed": false,
    "jupyter": {
     "outputs_hidden": false
    }
   },
   "outputs": [],
   "source": [
    "ratio = 0.2\n",
    "# shuffle and reserve set for test\n",
    "df_test_female, df_female = reserve_test_set(df_female, ratio)\n",
    "df_test_male, df_male = reserve_test_set(df_male, ratio)"
   ]
  },
  {
   "cell_type": "code",
   "execution_count": 503,
   "metadata": {
    "collapsed": false,
    "jupyter": {
     "outputs_hidden": false
    }
   },
   "outputs": [],
   "source": [
    "# concatenate and shuffle test set\n",
    "df_test_set = [df_test_male, df_test_female]\n",
    "df_test_set = pd.concat(df_test_set)\n",
    "df_test_set = shuffle(df_test_set)"
   ]
  },
  {
   "cell_type": "code",
   "execution_count": 504,
   "metadata": {
    "collapsed": false,
    "jupyter": {
     "outputs_hidden": false
    }
   },
   "outputs": [],
   "source": [
    "# concatenate and shuffle test set\n",
    "df_train_set = [df_male, df_female]\n",
    "df_train_set = pd.concat(df_train_set)\n",
    "df_train_set = shuffle(df_train_set)"
   ]
  },
  {
   "cell_type": "code",
   "execution_count": 505,
   "metadata": {
    "collapsed": false,
    "jupyter": {
     "outputs_hidden": false
    }
   },
   "outputs": [],
   "source": [
    "# data standardization: x' = (x - u) / s\n",
    "scaler = StandardScaler()\n",
    "#-------------------\n",
    "# in training set\n",
    "#-------------------\n",
    "# remove column 'label' from x data\n",
    "df_train_set_x = df_train_set.drop('label', axis=1)\n",
    "# define column 'label' as output y\n",
    "df_train_set_y = df_train_set.loc[:,'label']\n",
    "# perform standardization with x data\n",
    "scaler.fit(df_train_set_x)\n",
    "train_set = scaler.transform(df_train_set_x)\n",
    "#-------------------\n",
    "# in test set\n",
    "#-------------------\n",
    "# remove column 'label' from x data\n",
    "df_test_set_x = df_test_set.drop('label', axis=1)\n",
    "# define column 'label' as output y\n",
    "df_test_set_y = df_test_set.loc[:,'label']\n",
    "# perform standardization with x data\n",
    "scaler.fit(df_test_set_x)\n",
    "test_set = scaler.transform(df_test_set_x)"
   ]
  },
  {
   "cell_type": "code",
   "execution_count": 507,
   "metadata": {},
   "outputs": [],
   "source": [
    "def logistic_function(x):\n",
    "    N = x.shape[0]\n",
    "    ŷ = np.zeros(shape=(N,1))\n",
    "    for i in range(N):\n",
    "        ŷ[i] = 1 / (1 + np.exp(x[i]))\n",
    "    return ŷ"
   ]
  },
  {
   "cell_type": "code",
   "execution_count": 508,
   "metadata": {},
   "outputs": [],
   "source": [
    "def iterate(x, y, N, phi, w, alpha):\n",
    "    # calculate estimated output\n",
    "    ŷ = logistic_function(- phi @ w)\n",
    "    # calculate gradient\n",
    "    error = y - ŷ\n",
    "    gradient = -1/N * (error.T @ phi)\n",
    "    # calculate RMSE\n",
    "    rmse = np.mean(error * error)\n",
    "    w = w - (alpha * gradient.T)\n",
    "    return w, rmse"
   ]
  },
  {
   "cell_type": "code",
   "execution_count": 509,
   "metadata": {},
   "outputs": [],
   "source": [
    "def train(x, y, alpha=1e-2, tolerance=1e-4):\n",
    "    # alpha: step size\n",
    "    # tolerance: stop criteria\n",
    "    #-----------------------------\n",
    "    # create weights array randomly\n",
    "    w = np.random.rand(x.shape[1]+1)\n",
    "    w = w.reshape(1,len(w)).T\n",
    "    # arrays initialization\n",
    "    N = x.shape[0]\n",
    "    phi = np.insert(x, 0, [1], axis=1)\n",
    "    e = []\n",
    "    #-----------------------------\n",
    "    # run algorithm first time\n",
    "    w, rmse = iterate(x, y, N, phi, w, alpha)\n",
    "    diff = rmse\n",
    "    e.append(rmse)\n",
    "    #-----------------------------\n",
    "    # iterate until convergence\n",
    "    while (diff > tolerance):\n",
    "        w, rmse = iterate(x, y, N, phi, w, alpha)\n",
    "        diff = e[-1] - rmse\n",
    "        e.append(rmse)\n",
    "    #-----------------------------        \n",
    "    return w, e"
   ]
  },
  {
   "cell_type": "code",
   "execution_count": 510,
   "metadata": {},
   "outputs": [],
   "source": [
    "def predict_class(ŷ, threshold):\n",
    "    for i in range(len(ŷ)):\n",
    "        if (ŷ[i] > threshold):\n",
    "            ŷ_final[i] = 1\n",
    "        else:\n",
    "            ŷ_final[i] = 0\n",
    "    return ŷ_final"
   ]
  },
  {
   "cell_type": "code",
   "execution_count": null,
   "metadata": {},
   "outputs": [],
   "source": []
  },
  {
   "cell_type": "code",
   "execution_count": 511,
   "metadata": {},
   "outputs": [],
   "source": [
    "# prepare input and output of model for training set\n",
    "y = pd.DataFrame.to_numpy(df_train_set_y)\n",
    "y = y.reshape(len(y),1)\n",
    "x = train_set"
   ]
  },
  {
   "cell_type": "code",
   "execution_count": 512,
   "metadata": {},
   "outputs": [],
   "source": [
    "w, error = train(x, y, tolerance=1e-7)"
   ]
  },
  {
   "cell_type": "code",
   "execution_count": 529,
   "metadata": {},
   "outputs": [
    {
     "data": {
      "image/png": "[encoded data removed]",
      "text/plain": [
       "<Figure size 432x288 with 1 Axes>"
      ]
     },
     "metadata": {
      "needs_background": "light"
     },
     "output_type": "display_data"
    }
   ],
   "source": [
    "plt.plot(error)\n",
    "plt.xlabel('Epochs')\n",
    "plt.ylabel('Error')\n",
    "plt.grid(True)\n",
    "plt.autoscale(axis='x', tight=True)"
   ]
  },
  {
   "cell_type": "code",
   "execution_count": null,
   "metadata": {},
   "outputs": [],
   "source": []
  },
  {
   "cell_type": "code",
   "execution_count": 530,
   "metadata": {},
   "outputs": [],
   "source": [
    "# prepare input and output of model for test set\n",
    "y = pd.DataFrame.to_numpy(df_test_set_y)\n",
    "y = y.reshape(len(y),1)\n",
    "x = test_set"
   ]
  },
  {
   "cell_type": "code",
   "execution_count": 531,
   "metadata": {},
   "outputs": [],
   "source": [
    "# form phi matrix\n",
    "phi = np.insert(x, 0, [1], axis=1)\n",
    "N = x.shape[0]\n",
    "# estimated output\n",
    "ŷ = logistic_function(- phi @ w)"
   ]
  },
  {
   "cell_type": "code",
   "execution_count": 532,
   "metadata": {},
   "outputs": [],
   "source": [
    "fpr, tpr, thresholds = roc_curve(y, ŷ)"
   ]
  },
  {
   "cell_type": "code",
   "execution_count": 533,
   "metadata": {},
   "outputs": [
    {
     "data": {
      "image/png": "[encoded data removed]",
      "text/plain": [
       "<Figure size 432x288 with 1 Axes>"
      ]
     },
     "metadata": {
      "needs_background": "light"
     },
     "output_type": "display_data"
    }
   ],
   "source": [
    "# plot curves\n",
    "lin = np.linspace(0,1,1001)\n",
    "plt.plot(fpr, tpr)\n",
    "plt.plot(lin, lin, 'r--')\n",
    "# labels\n",
    "from matplotlib import rc\n",
    "plt.xlabel('$p_e^-(ŷ(x))$')\n",
    "plt.ylabel('Recall(ŷ(x))')\n",
    "# title\n",
    "plt.title('ROC curve')\n",
    "# adjust plot\n",
    "plt.grid(True)\n",
    "plt.autoscale(axis='x', tight=True)\n",
    "plt.autoscale(axis='y', tight=True)\n",
    "plt.savefig(path + 'ROC', dpi=300)\n",
    "plt.show()"
   ]
  },
  {
   "cell_type": "code",
   "execution_count": null,
   "metadata": {},
   "outputs": [],
   "source": []
  },
  {
   "cell_type": "code",
   "execution_count": 551,
   "metadata": {},
   "outputs": [],
   "source": [
    "F_score = []\n",
    "threshold = np.linspace(0,1,1001)\n",
    "for i in threshold:\n",
    "    output = predict_class(ŷ, i)\n",
    "    F_score.append(f1_score(y, output))"
   ]
  },
  {
   "cell_type": "code",
   "execution_count": 552,
   "metadata": {},
   "outputs": [
    {
     "data": {
      "image/png": "[encoded data removed]",
      "text/plain": [
       "<Figure size 432x288 with 1 Axes>"
      ]
     },
     "metadata": {
      "needs_background": "light"
     },
     "output_type": "display_data"
    }
   ],
   "source": [
    "# plot curves\n",
    "plt.plot(threshold, F_score)\n",
    "# axis labels\n",
    "plt.xlabel('threshold')\n",
    "plt.ylabel('$F_1$')\n",
    "# title\n",
    "plt.title('$F_1$ score')\n",
    "# adjust plot\n",
    "plt.grid(True)\n",
    "plt.autoscale(axis='x', tight=True)\n",
    "plt.savefig(path + 'F1_score', dpi=300)\n",
    "plt.show()"
   ]
  },
  {
   "cell_type": "code",
   "execution_count": 553,
   "metadata": {},
   "outputs": [
    {
     "name": "stdout",
     "output_type": "stream",
     "text": [
      "threshold for maximum F1 score = 0.631\n",
      "F1 score max = 0.9745222929936306\n"
     ]
    }
   ],
   "source": [
    "index = F_score.index(max(F_score))\n",
    "print('threshold for maximum F1 score =', threshold[index])\n",
    "print('F1 score max =', F_score[index])"
   ]
  },
  {
   "cell_type": "code",
   "execution_count": 554,
   "metadata": {},
   "outputs": [
    {
     "data": {
      "image/png": "[encoded data removed]",
      "text/plain": [
       "<Figure size 432x288 with 1 Axes>"
      ]
     },
     "metadata": {
      "needs_background": "light"
     },
     "output_type": "display_data"
    }
   ],
   "source": [
    "# plots\n",
    "plt.plot(threshold[max(0,index-100):min(len(F_score)-1,index+100)], F_score[max(0,index-100):min(len(F_score)-1,index+100)])\n",
    "# axis label\n",
    "plt.xlabel('threshold')\n",
    "plt.ylabel('$F_1$ score')\n",
    "# axis adjust\n",
    "plt.autoscale(axis='x', tight=True)\n",
    "# title\n",
    "plt.title('$F_1$ score (zoom)')\n",
    "# add grid\n",
    "plt.grid(True)\n",
    "plt.savefig(path + 'F1_score_zoom', dpi=300)\n",
    "plt.show()"
   ]
  },
  {
   "cell_type": "code",
   "execution_count": 555,
   "metadata": {},
   "outputs": [
    {
     "data": {
      "text/plain": [
       "array([[312,   5],\n",
       "       [ 11, 306]])"
      ]
     },
     "execution_count": 555,
     "metadata": {},
     "output_type": "execute_result"
    }
   ],
   "source": [
    "ŷ_final = predict_class(ŷ, threshold[index])\n",
    "confusion_matrix(y, ŷ_final)"
   ]
  },
  {
   "cell_type": "code",
   "execution_count": 556,
   "metadata": {},
   "outputs": [
    {
     "data": {
      "text/plain": [
       "0.9747634069400631"
      ]
     },
     "execution_count": 556,
     "metadata": {},
     "output_type": "execute_result"
    }
   ],
   "source": [
    "accuracy_score(y, ŷ_final)"
   ]
  }
 ],
 "metadata": {
  "kernelspec": {
   "display_name": "Python 3",
   "language": "python",
   "name": "python3"
  },
  "language_info": {
   "codemirror_mode": {
    "name": "ipython",
    "version": 3
   },
   "file_extension": ".py",
   "mimetype": "text/x-python",
   "name": "python",
   "nbconvert_exporter": "python",
   "pygments_lexer": "ipython3",
   "version": "3.7.4"
  }
 },
 "nbformat": 4,
 "nbformat_minor": 4
}
