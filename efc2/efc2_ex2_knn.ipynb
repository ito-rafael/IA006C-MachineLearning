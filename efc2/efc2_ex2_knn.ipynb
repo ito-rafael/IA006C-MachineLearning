{
 "cells": [
  {
   "cell_type": "code",
   "execution_count": 1,
   "metadata": {
    "jupyter": {
     "outputs_hidden": false
    }
   },
   "outputs": [],
   "source": [
    "#----------------------------\n",
    "# import libraries\n",
    "#----------------------------\n",
    "import numpy as np\n",
    "import pandas as pd\n",
    "from matplotlib import pyplot as plt\n",
    "# scikit-learn\n",
    "from sklearn.utils import shuffle\n",
    "from sklearn.preprocessing import StandardScaler\n",
    "from sklearn.preprocessing import OneHotEncoder\n",
    "from sklearn.metrics import confusion_matrix\n",
    "from sklearn.metrics import roc_curve\n",
    "from sklearn.metrics import f1_score\n",
    "from sklearn.metrics import accuracy_score\n",
    "#----------------------------\n",
    "#use fixed point notation\n",
    "np.set_printoptions(suppress=True)"
   ]
  },
  {
   "cell_type": "markdown",
   "metadata": {},
   "source": [
    "**output** <br>\n",
    "1 – caminhada <br>\n",
    "2 – subindo escadas <br>\n",
    "3 – descendo escadas <br>\n",
    "4 – sentado <br>\n",
    "5 – em pé <br>\n",
    "6 – deitado <br>\n",
    "<br>\n",
    "**one-hot enconding** <br>\n",
    "[1 0 0 0 0 0]$^T$: walking <br>\n",
    "[0 1 0 0 0 0]$^T$: climbing stairs <br>\n",
    "[0 0 1 0 0 0]$^T$: going down stairs <br>\n",
    "[0 0 0 1 0 0]$^T$: seated <br>\n",
    "[0 0 0 0 1 0]$^T$: standing <br>\n",
    "[0 0 0 0 0 1]$^T$: lying <br>\n"
   ]
  },
  {
   "cell_type": "code",
   "execution_count": 2,
   "metadata": {},
   "outputs": [],
   "source": [
    "# inputs: y_true, y_pred --> 2D-arrays (N x K)\n",
    "# output: loss --> zero-one loss (scalar)\n",
    "def zero_one_loss(y_true, y_pred):\n",
    "    diff = (y_true - y_pred)\n",
    "    # if class is right, row has only zeros\n",
    "    # if class is wrong, real and predicted colums have values 0.5\n",
    "    half = (diff * diff) / 2\n",
    "    # sum rows\n",
    "    row_sum = np.sum(half, axis=1)\n",
    "    error = np.sum(row_sum)\n",
    "    loss = error / len(y_true)\n",
    "    return loss"
   ]
  },
  {
   "cell_type": "code",
   "execution_count": 3,
   "metadata": {},
   "outputs": [],
   "source": [
    "def max_pooling(y):\n",
    "    # add one because output must go from 1 to 6\n",
    "    y = np.argmax(y, axis=1) + 1\n",
    "    y = y.reshape(-1,1)\n",
    "    y = one_hot_encoder(y)\n",
    "    return y"
   ]
  },
  {
   "cell_type": "markdown",
   "metadata": {},
   "source": [
    "Minkowski distance:\n",
    "\n",
    "$ \\displaystyle d(x,y) = \\left( \\sum_{i=1}^{K} |x_i - y_i|^p \\right)^{1/p}$\n",
    "\n",
    "For $p = 2$, we have the Euclidian distance:\n",
    "\n",
    "$ \\displaystyle d(x,y) = \\sqrt{\\sum_{i=1}^{K} |x_i - y_i|^2}$"
   ]
  },
  {
   "cell_type": "code",
   "execution_count": 4,
   "metadata": {},
   "outputs": [],
   "source": [
    "# inputs: x, y --> 2D-arrays (N x K)\n",
    "# output: dist --> 2D-array (N x 1)\n",
    "def minkowski_distance(x, y, p):\n",
    "    power = np.power((x - y), p)\n",
    "    dist = np.power( np.sum(power, axis=1), 1/p )\n",
    "    return dist.reshape(N,1).T"
   ]
  },
  {
   "cell_type": "code",
   "execution_count": 5,
   "metadata": {},
   "outputs": [],
   "source": [
    "# inputs:\n",
    "#   - x_test: 2D-array (N x K)\n",
    "#   - x_train: 2D-array (M x K)\n",
    "#   - p: order of Minkowski distance (scalar)\n",
    "# output: \n",
    "#   - dist: 2D-array (M x N)\n",
    "def distance_matrix(x_test, x_train, p):\n",
    "    # size of test set\n",
    "    M = x_test.shape[0]\n",
    "    dist = np.zeros(shape=(M,N))\n",
    "    for M in range(M):\n",
    "        # calculate distances between each data in test set and dataset\n",
    "        dist[M] = minkowski_distance(x_test[M], x_train, 2)\n",
    "    return dist"
   ]
  },
  {
   "cell_type": "code",
   "execution_count": 6,
   "metadata": {},
   "outputs": [],
   "source": [
    "def permutation_array(array, permutation):\n",
    "    sort = np.zeros(shape=array.shape)\n",
    "    for row in range(array.shape[0]):\n",
    "        sort[row] = array[row][permutation[row]]\n",
    "    return sort"
   ]
  },
  {
   "cell_type": "markdown",
   "metadata": {},
   "source": [
    "$D\\_part$: arrays with KN neighbors with smallest distances (M x KN)\n",
    "\n",
    "$I\\_part$: arrays with indexes of KN neighbors with smallest distances (M x KN)\n",
    "\n",
    "$kn\\_out$ shape: (M x KN x C)"
   ]
  },
  {
   "cell_type": "code",
   "execution_count": 7,
   "metadata": {},
   "outputs": [],
   "source": [
    "def knn(y_train, D, KN=100, weights='distance', p=2):\n",
    "    # select array with KN neighbors with smallest distances (UNSORTED)\n",
    "    D_part = np.partition(D, (KN-1))[:,:KN]\n",
    "    I_part = np.argpartition(D, (KN-1))[:,:KN]\n",
    "    #----------------------------\n",
    "    # discover permutation to order D_part\n",
    "    permutation = D_part.argsort()\n",
    "    # apply this permutation to distances and indexes matrix\n",
    "    D_sort = permutation_array(D_part, permutation)\n",
    "    I_sort = permutation_array(I_part, permutation)\n",
    "    I_sort = I_sort.astype(int)\n",
    "    #----------------------------\n",
    "    error = []\n",
    "    for k in range(1,100):\n",
    "        # find indexes of KN smallest distances\n",
    "        index = I_sort[:,:k]\n",
    "        #----------------------------\n",
    "        # uniform weights\n",
    "        if (weights == 'uniform'):\n",
    "            # check the class for these indexes\n",
    "            kn_out = y_train[index]\n",
    "        #----------------------------\n",
    "        # weight points by the inverse of their distance\n",
    "        elif (weights == 'distance'):\n",
    "            kn_out = y_train[index]\n",
    "            w = (1/D_sort[:,:k]).reshape(M,k,1)\n",
    "            kn_out = w * kn_out\n",
    "        #----------------------------\n",
    "        # user-defined function\n",
    "        else:\n",
    "            # input: array of distances\n",
    "            # output: array of the same shape containing the weights\n",
    "            pass\n",
    "        #----------------------------\n",
    "        # sum the KN outputs and decide by majority voting\n",
    "        votes = np.sum(kn_out, axis=1)\n",
    "        ŷ = max_pooling(votes)\n",
    "        # calculate zero-one loss\n",
    "        e = zero_one_loss(y_test,ŷ)\n",
    "        error.append(e)\n",
    "    return error"
   ]
  },
  {
   "cell_type": "code",
   "execution_count": null,
   "metadata": {},
   "outputs": [],
   "source": []
  },
  {
   "cell_type": "code",
   "execution_count": 8,
   "metadata": {},
   "outputs": [],
   "source": [
    "# path to save figures\n",
    "path = 'figures/ex2-knn/'\n",
    "# read training data\n",
    "X_train_df = pd.read_fwf('X_train.txt', header=None)\n",
    "y_train_df = pd.read_csv('y_train.txt', header=None)\n",
    "# read test data\n",
    "X_test_df = pd.read_fwf('X_test.txt', header=None)\n",
    "y_test_df = pd.read_csv('y_test.txt', header=None)"
   ]
  },
  {
   "cell_type": "code",
   "execution_count": 9,
   "metadata": {},
   "outputs": [],
   "source": [
    "# convert DataFrame to NumPy array\n",
    "X_train_raw = X_train_df.to_numpy()\n",
    "X_test_raw = X_test_df.to_numpy()\n",
    "y_train_raw = y_train_df.to_numpy()\n",
    "y_test_raw = y_test_df.to_numpy()"
   ]
  },
  {
   "cell_type": "code",
   "execution_count": 10,
   "metadata": {},
   "outputs": [],
   "source": [
    "enc = OneHotEncoder(categories='auto')\n",
    "enc.fit(y_train_raw)\n",
    "def one_hot_encoder(y):\n",
    "    return enc.transform(y).toarray()\n",
    "def one_hot_decoder(y):\n",
    "    return enc.inverse_transform(y)"
   ]
  },
  {
   "cell_type": "code",
   "execution_count": 11,
   "metadata": {},
   "outputs": [],
   "source": [
    "# data standardization: x' = (x - u) / s\n",
    "scaler = StandardScaler()\n",
    "#----------------------------\n",
    "# join X_train and X_test\n",
    "X_set_raw = np.append(X_train_raw, X_test_raw, axis=0)\n",
    "# perform standardization with x data\n",
    "scaler.fit(X_set_raw)\n",
    "X_set = scaler.transform(X_set_raw)\n",
    "# split X data again in train and test\n",
    "X_train = X_set[:7352,:]\n",
    "X_test = X_set[7352:,:]"
   ]
  },
  {
   "cell_type": "code",
   "execution_count": 12,
   "metadata": {},
   "outputs": [],
   "source": [
    "# one-hot encoding\n",
    "y_train = one_hot_encoder(y_train_df)\n",
    "y_test = one_hot_encoder(y_test_df)"
   ]
  },
  {
   "cell_type": "code",
   "execution_count": null,
   "metadata": {},
   "outputs": [],
   "source": []
  },
  {
   "cell_type": "code",
   "execution_count": 13,
   "metadata": {},
   "outputs": [],
   "source": [
    "# size of training set\n",
    "N = X_train.shape[0]\n",
    "# size of test set\n",
    "M = X_test.shape[0]\n",
    "# number of features\n",
    "K = X_train.shape[1]\n",
    "# number of classes\n",
    "C = len(enc.categories_[0])"
   ]
  },
  {
   "cell_type": "markdown",
   "metadata": {},
   "source": [
    "$D$: distances matrix\n",
    "\n",
    "$D$ shape: (M x N)\n",
    "<br>\n",
    "\n",
    "$ \\displaystyle \n",
    "D = \\begin{bmatrix}\n",
    "    d(x_{T_0},x_{D_0}) & d(x_{T_0},x_{D_1}) &   ...  & d(x_{T_0},x_{D_N}) \\\\ \n",
    "    d(x_{T_1},x_{D_0}) & d(x_{T_1},x_{D_1}) &   ...  & d(x_{T_1},x_{D_N}) \\\\ \n",
    "           \\vdots      &       \\vdots       & \\ddots &        \\vdots      \\\\\n",
    "    d(x_{T_M},x_{D_0}) & d(x_{T_M},x_{D_1}) &   ...  & d(x_{T_M},x_{D_N}) \\\\ \n",
    "\\end{bmatrix} $\n",
    "\n",
    "Where:\n",
    "* $x_{T_M}$ is the M$^{th}$ sample of training set\n",
    "* $x_{D_N}$ is the N$^{th}$ sample of data set\n",
    "* $d(x_{T_M},x_{D_N})$ is the Minkowski distance between the points $x_{T_M}$ and $x_{D_N}$"
   ]
  },
  {
   "cell_type": "code",
   "execution_count": 14,
   "metadata": {},
   "outputs": [],
   "source": [
    "# calculate distances matrix\n",
    "D = distance_matrix(X_test, X_train, 2)"
   ]
  },
  {
   "cell_type": "code",
   "execution_count": 23,
   "metadata": {},
   "outputs": [],
   "source": [
    "# define neighbors\n",
    "KN = 100\n",
    "# training with uniform weights\n",
    "error_uniform = knn(y_train, D, KN, weights='uniform')\n",
    "# training with distance weights\n",
    "error_distance = knn(y_train, D, KN, weights='distance')"
   ]
  },
  {
   "cell_type": "code",
   "execution_count": 24,
   "metadata": {},
   "outputs": [],
   "source": [
    "# # select array with KN neighbors with smallest distances (UNSORTED)\n",
    "# D_part = np.partition(D, (KN-1))[:,:KN]\n",
    "# I_part = np.argpartition(D, (KN-1))[:,:KN]"
   ]
  },
  {
   "cell_type": "code",
   "execution_count": 25,
   "metadata": {},
   "outputs": [],
   "source": [
    "# # discover permutation to order D_part\n",
    "# permutation = D_part.argsort()\n",
    "# # apply this permutation to distances and indexes matrix\n",
    "# D_sort = permutation_array(D_part, permutation)\n",
    "# I_sort = permutation_array(I_part, permutation)\n",
    "# I_sort = I_sort.astype(int)"
   ]
  },
  {
   "cell_type": "code",
   "execution_count": 26,
   "metadata": {},
   "outputs": [],
   "source": [
    "\n",
    "# error_distance = knn(y_train, D, KN, weights='distance')"
   ]
  },
  {
   "cell_type": "code",
   "execution_count": 27,
   "metadata": {},
   "outputs": [],
   "source": [
    "# error = []\n",
    "# #weights = 'uniform'\n",
    "# weights = 'distance'\n",
    "\n",
    "# for k in range(1,100):\n",
    "#     # find indexes of KN smallest distances\n",
    "#     index = I_sort[:,:k]\n",
    "#     #----------------------------\n",
    "#     # uniform weights\n",
    "#     if (weights == 'uniform'):\n",
    "#         # check the class for these indexes\n",
    "#         kn_out = y_train[index]\n",
    "#     #----------------------------\n",
    "#     # weight points by the inverse of their distance\n",
    "#     elif (weights == 'distance'):\n",
    "#         kn_out = y_train[index]\n",
    "#         w = (1/D_sort[:,:k]).reshape(M,k,1)\n",
    "#         kn_out = w * kn_out\n",
    "#     #----------------------------\n",
    "#     # user-defined function\n",
    "#     else:\n",
    "#         # input: array of distances\n",
    "#         # output: array of the same shape containing the weights\n",
    "#         pass\n",
    "#     #----------------------------\n",
    "#     # sum the KN outputs and decide by majority voting\n",
    "#     votes = np.sum(kn_out, axis=1)\n",
    "#     ŷ = max_pooling(votes)\n",
    "#     # calculate zero-one loss\n",
    "#     e = zero_one_loss(y_test,ŷ)\n",
    "#     error.append(e)"
   ]
  },
  {
   "cell_type": "markdown",
   "metadata": {},
   "source": [
    "# Uniform Weights"
   ]
  },
  {
   "cell_type": "code",
   "execution_count": 28,
   "metadata": {},
   "outputs": [
    {
     "data": {
      "image/png": "[encoded data removed]",
      "text/plain": [
       "<Figure size 432x288 with 1 Axes>"
      ]
     },
     "metadata": {
      "needs_background": "light"
     },
     "output_type": "display_data"
    }
   ],
   "source": [
    "# plots\n",
    "plt.plot(range(1,100), error_uniform, 'green')\n",
    "plt.xlabel('K')\n",
    "plt.ylabel('zero-one loss')\n",
    "plt.autoscale(axis='x', tight=True)\n",
    "plt.title('Progression of loss with K')\n",
    "plt.grid(True)\n",
    "plt.savefig(path + 'error_uniform', dpi=300)\n",
    "plt.show()"
   ]
  },
  {
   "cell_type": "code",
   "execution_count": 32,
   "metadata": {},
   "outputs": [
    {
     "name": "stdout",
     "output_type": "stream",
     "text": [
      "k for minimun error (uniform weights) = 12\n"
     ]
    }
   ],
   "source": [
    "k_best_uniform = error_uniform.index(min(error_uniform)) + 1\n",
    "print('k for minimun error (uniform weights) =', k_best_uniform)"
   ]
  },
  {
   "cell_type": "code",
   "execution_count": 36,
   "metadata": {},
   "outputs": [
    {
     "data": {
      "image/png": "[encoded data removed]",
      "text/plain": [
       "<Figure size 432x288 with 1 Axes>"
      ]
     },
     "metadata": {
      "needs_background": "light"
     },
     "output_type": "display_data"
    }
   ],
   "source": [
    "# plots\n",
    "#plt.plot(range(10,15), error[10:15])\n",
    "plt.plot(range(max(1,k_best_uniform-2),min(KN,k_best_uniform+3)), error_uniform[max(1,k_best_uniform-3):min(KN,k_best_uniform+2)], 'green')\n",
    "plt.xlabel('K')\n",
    "plt.ylabel('zero-one loss')\n",
    "plt.autoscale(axis='x', tight=True)\n",
    "plt.title('Progression of loss with K')\n",
    "plt.grid(True)\n",
    "plt.savefig(path + 'error_uniform_(zoom)', dpi=300)\n",
    "plt.show()"
   ]
  },
  {
   "cell_type": "markdown",
   "metadata": {},
   "source": [
    "## Test set classification (uniform weights)"
   ]
  },
  {
   "cell_type": "code",
   "execution_count": null,
   "metadata": {},
   "outputs": [],
   "source": []
  },
  {
   "cell_type": "markdown",
   "metadata": {},
   "source": [
    "# Weights inversely proportional to distance"
   ]
  },
  {
   "cell_type": "code",
   "execution_count": 37,
   "metadata": {},
   "outputs": [
    {
     "data": {
      "image/png": "[encoded data removed]",
      "text/plain": [
       "<Figure size 432x288 with 1 Axes>"
      ]
     },
     "metadata": {
      "needs_background": "light"
     },
     "output_type": "display_data"
    }
   ],
   "source": [
    "# plots\n",
    "plt.plot(range(1,100), error_distance, 'red')\n",
    "plt.xlabel('K')\n",
    "plt.ylabel('zero-one loss')\n",
    "plt.autoscale(axis='x', tight=True)\n",
    "plt.title('Progression of loss with K')\n",
    "plt.grid(True)\n",
    "plt.savefig(path + 'error_distance', dpi=300)\n",
    "plt.show()"
   ]
  },
  {
   "cell_type": "code",
   "execution_count": 38,
   "metadata": {},
   "outputs": [
    {
     "name": "stdout",
     "output_type": "stream",
     "text": [
      "k for minimun error (distance weights) = 16\n"
     ]
    }
   ],
   "source": [
    "k_best_distance = error_distance.index(min(error_distance)) + 1\n",
    "print('k for minimun error (distance weights) =', k_best_distance)"
   ]
  },
  {
   "cell_type": "code",
   "execution_count": 41,
   "metadata": {},
   "outputs": [
    {
     "data": {
      "image/png": "[encoded data removed]",
      "text/plain": [
       "<Figure size 432x288 with 1 Axes>"
      ]
     },
     "metadata": {
      "needs_background": "light"
     },
     "output_type": "display_data"
    }
   ],
   "source": [
    "# plots\n",
    "#plt.plot(range(10,15), error[10:15])\n",
    "plt.plot(range(max(1,k_best_distance-2),min(KN,k_best_distance+3)), error_distance[max(1,k_best_distance-3):min(KN,k_best_distance+2)], 'red')\n",
    "plt.xlabel('K')\n",
    "plt.ylabel('zero-one loss')\n",
    "plt.autoscale(axis='x', tight=True)\n",
    "plt.title('Progression of loss with K')\n",
    "plt.grid(True)\n",
    "plt.savefig(path + 'error_distance_(zoom)', dpi=300)\n",
    "plt.show()"
   ]
  },
  {
   "cell_type": "markdown",
   "metadata": {},
   "source": [
    "## Test set classification (distance weights)"
   ]
  },
  {
   "cell_type": "code",
   "execution_count": null,
   "metadata": {},
   "outputs": [],
   "source": []
  }
 ],
 "metadata": {
  "kernelspec": {
   "display_name": "Python 3",
   "language": "python",
   "name": "python3"
  },
  "language_info": {
   "codemirror_mode": {
    "name": "ipython",
    "version": 3
   },
   "file_extension": ".py",
   "mimetype": "text/x-python",
   "name": "python",
   "nbconvert_exporter": "python",
   "pygments_lexer": "ipython3",
   "version": "3.7.4"
  }
 },
 "nbformat": 4,
 "nbformat_minor": 4
}
