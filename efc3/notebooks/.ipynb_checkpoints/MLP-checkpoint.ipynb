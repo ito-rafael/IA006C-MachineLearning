{
 "cells": [
  {
   "cell_type": "markdown",
   "metadata": {},
   "source": [
    "# Import libraries"
   ]
  },
  {
   "cell_type": "code",
   "execution_count": 3,
   "metadata": {
    "collapsed": false,
    "jupyter": {
     "outputs_hidden": false
    }
   },
   "outputs": [],
   "source": [
    "#----------------------------\n",
    "# import libraries\n",
    "#----------------------------\n",
    "import numpy as np\n",
    "import pandas as pd\n",
    "import seaborn as sns\n",
    "import scipy.io as sio\n",
    "from matplotlib import pyplot as plt\n",
    "#----------------------------\n",
    "# scikit-learn\n",
    "#----------------------------\n",
    "# preprocessing\n",
    "from sklearn.preprocessing import StandardScaler\n",
    "from sklearn.preprocessing import OneHotEncoder\n",
    "# neural network\n",
    "from sklearn.neural_network import MLPClassifier\n",
    "# metrics\n",
    "from sklearn.metrics import confusion_matrix\n",
    "from sklearn.metrics import f1_score\n",
    "from sklearn.metrics import accuracy_score\n",
    "#----------------------------\n",
    "#use fixed point notation\n",
    "np.set_printoptions(suppress=True)"
   ]
  },
  {
   "cell_type": "markdown",
   "metadata": {},
   "source": [
    "# Reading the dataset (.mat file)"
   ]
  },
  {
   "cell_type": "code",
   "execution_count": 4,
   "metadata": {},
   "outputs": [],
   "source": [
    "from os.path import abspath, join\n",
    "# get the root dir ('current_dir/..')\n",
    "root_dir = abspath('..')\n",
    "dataset_dir = join(root_dir, 'dataset')"
   ]
  },
  {
   "cell_type": "code",
   "execution_count": 5,
   "metadata": {},
   "outputs": [],
   "source": [
    "# set dataset files path\n",
    "training_file = join(dataset_dir, 'dados_treinamento.mat')\n",
    "validation_file = join(dataset_dir, 'dados_val.mat')\n",
    "test_file = join(dataset_dir, 'dados_teste.mat')"
   ]
  },
  {
   "cell_type": "code",
   "execution_count": 6,
   "metadata": {},
   "outputs": [],
   "source": [
    "# read mat files\n",
    "training = sio.loadmat(training_file)\n",
    "validation = sio.loadmat(validation_file)\n",
    "test = sio.loadmat(test_file)"
   ]
  },
  {
   "cell_type": "markdown",
   "metadata": {},
   "source": [
    "## Training, validation and test sets"
   ]
  },
  {
   "cell_type": "code",
   "execution_count": 67,
   "metadata": {},
   "outputs": [],
   "source": [
    "# training set\n",
    "X_raw = training['X']\n",
    "y_raw = training['y']\n",
    "y = y_raw.flatten()\n",
    "#----------------------------\n",
    "# validation set\n",
    "Xval_raw = validation['Xval']\n",
    "yval_raw = validation['yval']\n",
    "y = yval_raw.flatten()\n",
    "#----------------------------\n",
    "# test set\n",
    "Xt_raw = test['Xt']\n",
    "yt_raw = test['yt']\n",
    "yt = yt_raw.flatten()"
   ]
  },
  {
   "cell_type": "markdown",
   "metadata": {},
   "source": [
    "# Preprocessing the data"
   ]
  },
  {
   "cell_type": "code",
   "execution_count": 69,
   "metadata": {},
   "outputs": [],
   "source": [
    "# data standardization: x' = (x - u) / s\n",
    "scaler = StandardScaler()\n",
    "# fit only on training + validation set\n",
    "scaler.fit(X_raw + Xval_raw)\n",
    "# perform standardization with x data\n",
    "X = scaler.transform(X_raw)\n",
    "Xval = scaler.transform(Xval_raw)\n",
    "# apply same transformation to test data\n",
    "Xt = scaler.transform(Xt_raw)"
   ]
  },
  {
   "cell_type": "markdown",
   "metadata": {},
   "source": [
    "# Data Visualization"
   ]
  },
  {
   "cell_type": "markdown",
   "metadata": {},
   "source": [
    "## Plotting the result of classification"
   ]
  },
  {
   "cell_type": "code",
   "execution_count": 25,
   "metadata": {},
   "outputs": [],
   "source": [
    "def plot_data(X, y):\n",
    "    # prepare date\n",
    "    x1 = X[:,0]\n",
    "    x2 = X[:,1]\n",
    "    y = y.flatten()\n",
    "    # create dataframe\n",
    "    df = pd.DataFrame(data={'x1': x1, 'x2': x2, 'label': y})\n",
    "    # dataframe of positive and negative class\n",
    "    PC = df.loc[df['label'] == 1]\n",
    "    NC = df.loc[df['label'] == -1]\n",
    "    # plot points\n",
    "    #plt.cla() # clear axis\n",
    "    #plt.clf() # clear figure\n",
    "    ax = PC.plot(kind='scatter', x='x1', y='x2', color='blue', marker='.')\n",
    "    NC.plot(ax=ax, grid=True, kind='scatter', x='x1', y='x2', color='red', marker='.')"
   ]
  },
  {
   "cell_type": "code",
   "execution_count": 26,
   "metadata": {},
   "outputs": [
    {
     "data": {
      "image/png": "[encoded data removed]",
      "text/plain": [
       "<Figure size 432x288 with 1 Axes>"
      ]
     },
     "metadata": {
      "needs_background": "light"
     },
     "output_type": "display_data"
    }
   ],
   "source": [
    "plot_data(X_raw, y_raw)"
   ]
  },
  {
   "cell_type": "markdown",
   "metadata": {},
   "source": [
    "## Plotting the decision regions"
   ]
  },
  {
   "cell_type": "code",
   "execution_count": 44,
   "metadata": {},
   "outputs": [],
   "source": [
    "def plot_decision_regions(X, model):\n",
    "    # split X in x1 and x2\n",
    "    x1 = X[:, 0]\n",
    "    x2 = X[:, 1]\n",
    "    # define grid limits for x1 and x2\n",
    "    x1_min = x1.min() - 0.25\n",
    "    x1_max = x1.max() + 0.25\n",
    "    x2_min = x2.min() - 0.25\n",
    "    x2_max = x2.max() + 0.25\n",
    "    #----------------------------\n",
    "    # create grid\n",
    "    #steps = 4096\n",
    "    steps = 1000\n",
    "    x1_span = np.linspace(x1_min, x1_max, steps)\n",
    "    x2_span = np.linspace(x2_min, x2_max, steps)\n",
    "    xx1, xx2 = np.meshgrid(x1_span, x2_span)\n",
    "    # convert to 1-D array and concatenate them\n",
    "    xx1_f = xx1.flatten()\n",
    "    xx2_f = xx2.flatten()\n",
    "    points = np.c_[xx1_f, xx2_f]\n",
    "    #----------------------------\n",
    "    # plot decision regions\n",
    "    labels = clf.predict(points)\n",
    "    z = labels.reshape(xx1.shape)\n",
    "    plt.contourf(xx1, xx2, z, cmap=plt.cm.Spectral)"
   ]
  },
  {
   "cell_type": "markdown",
   "metadata": {},
   "source": [
    "# Multi-layer Perceptron Classifier"
   ]
  },
  {
   "cell_type": "code",
   "execution_count": 83,
   "metadata": {},
   "outputs": [
    {
     "data": {
      "text/plain": [
       "0.698269276108456"
      ]
     },
     "execution_count": 83,
     "metadata": {},
     "output_type": "execute_result"
    }
   ],
   "source": [
    "units=1000\n",
    "clf = MLPClassifier(\n",
    "    hidden_layer_sizes=(units,),\n",
    "    activation='relu',\n",
    "    solver='sgd',\n",
    "    #alpha=0.0001,\n",
    "    batch_size=1000,\n",
    "    learning_rate='constant',\n",
    "    learning_rate_init=0.00001,\n",
    "    max_iter=1000,\n",
    "    #random_state=42,\n",
    "    tol=1e-6,\n",
    "    #verbose=True\n",
    ")\n",
    "clf.fit(X, y)\n",
    "clf.loss_"
   ]
  },
  {
   "cell_type": "code",
   "execution_count": 59,
   "metadata": {},
   "outputs": [],
   "source": [
    "error = []\n",
    "for i in range(1,11):\n",
    "    units = i\n",
    "    clf.fit(X, y)\n",
    "    error.append(clf.loss_)"
   ]
  },
  {
   "cell_type": "code",
   "execution_count": 60,
   "metadata": {},
   "outputs": [
    {
     "data": {
      "text/plain": [
       "[0.6924710895258577,\n",
       " 0.6931921919830342,\n",
       " 0.6913920559380186,\n",
       " 0.6915911107058413,\n",
       " 0.6892174619641623,\n",
       " 0.6888249086537368,\n",
       " 0.688093352600664,\n",
       " 0.6886305254929874,\n",
       " 0.6892950161843128,\n",
       " 0.6885280169497954]"
      ]
     },
     "execution_count": 60,
     "metadata": {},
     "output_type": "execute_result"
    }
   ],
   "source": [
    "error"
   ]
  },
  {
   "cell_type": "code",
   "execution_count": 57,
   "metadata": {},
   "outputs": [
    {
     "data": {
      "text/plain": [
       "MLPClassifier(activation='relu', alpha=0.0001, batch_size=100, beta_1=0.9,\n",
       "              beta_2=0.999, early_stopping=False, epsilon=1e-08,\n",
       "              hidden_layer_sizes=(4,), learning_rate='constant',\n",
       "              learning_rate_init=0.001, max_iter=10000, momentum=0.9,\n",
       "              n_iter_no_change=10, nesterovs_momentum=True, power_t=0.5,\n",
       "              random_state=42, shuffle=True, solver='sgd', tol=1e-06,\n",
       "              validation_fraction=0.1, verbose=False, warm_start=False)"
      ]
     },
     "execution_count": 57,
     "metadata": {},
     "output_type": "execute_result"
    }
   ],
   "source": [
    "clf.fit(X, y)"
   ]
  },
  {
   "cell_type": "code",
   "execution_count": 54,
   "metadata": {},
   "outputs": [
    {
     "data": {
      "text/plain": [
       "0.6892174619641623"
      ]
     },
     "execution_count": 54,
     "metadata": {},
     "output_type": "execute_result"
    }
   ],
   "source": [
    "clf.loss_"
   ]
  },
  {
   "cell_type": "code",
   "execution_count": 74,
   "metadata": {},
   "outputs": [
    {
     "data": {
      "image/png": "[encoded data removed]",
      "text/plain": [
       "<Figure size 432x288 with 1 Axes>"
      ]
     },
     "metadata": {
      "needs_background": "light"
     },
     "output_type": "display_data"
    }
   ],
   "source": [
    "yval_pred = clf.predict(Xval)\n",
    "plot_data(Xval, yval_pred)"
   ]
  },
  {
   "cell_type": "code",
   "execution_count": 45,
   "metadata": {},
   "outputs": [
    {
     "data": {
      "image/png": "[encoded data removed]",
      "text/plain": [
       "<Figure size 432x288 with 1 Axes>"
      ]
     },
     "metadata": {
      "needs_background": "light"
     },
     "output_type": "display_data"
    }
   ],
   "source": [
    "plot_decision_regions(X, clf)"
   ]
  },
  {
   "cell_type": "code",
   "execution_count": 43,
   "metadata": {},
   "outputs": [],
   "source": []
  },
  {
   "cell_type": "code",
   "execution_count": 70,
   "metadata": {},
   "outputs": [
    {
     "data": {
      "text/plain": [
       "0.65"
      ]
     },
     "execution_count": 70,
     "metadata": {},
     "output_type": "execute_result"
    }
   ],
   "source": [
    "clf.score(Xt, yt)"
   ]
  }
 ],
 "metadata": {
  "kernelspec": {
   "display_name": "Python 3",
   "language": "python",
   "name": "python3"
  },
  "language_info": {
   "codemirror_mode": {
    "name": "ipython",
    "version": 3
   },
   "file_extension": ".py",
   "mimetype": "text/x-python",
   "name": "python",
   "nbconvert_exporter": "python",
   "pygments_lexer": "ipython3",
   "version": "3.7.4"
  }
 },
 "nbformat": 4,
 "nbformat_minor": 4
}
