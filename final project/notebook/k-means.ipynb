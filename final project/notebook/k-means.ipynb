{
 "cells": [
  {
   "cell_type": "code",
   "execution_count": 1,
   "metadata": {},
   "outputs": [],
   "source": [
    "#----------------------------\n",
    "# import libraries\n",
    "#----------------------------\n",
    "import numpy as np\n",
    "import pandas as pd\n",
    "#import scipy.io as sio\n",
    "from matplotlib import pyplot as plt\n",
    "#----------------------------\n",
    "# scikit-learn\n",
    "#----------------------------\n",
    "# preprocessing\n",
    "#from sklearn.preprocessing import StandardScaler\n",
    "#from sklearn.preprocessing import OneHotEncoder\n",
    "# neural network\n",
    "#from sklearn.neural_network import MLPClassifier\n",
    "# metrics\n",
    "#from sklearn.metrics import confusion_matrix\n",
    "#from sklearn.metrics import f1_score\n",
    "#from sklearn.metrics import accuracy_score\n",
    "#from sklearn.metrics import zero_one_loss\n",
    "#from sklearn.metrics import log_loss\n",
    "#from sklearn.metrics import roc_curve\n",
    "#from sklearn.metrics import roc_auc_score"
   ]
  },
  {
   "cell_type": "code",
   "execution_count": 2,
   "metadata": {},
   "outputs": [],
   "source": [
    "#use numpy fixed point notation\n",
    "np.set_printoptions(suppress=True)\n",
    "#----------------------------\n",
    "# disable convergence warning\n",
    "#from sklearn.utils.testing import ignore_warnings\n",
    "#from sklearn.exceptions import ConvergenceWarning\n",
    "#----------------------------\n",
    "# path to save figures\n",
    "path = '../figures/k-means/'"
   ]
  },
  {
   "cell_type": "markdown",
   "metadata": {},
   "source": [
    "# Reading the dataset (.mat file)"
   ]
  },
  {
   "cell_type": "code",
   "execution_count": 3,
   "metadata": {},
   "outputs": [],
   "source": [
    "from os.path import abspath, join\n",
    "# get the root dir ('current_dir/..')\n",
    "root_dir = abspath('..')\n",
    "dataset_dir = join(root_dir, 'dataset')"
   ]
  },
  {
   "cell_type": "code",
   "execution_count": null,
   "metadata": {},
   "outputs": [],
   "source": [
    "import zipfile\n",
    "# set dataset files path\n",
    "file_path = join(dataset_dir, 'microdados_enem2018.zip')\n",
    "# read zip files\n",
    "zf = zipfile.ZipFile(file_path)\n",
    "df = pd.read_csv(zf.open('DADOS/MICRODADOS_ENEM_2018.csv'), encoding='cp1252')"
   ]
  },
  {
   "cell_type": "code",
   "execution_count": null,
   "metadata": {},
   "outputs": [],
   "source": []
  }
 ],
 "metadata": {
  "kernelspec": {
   "display_name": "Python 3",
   "language": "python",
   "name": "python3"
  },
  "language_info": {
   "codemirror_mode": {
    "name": "ipython",
    "version": 3
   },
   "file_extension": ".py",
   "mimetype": "text/x-python",
   "name": "python",
   "nbconvert_exporter": "python",
   "pygments_lexer": "ipython3",
   "version": "3.8.0"
  }
 },
 "nbformat": 4,
 "nbformat_minor": 4
}
