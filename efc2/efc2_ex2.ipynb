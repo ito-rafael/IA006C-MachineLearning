{
 "cells": [
  {
   "cell_type": "code",
   "execution_count": 46,
   "metadata": {
    "jupyter": {
     "outputs_hidden": false
    }
   },
   "outputs": [],
   "source": [
    "#----------------------------\n",
    "# import libraries\n",
    "#----------------------------\n",
    "import numpy as np\n",
    "import pandas as pd\n",
    "from matplotlib import pyplot as plt\n",
    "# scikit-learn\n",
    "from sklearn.utils import shuffle\n",
    "from sklearn.preprocessing import StandardScaler\n",
    "from sklearn.preprocessing import OneHotEncoder\n",
    "from sklearn.metrics import confusion_matrix\n",
    "from sklearn.metrics import roc_curve\n",
    "from sklearn.metrics import f1_score\n",
    "from sklearn.metrics import accuracy_score"
   ]
  },
  {
   "cell_type": "code",
   "execution_count": 47,
   "metadata": {},
   "outputs": [],
   "source": [
    "def softmax(phi, w):\n",
    "    # exponent matrix --> (phi @ w)\n",
    "    exp_matrix = phi @ w\n",
    "    # terms of exponent matrix --> exp(phi @ w)\n",
    "    numerator = np.exp(exp_matrix)\n",
    "    # sum of terms in exponent matrix --> exp(phi@w0) + ... + exp(phi@wK)\n",
    "    # denominator of softmax function\n",
    "    sum_numerator = np.sum(numerator, axis=1).reshape(-1,1)\n",
    "    # copy sum (Nx1) in (K+1) columns\n",
    "    denominator = np.repeat(sum_numerator, C, axis=1)\n",
    "    # calculate softmax\n",
    "    ŷ = numerator/denominator\n",
    "    return ŷ"
   ]
  },
  {
   "cell_type": "code",
   "execution_count": 48,
   "metadata": {},
   "outputs": [],
   "source": [
    "def counts(y):\n",
    "    max_y = np.argmax(y, axis=1)\n",
    "    classes, size = np.unique(max_y, return_counts=True)\n",
    "    for i in range(len(classes)):\n",
    "        print('label ', classes[i], ': ', size[i], sep='')"
   ]
  },
  {
   "cell_type": "code",
   "execution_count": 49,
   "metadata": {},
   "outputs": [],
   "source": [
    "def max_pooling(y):\n",
    "    # add one because output must go from 1 to 6\n",
    "    y = np.argmax(y, axis=1) + 1\n",
    "    y = y.reshape(-1,1)\n",
    "    y = one_hot_encoder(y)\n",
    "    return y"
   ]
  },
  {
   "cell_type": "code",
   "execution_count": 50,
   "metadata": {},
   "outputs": [],
   "source": [
    "def zero_one_loss(y_true, y_pred):\n",
    "    y = one_hot_decoder(y_true)\n",
    "    ŷ = one_hot_decoder(y_pred)\n",
    "    error = (y - ŷ)\n",
    "    zero, counts = np.unique(error, return_counts=True)\n",
    "    index = np.where(zero == 0)[0][0]\n",
    "    loss = counts[index] / len(y)\n",
    "    return loss"
   ]
  },
  {
   "cell_type": "code",
   "execution_count": 51,
   "metadata": {},
   "outputs": [],
   "source": [
    "def iterate(x, y, N, phi, w, alpha):\n",
    "    # calculate estimated output\n",
    "    ŷ = softmax(phi, w)\n",
    "    # calculate gradient\n",
    "    #gradient = (ŷ - y).T @ phi\n",
    "    gradient = (y - ŷ).T @ phi\n",
    "    # calculate RMSE\n",
    "    #rmse = np.mean(error * error)\n",
    "    loss = zero_one_loss(y, ŷ)\n",
    "    w = w - (alpha * gradient.T)\n",
    "    return w, loss"
   ]
  },
  {
   "cell_type": "code",
   "execution_count": 52,
   "metadata": {},
   "outputs": [],
   "source": [
    "def train(x, y, alpha=1e-7, tolerance=1e-15):\n",
    "    # alpha: step size\n",
    "    # tolerance: stop criteria\n",
    "    #-----------------------------\n",
    "    N = X_test.shape[0]                        # size of dataset\n",
    "    K = X_test.shape[1]                        # number of features\n",
    "    C = len(enc.categories_[0])                # number of classes\n",
    "    #-----------------------------\n",
    "    w = np.random.rand(K+1, C)                 # create weights matrix\n",
    "    phi = np.insert(X_train, 0, [1], axis=1)   # create phi matrix\n",
    "    #-----------------------------    \n",
    "    # error array initialization\n",
    "    e = []       \n",
    "    #-----------------------------\n",
    "    # run algorithm first time\n",
    "    w, loss = iterate(x, y, N, phi, w, alpha)\n",
    "    diff = loss\n",
    "    e.append(loss)\n",
    "    #-----------------------------\n",
    "    # iterate until convergence\n",
    "    while (diff > tolerance):\n",
    "        w, loss = iterate(x, y, N, phi, w, alpha)\n",
    "        diff = e[-1] - loss\n",
    "        e.append(loss)\n",
    "    #-----------------------------        \n",
    "    return w, e"
   ]
  },
  {
   "cell_type": "code",
   "execution_count": null,
   "metadata": {},
   "outputs": [],
   "source": []
  },
  {
   "cell_type": "code",
   "execution_count": 53,
   "metadata": {},
   "outputs": [],
   "source": [
    "# y: (C x N)\n",
    "# ŷ: (C x N)\n",
    "# phi: (N x K+1)\n",
    "\n",
    "# GRAD = (y - ŷ).T @ phi\n",
    "# GRAD: (C x K+1)\n",
    "\n",
    "# GRAD = [ w_0(0) w_1(0) ... w_K+1(0) ]\n",
    "#        [ w_0(1) w_1(1) ... w_K+1(1) ]\n",
    "#        [  ...    ...   ...   ...    ]\n",
    "#        [ w_0(C) w_1(C) ... w_K+1(C) ]\n",
    "\n",
    "# GRAD = [ ---------- wk(0) --------- ]\n",
    "#        [ ---------- wk(1) --------- ]\n",
    "#        [ ----------  ...  --------- ]\n",
    "#        [ ---------- wk(C) --------- ]"
   ]
  },
  {
   "cell_type": "code",
   "execution_count": 54,
   "metadata": {},
   "outputs": [],
   "source": [
    "# w = [ w0(0) w0(1) ... w0(C)]\n",
    "#     [ w1(0) w1(1) ... w1(C)]\n",
    "#     [ ...    ...  ...  ... ]\n",
    "#     [ wK(0) wK(1) ... wK(C)]\n",
    "\n",
    "\n",
    "# phi: (N x K+1)\n",
    "#   w: (K+1 x C)\n",
    "\n",
    "# (phi @ w): (N x C) --> exponents of terms in softmax"
   ]
  },
  {
   "cell_type": "code",
   "execution_count": 55,
   "metadata": {},
   "outputs": [],
   "source": [
    "# STANDARDIZATION IN INPUT FEATURES!!!\n",
    "\n",
    "# ... to be done ..."
   ]
  },
  {
   "cell_type": "code",
   "execution_count": 56,
   "metadata": {},
   "outputs": [],
   "source": [
    "# path to save figures\n",
    "path = 'figures/ex2/'\n",
    "# read training data\n",
    "X_train_df = pd.read_fwf('X_train.txt', header=None)\n",
    "y_train_df = pd.read_csv('y_train.txt', header=None)\n",
    "# read test data\n",
    "X_test_df = pd.read_fwf('X_test.txt', header=None)\n",
    "y_test_df = pd.read_csv('y_test.txt', header=None)"
   ]
  },
  {
   "cell_type": "code",
   "execution_count": 13,
   "metadata": {},
   "outputs": [],
   "source": [
    "# convert DataFrame to NumPy array\n",
    "X_train = X_train_df.to_numpy()\n",
    "X_test = X_test_df.to_numpy()\n",
    "y_train_raw = y_train_df.to_numpy()\n",
    "y_test_raw = y_test_df.to_numpy()"
   ]
  },
  {
   "cell_type": "code",
   "execution_count": 14,
   "metadata": {},
   "outputs": [],
   "source": [
    "enc = OneHotEncoder(categories='auto')\n",
    "enc.fit(y_train_raw)\n",
    "def one_hot_encoder(y):\n",
    "    return enc.transform(y).toarray()\n",
    "def one_hot_decoder(y):\n",
    "    return enc.inverse_transform(y)"
   ]
  },
  {
   "cell_type": "markdown",
   "metadata": {},
   "source": [
    "**output** <br>\n",
    "1 – caminhada <br>\n",
    "2 – subindo escadas <br>\n",
    "3 – descendo escadas <br>\n",
    "4 – sentado <br>\n",
    "5 – em pé <br>\n",
    "6 – deitado <br>\n",
    "<br>\n",
    "**one-hot enconding** <br>\n",
    "[1 0 0 0 0 0]$^T$: walking <br>\n",
    "[0 1 0 0 0 0]$^T$: climbing stairs <br>\n",
    "[0 0 1 0 0 0]$^T$: going down stairs <br>\n",
    "[0 0 0 1 0 0]$^T$: seated <br>\n",
    "[0 0 0 0 1 0]$^T$: standing <br>\n",
    "[0 0 0 0 0 1]$^T$: lying <br>\n"
   ]
  },
  {
   "cell_type": "code",
   "execution_count": 15,
   "metadata": {},
   "outputs": [],
   "source": [
    "# one-hot encoding\n",
    "y_train = one_hot_encoder(y_train_df)\n",
    "y_test = one_hot_encoder(y_test_df)"
   ]
  },
  {
   "cell_type": "code",
   "execution_count": 16,
   "metadata": {},
   "outputs": [],
   "source": [
    "# size of dataset\n",
    "N = X_train.shape[0]\n",
    "# number of features\n",
    "K = X_train.shape[1]\n",
    "# number of classes\n",
    "C = len(enc.categories_[0])"
   ]
  },
  {
   "cell_type": "code",
   "execution_count": 17,
   "metadata": {},
   "outputs": [],
   "source": [
    "# create weights matrix\n",
    "#w = np.random.rand(K+1, C)\n",
    "w = np.random.uniform(-1,1, (K+1, C))\n",
    "# create phi matrix\n",
    "phi = np.insert(X_train, 0, [1], axis=1)\n",
    "x = X_train\n",
    "y = y_train\n",
    "alpha=1e-6"
   ]
  },
  {
   "cell_type": "code",
   "execution_count": 18,
   "metadata": {},
   "outputs": [],
   "source": [
    "# for i in range(100):\n",
    "#     ŷ = softmax(phi,w)\n",
    "#     gradient = (y - ŷ).T @ phi\n",
    "#     w = w - (alpha * gradient.T)\n",
    "#     #counts(ŷ)"
   ]
  },
  {
   "cell_type": "code",
   "execution_count": 21,
   "metadata": {},
   "outputs": [
    {
     "name": "stdout",
     "output_type": "stream",
     "text": [
      "label 0: 1226\n",
      "label 1: 1073\n",
      "label 2: 986\n",
      "label 3: 1286\n",
      "label 4: 1374\n",
      "label 5: 1407\n"
     ]
    }
   ],
   "source": [
    "counts(y)"
   ]
  },
  {
   "cell_type": "code",
   "execution_count": 22,
   "metadata": {},
   "outputs": [
    {
     "name": "stdout",
     "output_type": "stream",
     "text": [
      "label 3: 7344\n",
      "label 5: 8\n"
     ]
    }
   ],
   "source": [
    "counts(ŷ)"
   ]
  },
  {
   "cell_type": "code",
   "execution_count": 23,
   "metadata": {},
   "outputs": [
    {
     "name": "stdout",
     "output_type": "stream",
     "text": [
      "label 0: 1527\n",
      "label 1: 5736\n",
      "label 3: 72\n",
      "label 4: 9\n",
      "label 5: 8\n"
     ]
    }
   ],
   "source": [
    "w, e = train(x, y, alpha=1e-6, tolerance=1e-4)\n",
    "ŷ = softmax(phi,w)\n",
    "counts(ŷ)"
   ]
  },
  {
   "cell_type": "code",
   "execution_count": 44,
   "metadata": {},
   "outputs": [
    {
     "name": "stdout",
     "output_type": "stream",
     "text": [
      "label 0: 2\n",
      "label 1: 7338\n",
      "label 3: 4\n",
      "label 5: 8\n"
     ]
    },
    {
     "data": {
      "text/plain": [
       "0.1459466811751904"
      ]
     },
     "execution_count": 44,
     "metadata": {},
     "output_type": "execute_result"
    }
   ],
   "source": [
    "w = iterate(x, y, N, phi, w, alpha)[0]\n",
    "ŷ = softmax(phi, w)\n",
    "counts(ŷ)\n",
    "zero_one_loss(y, max_pooling(ŷ))"
   ]
  },
  {
   "cell_type": "code",
   "execution_count": 260,
   "metadata": {},
   "outputs": [],
   "source": [
    "np.set_printoptions(suppress=True)"
   ]
  }
 ],
 "metadata": {
  "kernelspec": {
   "display_name": "Python 3",
   "language": "python",
   "name": "python3"
  },
  "language_info": {
   "codemirror_mode": {
    "name": "ipython",
    "version": 3
   },
   "file_extension": ".py",
   "mimetype": "text/x-python",
   "name": "python",
   "nbconvert_exporter": "python",
   "pygments_lexer": "ipython3",
   "version": "3.7.4"
  }
 },
 "nbformat": 4,
 "nbformat_minor": 4
}
