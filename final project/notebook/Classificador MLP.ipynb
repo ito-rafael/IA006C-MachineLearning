{
 "cells": [
  {
   "cell_type": "markdown",
   "metadata": {},
   "source": [
    "# Classificador MLP\n",
    "O desenvolvimento do classificador será dividido em três etapas distintas:\n",
    "\n",
    "1. Pré-processamento e seleção de atributos\n",
    "2. Busca por hiperparâmetros com validação cruzada\n",
    "3. Treinamento e teste da MLP"
   ]
  },
  {
   "cell_type": "markdown",
   "metadata": {},
   "source": [
    "## Pré-processamento\n",
    "Nesta etapa será feita a seleção das colunas que carregam informações relevantes ao treinamento e a codificação do conteúdo do dataset. Diversas filtragens serão utilizadas a fim de diminuir a dimensão do dataset."
   ]
  },
  {
   "cell_type": "code",
   "execution_count": 402,
   "metadata": {},
   "outputs": [],
   "source": [
    "input_cols = [\n",
    "    'SG_UF_RESIDENCIA', 'NU_IDADE', 'TP_SEXO',\n",
    "    'TP_COR_RACA', 'TP_NACIONALIDADE', 'SG_UF_NASCIMENTO', \n",
    "    'TP_ST_CONCLUSAO', 'TP_ANO_CONCLUIU', 'TP_ESCOLA', 'TP_ENSINO', 'IN_TREINEIRO',\n",
    "    'IN_BAIXA_VISAO', 'IN_CEGUEIRA', 'IN_SURDEZ', 'IN_DEFICIENCIA_AUDITIVA', 'IN_SURDO_CEGUEIRA',\n",
    "    'IN_DEFICIENCIA_FISICA', 'IN_DEFICIENCIA_MENTAL', 'IN_DEFICIT_ATENCAO', 'IN_DISLEXIA',\n",
    "    'IN_DISCALCULIA', 'IN_AUTISMO', 'IN_VISAO_MONOCULAR', 'IN_OUTRA_DEF',\n",
    "    'IN_ESTUDA_CLASSE_HOSPITALAR', 'IN_SEM_RECURSO',\n",
    "    'TP_PRESENCA_CN', 'TP_PRESENCA_CH', 'TP_PRESENCA_LC', 'TP_PRESENCA_MT',\n",
    "    'Q001', 'Q002', 'Q003', 'Q004', 'Q005', 'Q006', 'Q007', 'Q024', 'Q025', 'Q026', 'Q027']\n",
    "\n",
    "output_cols = ['NU_NOTA_REDACAO','NU_NOTA_CN', 'NU_NOTA_CH', 'NU_NOTA_LC', 'NU_NOTA_MT']"
   ]
  },
  {
   "cell_type": "code",
   "execution_count": 403,
   "metadata": {},
   "outputs": [],
   "source": [
    "import os\n",
    "import pandas\n",
    "import numpy as np\n",
    "import seaborn as sb\n",
    "import zipfile\n",
    "\n",
    "%matplotlib inline\n",
    "import matplotlib.pyplot as plt\n",
    "\n",
    "from os.path import abspath, join\n",
    "\n",
    "root_dir = abspath('..')\n",
    "dataset_dir = join(root_dir, 'dataset')\n",
    "# set dataset files path\n",
    "file_path = join(dataset_dir, 'microdados_enem2018.zip')\n",
    "# read zip files\n",
    "zf = zipfile.ZipFile(file_path)\n",
    "data = pandas.read_csv(zf.open('DADOS/MICRODADOS_ENEM_2018.csv'),\n",
    "                       sep=';', encoding='cp1252', usecols=input_cols + output_cols)\\\n",
    "            .dropna()"
   ]
  },
  {
   "cell_type": "markdown",
   "metadata": {},
   "source": [
    "### DADOS DO QUESTIONÁRIO SOCIOECONÔMICO\n",
    "O questionário socioeconômico possui informações categóricas que serão codificadas através do one-hot-encoding. Em casos especiais que a resposta é binária, os dados serão mapeados em 0 e 1. Abaixo é descrita a natureza dos dados de cada coluna do questionário:\n",
    "\n",
    "|Coluna|Valores |Codificação|\n",
    "|:----:|:----:|:-----------:|\n",
    "|Q001,Q002|A-H|One-hot-encoding|\n",
    "|Q003,Q004|                  A-F|One-hot-encoding|\n",
    "|Q005|                       1-20 (Numérico)|nenhum|\n",
    "|Q006|                       A-Q|One-hot-encoding|\n",
    "|Q007,Q026|                  A-D|One-hot-encoding|\n",
    "|Q008-17,Q019,Q022,Q024|     A-E|One-hot-encoding|\n",
    "|Q018,Q020-21,Q023,Q025|     A-B |(Codificação A=0, B=1)|\n",
    "|Q027|                       A-F|One-hot-encoding|\n"
   ]
  },
  {
   "cell_type": "code",
   "execution_count": 404,
   "metadata": {},
   "outputs": [],
   "source": [
    "one_hot_socio = ['Q001','Q002','Q003','Q004','Q006',\n",
    "         'Q007','Q008','Q009','Q010','Q011','Q012','Q013','Q014',\n",
    "         'Q015','Q016','Q017','Q019','Q022','Q024','Q026','Q027',\n",
    "        ]\n",
    "encode_socio = {\n",
    "    'Q018':{'A':0,'B':1},\n",
    "    'Q020':{'A':0,'B':1},\n",
    "    'Q021':{'A':0,'B':1},\n",
    "    'Q023':{'A':0,'B':1},\n",
    "    'Q025':{'A':0,'B':1}}"
   ]
  },
  {
   "cell_type": "markdown",
   "metadata": {},
   "source": [
    "#### Filtragem\n",
    "A alternativa \"Não sei.\" das questões Q001, Q002, Q003 e Q004 a princípio não traz tanta informação a cerca da situação socioeconômica do candidato. Devido aos recursos computacionais limitados, tais linhas do dataset serão eliminadas.\n",
    "\n",
    "|Coluna|Opção \"Não sei.\"|\n",
    "|:----:|:----:|\n",
    "|Q001|H|\n",
    "|Q002|H|\n",
    "|Q003|F|\n",
    "|Q004|F|"
   ]
  },
  {
   "cell_type": "code",
   "execution_count": 405,
   "metadata": {},
   "outputs": [
    {
     "name": "stdout",
     "output_type": "stream",
     "text": [
      "Antes (2318389, 46)\n",
      "Depois (1812629, 46)\n"
     ]
    }
   ],
   "source": [
    "print('Antes {}'.format(data.shape))\n",
    "data.drop(data[(data['Q001']==\"H\") | (data['Q002']==\"H\")|(data['Q003']==\"F\") | (data['Q004']==\"F\")].index, inplace=True)\n",
    "\n",
    "from sklearn.preprocessing import StandardScaler\n",
    "Q005_scaler = StandardScaler()\n",
    "data['Q005'] = Q005_scaler.fit_transform(data['Q005'].to_numpy().reshape(-1,1))\n",
    "\n",
    "print('Depois {}'.format(data.shape))"
   ]
  },
  {
   "cell_type": "markdown",
   "metadata": {},
   "source": [
    "Com a aplicação dos filtros descritos, o dataset teve a seguinte redução de dimensionalidade:\n",
    "\n",
    "|     |Linhas|Colunas|\n",
    "|:---:|:----:|:-----:|\n",
    "|Antes|2318389|46|\n",
    "|Depois|1812629|46|"
   ]
  },
  {
   "cell_type": "markdown",
   "metadata": {},
   "source": [
    "### DADOS DO PARTICIPANTE\n",
    "\n",
    "Serão utilizadas as seguintes informações referentes ao participante:\n",
    "\n",
    "|Coluna|Descrição|\n",
    "|:----:|:---------|\n",
    "|NU_IDADE|\tIdade|\n",
    "|TP_SEXO|\tSexo|\n",
    "|TP_ESTADO_CIVIL|\tEstado Civil|\n",
    "|TP_COR_RACA|\tCor/raça|\n",
    "|TP_NACIONALIDADE|\tNacionalidade|\n",
    "|TP_ST_CONCLUSAO|\tSituação de conclusão do Ensino Médio|\n",
    "|TP_ANO_CONCLUIU|\tAno de Conclusão do Ensino Médio 1-12|\n",
    "|TP_ESCOLA|\tTipo de escola do Ensino Médio 1-4|\n",
    "|TP_ENSINO|\tTipo de instituição que concluiu ou concluirá o Ensino Médio 1-3|\n",
    "|IN_TREINEIRO|\tIndica se o inscrito fez a prova com intuito de apenas treinar seus conhecimentos 0-1|\n",
    "\n",
    "Para diminuir a matriz final, as seguintes colunas foram ignoradas:\n",
    "\n",
    "|Coluna|Descrição|\n",
    "|:----:|:---------|\n",
    "|NO_MUNICIPIO_RESIDENCIA|\tNome do município de residência|\n",
    "|NO_MUNICIPIO_NASCIMENTO|\tNome do município de nascimento|\n",
    "|SG_UF_NASCIMENTO|\tSigla da Unidade da Federação de nascimento|\n",
    "\n",
    "Serão avaliados apenas participantes do estado de São Paulo.\n",
    "\n",
    "|Coluna|Valor|\n",
    "|:----:|:---------|\n",
    "|SG_UF_RESIDENCIA|SP|"
   ]
  },
  {
   "cell_type": "code",
   "execution_count": 406,
   "metadata": {},
   "outputs": [],
   "source": [
    "one_hot_participante = [\n",
    "    'TP_ESTADO_CIVIL','TP_COR_RACA',\n",
    "    'TP_NACIONALIDADE', 'TP_ST_CONCLUSAO','TP_ANO_CONCLUIU',\n",
    "    'TP_ESCOLA','TP_ENSINO','IN_TREINEIRO'\n",
    "]\n",
    "\n",
    "encode_participante = {'TP_SEXO':{'M':0, 'F':1}}\n",
    "\n",
    "from sklearn.preprocessing import StandardScaler\n",
    "idade_scaler = StandardScaler()\n",
    "data['NU_IDADE'] = idade_scaler.fit_transform(data['NU_IDADE'].to_numpy().reshape(-1,1))"
   ]
  },
  {
   "cell_type": "markdown",
   "metadata": {},
   "source": [
    "#### Filtragem\n",
    "Informações referentes aos municípios serão removidas pois ao serem codificadas pelo one-hot-encode produzem matrizes de dimensões elevadas.\n",
    "\n",
    "Serão removidos do dataset linhas que não trazem informações relevantes ao classificados, tais como:\n",
    "\n",
    "|Coluna|Valor|Descrição|\n",
    "|:----:|:---:|:-------:|\n",
    "|TP_NACIONALIDADE|0|Não informado|\n",
    "\n",
    "Todos os participantes que fizeram a prova para treinar os conhecimentos serão removidos do dataset:\n",
    "\n",
    "|Coluna|Valor|Descrição|\n",
    "|:----:|:---:|:-------:|\n",
    "|IN_TREINEIRO|1|Indica se o inscrito fez a prova com intuito de apenas treinar seus conhecimentos.|\n",
    "\n",
    "\n"
   ]
  },
  {
   "cell_type": "code",
   "execution_count": 407,
   "metadata": {},
   "outputs": [
    {
     "name": "stdout",
     "output_type": "stream",
     "text": [
      "Antes (1812629, 46)\n",
      "Depois (289542, 43)\n"
     ]
    }
   ],
   "source": [
    "print('Antes {}'.format(data.shape))\n",
    "\n",
    "if 'NO_MUNICIPIO_RESIDENCIA' in data.columns:\n",
    "    data.drop(['NO_MUNICIPIO_RESIDENCIA'], axis=1, inplace=True)\n",
    "\n",
    "if 'NO_MUNICIPIO_NASCIMENTO' in data.columns:\n",
    "    data.drop(['NO_MUNICIPIO_NASCIMENTO'], axis=1, inplace=True)\n",
    "\n",
    "if 'IN_TREINEIRO' in data.columns:\n",
    "    data.drop(data[data['IN_TREINEIRO']==1].index, inplace=True)\n",
    "    data.drop(['IN_TREINEIRO'], axis=1, inplace=True)\n",
    "\n",
    "if 'SG_UF_RESIDENCIA' in data.columns:\n",
    "    data.drop(data[data['SG_UF_RESIDENCIA']!=\"SP\"].index, inplace=True)\n",
    "    data.drop(['SG_UF_RESIDENCIA'], axis=1, inplace=True)\n",
    "\n",
    "if 'SG_UF_NASCIMENTO' in data.columns:\n",
    "    data.drop(['SG_UF_NASCIMENTO'], axis=1, inplace=True)\n",
    "\n",
    "data.drop(data[(data['TP_NACIONALIDADE']==0)].index, inplace=True)    \n",
    "print('Depois {}'.format(data.shape))\n",
    "    \n"
   ]
  },
  {
   "cell_type": "markdown",
   "metadata": {},
   "source": [
    "Com a aplicação dos filtros descritos, o dataset teve a seguinte redução de dimensionalidade:\n",
    "\n",
    "|     |Linhas|Colunas|\n",
    "|:---:|:----:|:-----:|\n",
    "|Antes|1812629|46|\n",
    "|Depois|289542|43|"
   ]
  },
  {
   "cell_type": "markdown",
   "metadata": {},
   "source": [
    "### Recursos Especializados\n",
    "#### Filtragem\n",
    "\n",
    "Removida as colunas por não trazerem informações relevantes:\n",
    "\n",
    "|Coluna|Descrição|\n",
    "|:----:|:-------:|\n",
    "|IN_SEM_RECURSO|Indicador de inscrito que não requisitou nenhum recurso|\n",
    "\n"
   ]
  },
  {
   "cell_type": "code",
   "execution_count": 408,
   "metadata": {},
   "outputs": [
    {
     "name": "stdout",
     "output_type": "stream",
     "text": [
      "Antes (289542, 43)\n",
      "Depois (289542, 42)\n"
     ]
    }
   ],
   "source": [
    "print('Antes {}'.format(data.shape))\n",
    "if 'IN_SEM_RECURSO' in data.columns:\n",
    "    data.drop(['IN_SEM_RECURSO'], axis=1, inplace=True)\n",
    "print('Depois {}'.format(data.shape))"
   ]
  },
  {
   "cell_type": "markdown",
   "metadata": {},
   "source": [
    "Com a aplicação dos filtros descritos, o dataset teve a seguinte redução de dimensionalidade:\n",
    "\n",
    "|     |Linhas|Colunas|\n",
    "|:---:|:----:|:-----:|\n",
    "|Antes|1812629|43|\n",
    "|Depois|289542|42|"
   ]
  },
  {
   "cell_type": "markdown",
   "metadata": {},
   "source": [
    "### DADOS DA PROVA OBJETIVA\n",
    "\n",
    "Participantes considerados ausentes serão descartados.\n",
    "\n",
    "|Coluna|Descrição|\n",
    "|:-----:|:------:|\n",
    "|TP_PRESENCA_CN|\tPresença na prova objetiva de Ciências da Natureza|\n",
    "|TP_PRESENCA_CH|\tPresença na prova objetiva de Ciências Humanas|\n",
    "|TP_PRESENCA_LC|\tPresença na prova objetiva de Linguagens e Códigos|\n",
    "|TP_PRESENCA_MT|\tPresença na prova objetiva de Matemática|\n",
    "\n",
    "Será calculado o valor médio da nota do participante e aplicada uma função de conversão. É objetivo do classificador\n",
    "apresentar uma visão geral da performance do candidato.\n",
    "\n",
    "|Coluna|Descrição|\n",
    "|:-----:|:------:|\n",
    "|NU_NOTA_CN|\tNota da prova de Ciências da Natureza|\n",
    "|NU_NOTA_CH|\tNota da prova de Ciências Humanas|\n",
    "|NU_NOTA_LC|\tNota da prova de Linguagens e Códigos|\n",
    "|NU_NOTA_MT|\tNota da prova de Matemática|\n",
    "|NU_NOTA_REDACAO|\tNota da prova de redação|\n",
    "\n",
    "Aplicando a seguinte conversão:\n",
    "\n",
    "Conceito|Faixa de nota correspondente\n",
    "------------|-------------------------\n",
    "1 \t| Entre 600 e 1000, \"Acima da média\"\n",
    "0 \t| Abaixo de 600   \"Abaixo da média\""
   ]
  },
  {
   "cell_type": "code",
   "execution_count": 409,
   "metadata": {},
   "outputs": [],
   "source": [
    "one_hot_prova = ['TP_PRESENCA_CN', 'TP_PRESENCA_CH', 'TP_PRESENCA_LC', 'TP_PRESENCA_MT']"
   ]
  },
  {
   "cell_type": "code",
   "execution_count": 410,
   "metadata": {},
   "outputs": [],
   "source": [
    "def encode_nota(val):\n",
    "    if val >= 600:\n",
    "        return 1\n",
    "    else:\n",
    "        return 0"
   ]
  },
  {
   "cell_type": "code",
   "execution_count": 411,
   "metadata": {},
   "outputs": [
    {
     "name": "stdout",
     "output_type": "stream",
     "text": [
      "Filtro de presença\n",
      "Antes (289542, 42)\n",
      "Depis(289542, 38)\n"
     ]
    }
   ],
   "source": [
    "print('Filtro de presença')\n",
    "print('Antes {}'.format(data.shape))\n",
    "for p in ['TP_PRESENCA_CN', 'TP_PRESENCA_CH', 'TP_PRESENCA_LC', 'TP_PRESENCA_MT']:\n",
    "    if p in data.columns:\n",
    "        data.drop(data[(data[p]!=1)].index, inplace=True) # Só fica que foi\n",
    "        data.drop([p], axis=1, inplace=True) # Apaga coluna\n",
    "    else:\n",
    "        print('Column {} do not exists.'.format(p))\n",
    "print('Depis{}'.format(data.shape))    "
   ]
  },
  {
   "cell_type": "code",
   "execution_count": 412,
   "metadata": {},
   "outputs": [],
   "source": [
    "## Nota média total\n",
    "data['NU_NOTA_TOTAL'] = (data['NU_NOTA_REDACAO'] + data['NU_NOTA_CN'] +\\\n",
    "                         data['NU_NOTA_CH'] + data['NU_NOTA_LC'] + data['NU_NOTA_MT'])/5."
   ]
  },
  {
   "cell_type": "markdown",
   "metadata": {},
   "source": [
    "Com a aplicação dos filtros descritos, o dataset teve a seguinte redução de dimensionalidade:\n",
    "\n",
    "|     |Linhas|Colunas|\n",
    "|:---:|:----:|:-----:|\n",
    "|Antes|289542|42|\n",
    "|Depois|289542|39|"
   ]
  },
  {
   "cell_type": "markdown",
   "metadata": {},
   "source": [
    "### Colunas utilizadas no classificador"
   ]
  },
  {
   "cell_type": "code",
   "execution_count": 413,
   "metadata": {},
   "outputs": [
    {
     "data": {
      "text/plain": [
       "Index(['NU_IDADE', 'TP_SEXO', 'TP_COR_RACA', 'TP_NACIONALIDADE',\n",
       "       'TP_ST_CONCLUSAO', 'TP_ANO_CONCLUIU', 'TP_ESCOLA', 'TP_ENSINO',\n",
       "       'IN_BAIXA_VISAO', 'IN_CEGUEIRA', 'IN_SURDEZ', 'IN_DEFICIENCIA_AUDITIVA',\n",
       "       'IN_SURDO_CEGUEIRA', 'IN_DEFICIENCIA_FISICA', 'IN_DEFICIENCIA_MENTAL',\n",
       "       'IN_DEFICIT_ATENCAO', 'IN_DISLEXIA', 'IN_DISCALCULIA', 'IN_AUTISMO',\n",
       "       'IN_VISAO_MONOCULAR', 'IN_OUTRA_DEF', 'IN_ESTUDA_CLASSE_HOSPITALAR',\n",
       "       'NU_NOTA_CN', 'NU_NOTA_CH', 'NU_NOTA_LC', 'NU_NOTA_MT',\n",
       "       'NU_NOTA_REDACAO', 'Q001', 'Q002', 'Q003', 'Q004', 'Q005', 'Q006',\n",
       "       'Q007', 'Q024', 'Q025', 'Q026', 'Q027', 'NU_NOTA_TOTAL'],\n",
       "      dtype='object')"
      ]
     },
     "execution_count": 413,
     "metadata": {},
     "output_type": "execute_result"
    }
   ],
   "source": [
    "data.columns"
   ]
  },
  {
   "cell_type": "markdown",
   "metadata": {},
   "source": [
    "## Histograma das notas do ENEM"
   ]
  },
  {
   "cell_type": "code",
   "execution_count": 414,
   "metadata": {},
   "outputs": [
    {
     "data": {
      "image/png": "[encoded data removed]",
      "text/plain": [
       "<Figure size 432x288 with 1 Axes>"
      ]
     },
     "metadata": {
      "needs_background": "light"
     },
     "output_type": "display_data"
    },
    {
     "data": {
      "image/png": "[encoded data removed]",
      "text/plain": [
       "<Figure size 432x288 with 1 Axes>"
      ]
     },
     "metadata": {
      "needs_background": "light"
     },
     "output_type": "display_data"
    },
    {
     "data": {
      "image/png": "[encoded data removed]",
      "text/plain": [
       "<Figure size 432x288 with 1 Axes>"
      ]
     },
     "metadata": {
      "needs_background": "light"
     },
     "output_type": "display_data"
    },
    {
     "data": {
      "image/png": "[encoded data removed]",
      "text/plain": [
       "<Figure size 432x288 with 1 Axes>"
      ]
     },
     "metadata": {
      "needs_background": "light"
     },
     "output_type": "display_data"
    },
    {
     "data": {
      "image/png": "[encoded data removed]",
      "text/plain": [
       "<Figure size 432x288 with 1 Axes>"
      ]
     },
     "metadata": {
      "needs_background": "light"
     },
     "output_type": "display_data"
    },
    {
     "data": {
      "image/png": "[encoded data removed]",
      "text/plain": [
       "<Figure size 432x288 with 1 Axes>"
      ]
     },
     "metadata": {
      "needs_background": "light"
     },
     "output_type": "display_data"
    }
   ],
   "source": [
    "data['NU_NOTA_REDACAO'].plot.hist(grid=True, bins=20, rwidth=0.9,\n",
    "                   color='#eb8f34')\n",
    "plt.title('Nota da prova de redação')\n",
    "plt.xlabel('Nota')\n",
    "plt.ylabel('Candidados')\n",
    "plt.grid(axis='y', alpha=0.45)\n",
    "plt.show()\n",
    "\n",
    "data['NU_NOTA_CN'].plot.hist(grid=True, bins=20, rwidth=0.9,\n",
    "                   color='#eb5634')\n",
    "plt.title('Nota da prova de Ciências da Natureza')\n",
    "plt.xlabel('Nota')\n",
    "plt.ylabel('Candidados')\n",
    "plt.grid(axis='y', alpha=0.25)\n",
    "plt.show()\n",
    "\n",
    "data['NU_NOTA_CH'].plot.hist(grid=True, bins=20, rwidth=0.9,\n",
    "                   color='#34eb52')\n",
    "plt.title('Nota da prova de Ciências Humanas')\n",
    "plt.xlabel('Nota')\n",
    "plt.ylabel('Candidados')\n",
    "plt.grid(axis='y', alpha=0.25)\n",
    "plt.show()\n",
    "\n",
    "\n",
    "data['NU_NOTA_LC'].plot.hist(grid=True, bins=20, rwidth=0.9,\n",
    "                   color='#3496eb')\n",
    "plt.title('Nota da prova de Linguagens e Códigos')\n",
    "plt.xlabel('Nota')\n",
    "plt.ylabel('Candidados')\n",
    "plt.grid(axis='y', alpha=0.25)\n",
    "plt.show()\n",
    "\n",
    "\n",
    "data['NU_NOTA_MT'].plot.hist(grid=True, bins=20, rwidth=0.9,\n",
    "                   color='#d934eb')\n",
    "plt.title('Nota da prova de Matemática')\n",
    "plt.xlabel('Nota')\n",
    "plt.ylabel('Candidados')\n",
    "plt.grid(axis='y', alpha=0.25)\n",
    "plt.show()\n",
    "\n",
    "\n",
    "\n",
    "data['NU_NOTA_TOTAL'].plot.hist(grid=True, bins=20, rwidth=0.9,\n",
    "                   color='#607c8e')\n",
    "plt.title('Nota média dos candidados do ENEM')\n",
    "plt.xlabel('Nota média')\n",
    "plt.ylabel('Candidados')\n",
    "plt.grid(axis='y', alpha=0.75)\n",
    "plt.show()\n"
   ]
  },
  {
   "cell_type": "markdown",
   "metadata": {},
   "source": [
    "# MLP"
   ]
  },
  {
   "cell_type": "code",
   "execution_count": 415,
   "metadata": {},
   "outputs": [],
   "source": [
    "from pandas.plotting import scatter_matrix\n",
    "from sklearn.utils import shuffle\n",
    "from sklearn.metrics import confusion_matrix, f1_score, roc_curve, roc_auc_score, classification_report\n",
    "\n",
    "from keras.models import Sequential\n",
    "from keras.utils import np_utils\n",
    "from keras.regularizers import l1_l2\n",
    "from keras.layers.core import Dense, Activation, Dropout\n",
    "from keras.callbacks import Callback, ModelCheckpoint, EarlyStopping\n",
    "from keras.wrappers.scikit_learn import KerasClassifier\n",
    "from sklearn.model_selection import train_test_split, GridSearchCV\n"
   ]
  },
  {
   "cell_type": "markdown",
   "metadata": {},
   "source": [
    "## Divisão do dataset"
   ]
  },
  {
   "cell_type": "markdown",
   "metadata": {},
   "source": [
    "A busca de hiperparâmetros será feita com o dataset de treinamento, que corresponde a 60% do total do conjunto. O k-fold cross validation com 5 folds utilizará apenas a parte destinada ao treinamento. Ao término da busca pelo hiperparâmetro, um novo classificador é construído e treinado utilizando o dataset de treinamento, 60% e o de validação que possui 15% do total de amostras. Finalmente é utilizado o dataset de testes para a obtenção do resultado final."
   ]
  },
  {
   "cell_type": "markdown",
   "metadata": {},
   "source": [
    "### Busca de hiperparâmetros\n",
    "Será feita uma busca pelos melhores hiperparâmetros para o modelo. A métrica escolhida será a acurácia.\n",
    "\n",
    "|Hiperparâmetro|Valores|\n",
    "|:------------:|:------:|\n",
    "|Neurônios|1, 5, 10, 15, 20, 25, 30, 50|\n",
    "|Dropout|0.05, 0.10, 0.15|\n",
    "\n",
    "#### Características do modelo\n",
    "\n",
    "|||\n",
    "|:-----:|:------:|\n",
    "|Otimizador|Adam|\n",
    "|Camadas escondidas|2|\n",
    "|Função de ativação, camdas escondidas|relu|\n",
    "|Função de ativação, camada de saída|sigmoid|\n",
    "|Função de custo|binary_crossentropy|\n",
    "|Inicialização dos pesos|uniform|\n",
    "\n",
    "\n"
   ]
  },
  {
   "cell_type": "code",
   "execution_count": 416,
   "metadata": {},
   "outputs": [
    {
     "name": "stdout",
     "output_type": "stream",
     "text": [
      "NU_IDADE float64\n",
      "Q005 float64\n"
     ]
    }
   ],
   "source": [
    "one_hot_cols = set(data.columns).intersection(one_hot_socio + one_hot_participante + one_hot_prova)\n",
    "input_cols_ = set(input_cols).intersection(data.columns)\n",
    "\n",
    "# Dataframe de entrada\n",
    "df_inp = pandas.get_dummies(data[input_cols_], \n",
    "                   columns=set(one_hot_cols).intersection(input_cols_)\n",
    "           ).replace({**encode_participante, **encode_socio})\n",
    "\n",
    "# Dataframe de saída\n",
    "df_out = data['NU_NOTA_TOTAL'].apply(encode_nota)\n",
    "\n",
    "df_inp_train, df_inp_test, df_out_train, df_out_test = \\\n",
    "    train_test_split(df_inp,df_out, test_size=0.25, random_state=1)\n",
    "\n",
    "df_inp_train, df_inp_val, df_out_train, df_out_val = \\\n",
    "    train_test_split(df_inp_train, df_out_train, test_size=0.20, random_state=1)\n",
    "\n",
    "for col in df_inp.columns:\n",
    "    if df_inp[col].dtype != 'uint8' and df_inp[col].dtype != 'int64':\n",
    "        print(col, df_inp[col].dtype)"
   ]
  },
  {
   "cell_type": "markdown",
   "metadata": {},
   "source": [
    "#### Desbalanceamento\n",
    "Após a codificação dos dados de saída, é possível observar o desbalanceamento das classes. A fim de minimizar os impactos\n",
    "negativos no processo de trinamento, os pesos de cada classe foram ajustados para que ambas impactem de forma similar.\n",
    "\n",
    "A classe \"1\", no caso a minoritária, terá seu peso alterado conforme a relação de desbalanceamento do dataset de testes."
   ]
  },
  {
   "cell_type": "code",
   "execution_count": 417,
   "metadata": {},
   "outputs": [
    {
     "name": "stdout",
     "output_type": "stream",
     "text": [
      "Participantes acima da média: 40538\n",
      "Participantes abaixo da média: 133186\n"
     ]
    },
    {
     "data": {
      "text/plain": [
       "{0: 1.0, 1: 3.2854605555281466}"
      ]
     },
     "execution_count": 417,
     "metadata": {},
     "output_type": "execute_result"
    }
   ],
   "source": [
    "print('Participantes acima da média: {}'.format(( df_out_train  == 1).sum()))\n",
    "print('Participantes abaixo da média: {}'.format(( df_out_train  == 0).sum()))\n",
    "class_weight = {0: 1., 1: (df_out_train == 0).sum()/(df_out_train == 1).sum()}\n",
    "class_weight"
   ]
  },
  {
   "cell_type": "code",
   "execution_count": 419,
   "metadata": {},
   "outputs": [],
   "source": [
    "def get_model(neurons=30, dropout=0.1):\n",
    "    model = Sequential()\n",
    "    kernel_initializer='uniform'\n",
    "    optimizer='adam'\n",
    "    \n",
    "    # Camada Entrada\n",
    "    model.add(Dense(neurons, input_dim=df_inp_train.shape[1], kernel_initializer=kernel_initializer))\n",
    "    model.add(Dropout(dropout))\n",
    "    model.add(Activation('relu'))\n",
    " \n",
    "    model.add(Dense(neurons, kernel_initializer=kernel_initializer))\n",
    "    model.add(Dropout(dropout))\n",
    "    model.add(Activation('relu'))\n",
    "  \n",
    "    # Camada Saída\n",
    "    model.add(Dense(output_dim=1, kernel_initializer=kernel_initializer))\n",
    "    model.add(Dropout(dropout))\n",
    "    model.add(Activation('sigmoid'))\n",
    "    model.compile(loss='binary_crossentropy', optimizer=optimizer,  metrics=['accuracy'])\n",
    "    return model"
   ]
  },
  {
   "cell_type": "code",
   "execution_count": null,
   "metadata": {},
   "outputs": [],
   "source": [
    "# create model \n",
    "keras_model = KerasClassifier(build_fn=get_model, epochs=50, batch_size=1000)\n",
    " \n",
    "# define the grid search parameters\n",
    "param_grid = {\n",
    "    'neurons':[1, 5, 10, 15, 20, 25, 30, 50],\n",
    "    'dropout':[0.1, 0.15, 0.25]\n",
    "}\n",
    "\n",
    "grid = GridSearchCV(estimator=keras_model, param_grid=param_grid, verbose=0, n_jobs=-1, cv=5, scoring='accuracy')\n",
    "\n",
    "grid_result = grid.fit(df_inp_train, df_out_train, class_weight=class_weight)\n"
   ]
  },
  {
   "cell_type": "markdown",
   "metadata": {},
   "source": [
    "#### Resultados da busca por hiperparâmetros\n",
    "\n",
    "O melhort conjunto para a busca, com k-fold cross validation de 5 folds apresentou acurácia de acurácia 0.701616.\n",
    "\n",
    "* Dropout 0.1\n",
    "* Neurônios por camada 20\n",
    "* Épocas 50\n",
    "* Batch 1000"
   ]
  },
  {
   "cell_type": "code",
   "execution_count": 421,
   "metadata": {},
   "outputs": [
    {
     "name": "stdout",
     "output_type": "stream",
     "text": [
      "Melhor: acurácia 0.743288 com {'dropout': 0.1, 'neurons': 20}\n",
      "\n",
      "\n",
      "0.539971 (0.252919) com: {'dropout': 0.1, 'neurons': 1}\n",
      "0.739973 (0.007482) com: {'dropout': 0.1, 'neurons': 5}\n",
      "0.741371 (0.003848) com: {'dropout': 0.1, 'neurons': 10}\n",
      "0.736346 (0.003711) com: {'dropout': 0.1, 'neurons': 15}\n",
      "0.743288 (0.004468) com: {'dropout': 0.1, 'neurons': 20}\n",
      "0.733739 (0.006019) com: {'dropout': 0.1, 'neurons': 25}\n",
      "0.741711 (0.008425) com: {'dropout': 0.1, 'neurons': 30}\n",
      "0.738067 (0.008815) com: {'dropout': 0.1, 'neurons': 50}\n",
      "0.659851 (0.214592) com: {'dropout': 0.15, 'neurons': 1}\n",
      "0.734786 (0.005542) com: {'dropout': 0.15, 'neurons': 5}\n",
      "0.736968 (0.008271) com: {'dropout': 0.15, 'neurons': 10}\n",
      "0.739788 (0.006885) com: {'dropout': 0.15, 'neurons': 15}\n",
      "0.739823 (0.007278) com: {'dropout': 0.15, 'neurons': 20}\n",
      "0.741095 (0.005768) com: {'dropout': 0.15, 'neurons': 25}\n",
      "0.735995 (0.011848) com: {'dropout': 0.15, 'neurons': 30}\n",
      "0.739149 (0.005028) com: {'dropout': 0.15, 'neurons': 50}\n",
      "0.663742 (0.215011) com: {'dropout': 0.25, 'neurons': 1}\n",
      "0.729554 (0.012983) com: {'dropout': 0.25, 'neurons': 5}\n",
      "0.734729 (0.008345) com: {'dropout': 0.25, 'neurons': 10}\n",
      "0.740019 (0.006366) com: {'dropout': 0.25, 'neurons': 15}\n",
      "0.735920 (0.007184) com: {'dropout': 0.25, 'neurons': 20}\n",
      "0.738344 (0.008610) com: {'dropout': 0.25, 'neurons': 25}\n",
      "0.743242 (0.003661) com: {'dropout': 0.25, 'neurons': 30}\n",
      "0.737912 (0.006806) com: {'dropout': 0.25, 'neurons': 50}\n"
     ]
    }
   ],
   "source": [
    "# summarize results\n",
    "print(\"Melhor: acurácia %f com %s\\n\\n\" % (grid_result.best_score_, grid_result.best_params_))\n",
    "means = grid_result.cv_results_['mean_test_score']\n",
    "stds = grid_result.cv_results_['std_test_score']\n",
    "params = grid_result.cv_results_['params']\n",
    "for mean, stdev, param in zip(means, stds, params):\n",
    "    print(\"%f (%f) com: %r\" % (mean, stdev, param))"
   ]
  },
  {
   "cell_type": "markdown",
   "metadata": {},
   "source": [
    "## Treinamento com Keras\n",
    "Uma vez selecionado o modelo de melhor performance, o modelo é treinado novamente, agora com o dataset completo. Será utilizada a técnica de parada prematura, em que os pesos correspondentes ao menor custo de validação serão utilizados."
   ]
  },
  {
   "cell_type": "code",
   "execution_count": 425,
   "metadata": {},
   "outputs": [],
   "source": [
    "keras_model = class_pred = grid.best_estimator_.model"
   ]
  },
  {
   "cell_type": "code",
   "execution_count": null,
   "metadata": {},
   "outputs": [],
   "source": [
    "callbacks = [\n",
    "    ModelCheckpoint('mlp-neurons', monitor='val_loss', save_best_only=True, verbose=1)\n",
    "]\n",
    "print(\"Training...\")\n",
    "history = keras_model.fit(df_inp_train, df_out_train, validation_data=(df_inp_val, df_out_val),\\\n",
    "    class_weight=class_weight, callbacks=callbacks, epochs=50, batch_size=1000, verbose=1, shuffle=True, use_multiprocessing=True)"
   ]
  },
  {
   "cell_type": "code",
   "execution_count": 427,
   "metadata": {},
   "outputs": [
    {
     "data": {
      "image/png": "[encoded data removed]",
      "text/plain": [
       "<Figure size 720x360 with 1 Axes>"
      ]
     },
     "metadata": {
      "needs_background": "light"
     },
     "output_type": "display_data"
    }
   ],
   "source": [
    "fig = plt.figure(figsize=(10,5))\n",
    "plt.grid(color='#919191', linestyle=':', linewidth=1)\n",
    "plt.plot(history.history['loss'], label='Custo de treinamento')\n",
    "plt.plot(history.history['val_loss'], label='Custo de validação')\n",
    "plt.grid(True)\n",
    "plt.legend()\n",
    "fig.savefig('mlp_history.png', dpi=600)\n",
    "plt.show()\n"
   ]
  },
  {
   "cell_type": "markdown",
   "metadata": {},
   "source": [
    "#### Parada prematura\n",
    "Os pesos utilizados são referentes à época 6, que apresentou menor valor para a função de custo no dataset de validação 0.52507.\n",
    "\n",
    "A acurácia para o dataset de treinamento foi 0.7415 enquanto para o dataset de validação 0.7301.\n",
    "\n"
   ]
  },
  {
   "cell_type": "code",
   "execution_count": 428,
   "metadata": {},
   "outputs": [
    {
     "name": "stdout",
     "output_type": "stream",
     "text": [
      "              precision    recall  f1-score   support\n",
      "\n",
      "           0       0.89      0.77      0.82     55483\n",
      "           1       0.48      0.70      0.57     16903\n",
      "\n",
      "    accuracy                           0.75     72386\n",
      "   macro avg       0.68      0.73      0.69     72386\n",
      "weighted avg       0.79      0.75      0.76     72386\n",
      "\n"
     ]
    }
   ],
   "source": [
    "keras_model.load_weights('mlp-neurons')\n",
    "class_pred = keras_model.predict_classes(df_inp_test)\n",
    "print(classification_report(df_out_test, class_pred))"
   ]
  },
  {
   "cell_type": "markdown",
   "metadata": {},
   "source": [
    "### Resultados"
   ]
  },
  {
   "cell_type": "markdown",
   "metadata": {},
   "source": [
    "O classificador obteve resultados satisfatórios em relação à classe $0$, que representa alunos com nota média abaixo de 600. A classe $1$, que representa alunos com nota acima de 600, não obteve resultados satisfatórios, principalmente se a precisão for a métrica principal a ser avaliada. \n",
    "\n",
    "O classificador, para o dataset de testes, apresentou:\n",
    "\n",
    "|              |precision  |  recall | f1-score |  amostras|\n",
    "|:------------:|:---------:|:-------:|:--------:|:--------:|\n",
    "|           0  |     0.89    |  0.77    |  0.82 |    55483|\n",
    "|           1  |     0.48    |  0.70    |  0.57 |    16903|\n",
    "|              |              |          |        |         |\n",
    "|    accuracy  |            |           |  0.75  |   72386|\n",
    "|   macro avg   |    0.68   |   0.73    |  0.69  |   72386|\n",
    "|weighted avg    |   0.79   |   0.75    |  0.76  |   72386|"
   ]
  },
  {
   "cell_type": "code",
   "execution_count": 430,
   "metadata": {},
   "outputs": [
    {
     "data": {
      "text/plain": [
       "(72386, 105)"
      ]
     },
     "execution_count": 430,
     "metadata": {},
     "output_type": "execute_result"
    }
   ],
   "source": [
    "df_inp_test.shape"
   ]
  },
  {
   "cell_type": "code",
   "execution_count": null,
   "metadata": {},
   "outputs": [],
   "source": []
  }
 ],
 "metadata": {
  "kernelspec": {
   "display_name": "Python 3",
   "language": "python",
   "name": "python3"
  },
  "language_info": {
   "codemirror_mode": {
    "name": "ipython",
    "version": 3
   },
   "file_extension": ".py",
   "mimetype": "text/x-python",
   "name": "python",
   "nbconvert_exporter": "python",
   "pygments_lexer": "ipython3",
   "version": "3.7.3"
  }
 },
 "nbformat": 4,
 "nbformat_minor": 2
}
