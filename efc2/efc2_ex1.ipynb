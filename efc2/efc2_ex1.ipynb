{
 "cells": [
  {
   "cell_type": "code",
   "execution_count": 1,
   "metadata": {
    "jupyter": {
     "outputs_hidden": false
    }
   },
   "outputs": [],
   "source": [
    "#----------------------------\n",
    "# import libraries\n",
    "#----------------------------\n",
    "import numpy as np\n",
    "import pandas as pd\n",
    "from matplotlib import pyplot as plt\n",
    "#import sklearn\n",
    "from sklearn.utils import shuffle\n",
    "from sklearn.preprocessing import StandardScaler\n",
    "from sklearn.metrics import confusion_matrix\n",
    "from sklearn.metrics import roc_curve\n",
    "from sklearn.metrics import f1_score\n",
    "from sklearn.metrics import accuracy_score"
   ]
  },
  {
   "cell_type": "code",
   "execution_count": 2,
   "metadata": {
    "jupyter": {
     "outputs_hidden": false
    }
   },
   "outputs": [],
   "source": [
    "def reserve_test_set(df, ratio):\n",
    "    # shuffle array\n",
    "    df = shuffle(df)\n",
    "    # calculate number of samples in test set\n",
    "    N = round( ratio * df.shape[0] )\n",
    "    # split dataframe\n",
    "    test_set = df.iloc[:N, :]\n",
    "    df = df.iloc[N:, :]\n",
    "    return test_set, df"
   ]
  },
  {
   "cell_type": "code",
   "execution_count": 3,
   "metadata": {},
   "outputs": [],
   "source": [
    "def logistic_function(x):\n",
    "    N = x.shape[0]\n",
    "    ŷ = np.zeros(shape=(N,1))\n",
    "    for i in range(N):\n",
    "        ŷ[i] = 1 / (1 + np.exp(x[i]))\n",
    "    return ŷ"
   ]
  },
  {
   "cell_type": "code",
   "execution_count": 4,
   "metadata": {},
   "outputs": [],
   "source": [
    "def iterate(x, y, N, phi, w, alpha):\n",
    "    # calculate estimated output\n",
    "    ŷ = logistic_function(- phi @ w)\n",
    "    # calculate gradient\n",
    "    error = y - ŷ\n",
    "    gradient = -1/N * (error.T @ phi)\n",
    "    # calculate RMSE\n",
    "    rmse = np.mean(error * error)\n",
    "    w = w - (alpha * gradient.T)\n",
    "    return w, rmse"
   ]
  },
  {
   "cell_type": "code",
   "execution_count": 5,
   "metadata": {},
   "outputs": [],
   "source": [
    "def train(x, y, alpha=1e-2, tolerance=1e-4):\n",
    "    # alpha: step size\n",
    "    # tolerance: stop criteria\n",
    "    #-----------------------------\n",
    "    # create weights array randomly\n",
    "    w = np.random.rand(x.shape[1]+1)\n",
    "    w = w.reshape(1,len(w)).T\n",
    "    # arrays initialization\n",
    "    N = x.shape[0]\n",
    "    phi = np.insert(x, 0, [1], axis=1)\n",
    "    e = []\n",
    "    #-----------------------------\n",
    "    # run algorithm first time\n",
    "    w, rmse = iterate(x, y, N, phi, w, alpha)\n",
    "    diff = rmse\n",
    "    e.append(rmse)\n",
    "    #-----------------------------\n",
    "    # iterate until convergence\n",
    "    while (diff > tolerance):\n",
    "        w, rmse = iterate(x, y, N, phi, w, alpha)\n",
    "        diff = e[-1] - rmse\n",
    "        e.append(rmse)\n",
    "    #-----------------------------        \n",
    "    return w, e"
   ]
  },
  {
   "cell_type": "code",
   "execution_count": 6,
   "metadata": {},
   "outputs": [],
   "source": [
    "def predict_class(y, threshold):\n",
    "    y_final = np.zeros(shape=(len(y),1))\n",
    "    for i in range(len(y)):\n",
    "        if (y[i] > threshold):\n",
    "            y_final[i] = 1\n",
    "        else:\n",
    "            y_final[i] = 0\n",
    "    return y_final"
   ]
  },
  {
   "cell_type": "code",
   "execution_count": null,
   "metadata": {},
   "outputs": [],
   "source": []
  },
  {
   "cell_type": "code",
   "execution_count": 7,
   "metadata": {
    "jupyter": {
     "outputs_hidden": false
    }
   },
   "outputs": [],
   "source": [
    "# path to save figures\n",
    "path = 'figures/ex1/'\n",
    "# read data\n",
    "df = pd.read_csv('dados_voz_genero.csv')\n",
    "# remove index column\n",
    "df = df.drop(df.columns[[0]], axis=1)\n",
    "# dataframe to numpy\n",
    "features = df.to_numpy()"
   ]
  },
  {
   "cell_type": "code",
   "execution_count": 8,
   "metadata": {},
   "outputs": [],
   "source": [
    "# split data according to the label\n",
    "df_male = df[df['label'] == 1]\n",
    "df_female = df[df['label'] == 0]"
   ]
  },
  {
   "cell_type": "code",
   "execution_count": 9,
   "metadata": {
    "jupyter": {
     "outputs_hidden": false
    }
   },
   "outputs": [],
   "source": [
    "ratio = 0.2\n",
    "# shuffle and reserve set for test\n",
    "df_test_female, df_female = reserve_test_set(df_female, ratio)\n",
    "df_test_male, df_male = reserve_test_set(df_male, ratio)"
   ]
  },
  {
   "cell_type": "code",
   "execution_count": 10,
   "metadata": {
    "jupyter": {
     "outputs_hidden": false
    }
   },
   "outputs": [],
   "source": [
    "# concatenate and shuffle test set\n",
    "df_test_set = [df_test_male, df_test_female]\n",
    "df_test_set = pd.concat(df_test_set)\n",
    "df_test_set = shuffle(df_test_set)"
   ]
  },
  {
   "cell_type": "code",
   "execution_count": 11,
   "metadata": {
    "jupyter": {
     "outputs_hidden": false
    }
   },
   "outputs": [],
   "source": [
    "# concatenate and shuffle test set\n",
    "df_train_set = [df_male, df_female]\n",
    "df_train_set = pd.concat(df_train_set)\n",
    "df_train_set = shuffle(df_train_set)"
   ]
  },
  {
   "cell_type": "code",
   "execution_count": 12,
   "metadata": {
    "jupyter": {
     "outputs_hidden": false
    }
   },
   "outputs": [],
   "source": [
    "# data standardization: x' = (x - u) / s\n",
    "scaler = StandardScaler()\n",
    "#-------------------\n",
    "# in training set\n",
    "#-------------------\n",
    "# remove column 'label' from x data\n",
    "df_train_set_x = df_train_set.drop('label', axis=1)\n",
    "# define column 'label' as output y\n",
    "df_train_set_y = df_train_set.loc[:,'label']\n",
    "# perform standardization with x data\n",
    "scaler.fit(df_train_set_x)\n",
    "train_set = scaler.transform(df_train_set_x)\n",
    "#-------------------\n",
    "# in test set\n",
    "#-------------------\n",
    "# remove column 'label' from x data\n",
    "df_test_set_x = df_test_set.drop('label', axis=1)\n",
    "# define column 'label' as output y\n",
    "df_test_set_y = df_test_set.loc[:,'label']\n",
    "# perform standardization with x data\n",
    "scaler.fit(df_test_set_x)\n",
    "test_set = scaler.transform(df_test_set_x)"
   ]
  },
  {
   "cell_type": "code",
   "execution_count": 13,
   "metadata": {},
   "outputs": [],
   "source": [
    "# prepare input and output of model for training set\n",
    "y = pd.DataFrame.to_numpy(df_train_set_y)\n",
    "y = y.reshape(len(y),1)\n",
    "x = train_set"
   ]
  },
  {
   "cell_type": "code",
   "execution_count": 14,
   "metadata": {},
   "outputs": [],
   "source": [
    "w, error = train(x, y, tolerance=1e-6)"
   ]
  },
  {
   "cell_type": "code",
   "execution_count": 15,
   "metadata": {},
   "outputs": [
    {
     "data": {
      "image/png": "[encoded data removed]",
      "text/plain": [
       "<Figure size 432x288 with 1 Axes>"
      ]
     },
     "metadata": {
      "needs_background": "light"
     },
     "output_type": "display_data"
    }
   ],
   "source": [
    "plt.plot(error)\n",
    "plt.xlabel('Epochs')\n",
    "plt.ylabel('Error')\n",
    "plt.grid(True)\n",
    "plt.autoscale(axis='x', tight=True)"
   ]
  },
  {
   "cell_type": "code",
   "execution_count": 16,
   "metadata": {},
   "outputs": [],
   "source": [
    "# prepare input and output of model for test set\n",
    "y = pd.DataFrame.to_numpy(df_test_set_y)\n",
    "y = y.reshape(len(y),1)\n",
    "x = test_set"
   ]
  },
  {
   "cell_type": "code",
   "execution_count": 17,
   "metadata": {},
   "outputs": [],
   "source": [
    "# form phi matrix\n",
    "phi = np.insert(x, 0, [1], axis=1)\n",
    "N = x.shape[0]\n",
    "# estimated output\n",
    "ŷ = logistic_function(- phi @ w)"
   ]
  },
  {
   "cell_type": "code",
   "execution_count": 18,
   "metadata": {},
   "outputs": [],
   "source": [
    "fpr, tpr, thresholds = roc_curve(y, ŷ)"
   ]
  },
  {
   "cell_type": "code",
   "execution_count": 19,
   "metadata": {},
   "outputs": [
    {
     "data": {
      "image/png": "[encoded data removed]",
      "text/plain": [
       "<Figure size 432x288 with 1 Axes>"
      ]
     },
     "metadata": {
      "needs_background": "light"
     },
     "output_type": "display_data"
    }
   ],
   "source": [
    "# plot curves\n",
    "lin = np.linspace(0,1,1001)\n",
    "plt.plot(fpr, tpr)\n",
    "plt.plot(lin, lin, 'r--')\n",
    "# labels\n",
    "from matplotlib import rc\n",
    "plt.xlabel('$p_e^-(ŷ(x))$')\n",
    "plt.ylabel('Recall(ŷ(x))')\n",
    "# title\n",
    "plt.title('ROC curve')\n",
    "# adjust plot\n",
    "plt.grid(True)\n",
    "plt.autoscale(axis='x', tight=True)\n",
    "plt.autoscale(axis='y', tight=True)\n",
    "plt.savefig(path + 'ROC', dpi=300)\n",
    "plt.show()"
   ]
  },
  {
   "cell_type": "code",
   "execution_count": 20,
   "metadata": {},
   "outputs": [
    {
     "name": "stderr",
     "output_type": "stream",
     "text": [
      "/usr/lib/python3.7/site-packages/sklearn/metrics/classification.py:1437: UndefinedMetricWarning: F-score is ill-defined and being set to 0.0 due to no predicted samples.\n",
      "  'precision', 'predicted', average, warn_for)\n"
     ]
    }
   ],
   "source": [
    "F_score = []\n",
    "threshold = np.linspace(0,1,1001)\n",
    "for i in threshold:\n",
    "    output = predict_class(ŷ, i)\n",
    "    F_score.append(f1_score(y, output))"
   ]
  },
  {
   "cell_type": "code",
   "execution_count": 21,
   "metadata": {},
   "outputs": [
    {
     "data": {
      "image/png": "[encoded data removed]",
      "text/plain": [
       "<Figure size 432x288 with 1 Axes>"
      ]
     },
     "metadata": {
      "needs_background": "light"
     },
     "output_type": "display_data"
    }
   ],
   "source": [
    "# plot curves\n",
    "plt.plot(threshold, F_score)\n",
    "# axis labels\n",
    "plt.xlabel('threshold')\n",
    "plt.ylabel('$F_1$')\n",
    "# title\n",
    "plt.title('$F_1$ score')\n",
    "# adjust plot\n",
    "plt.grid(True)\n",
    "plt.autoscale(axis='x', tight=True)\n",
    "plt.savefig(path + 'F1_score', dpi=300)\n",
    "plt.show()"
   ]
  },
  {
   "cell_type": "code",
   "execution_count": 22,
   "metadata": {},
   "outputs": [
    {
     "name": "stdout",
     "output_type": "stream",
     "text": [
      "threshold for maximum F1 score = 0.745\n",
      "F1 score max = 0.9841772151898733\n"
     ]
    }
   ],
   "source": [
    "index = F_score.index(max(F_score))\n",
    "print('threshold for maximum F1 score =', threshold[index])\n",
    "print('F1 score max =', F_score[index])"
   ]
  },
  {
   "cell_type": "code",
   "execution_count": 23,
   "metadata": {},
   "outputs": [
    {
     "data": {
      "text/plain": [
       "array([[313,   4],\n",
       "       [  6, 311]])"
      ]
     },
     "execution_count": 23,
     "metadata": {},
     "output_type": "execute_result"
    }
   ],
   "source": [
    "ŷ_final = predict_class(ŷ, threshold[index])\n",
    "confusion_matrix(y, ŷ_final)"
   ]
  },
  {
   "cell_type": "code",
   "execution_count": 24,
   "metadata": {},
   "outputs": [
    {
     "data": {
      "image/png": "[encoded data removed]",
      "text/plain": [
       "<Figure size 432x288 with 1 Axes>"
      ]
     },
     "metadata": {
      "needs_background": "light"
     },
     "output_type": "display_data"
    }
   ],
   "source": [
    "# plots\n",
    "plt.plot(threshold[max(0,index-100):min(len(F_score)-1,index+100)], F_score[max(0,index-100):min(len(F_score)-1,index+100)])\n",
    "# axis label\n",
    "plt.xlabel('threshold')\n",
    "plt.ylabel('$F_1$ score')\n",
    "# axis adjust\n",
    "plt.autoscale(axis='x', tight=True)\n",
    "# title\n",
    "plt.title('$F_1$ score (zoom)')\n",
    "# add grid\n",
    "plt.grid(True)\n",
    "plt.savefig(path + 'F1_score_zoom', dpi=300)\n",
    "plt.show()"
   ]
  },
  {
   "cell_type": "code",
   "execution_count": 25,
   "metadata": {},
   "outputs": [
    {
     "data": {
      "text/plain": [
       "0.9842271293375394"
      ]
     },
     "execution_count": 25,
     "metadata": {},
     "output_type": "execute_result"
    }
   ],
   "source": [
    "accuracy_score(y, ŷ_final)"
   ]
  }
 ],
 "metadata": {
  "kernelspec": {
   "display_name": "Python 3",
   "language": "python",
   "name": "python3"
  },
  "language_info": {
   "codemirror_mode": {
    "name": "ipython",
    "version": 3
   },
   "file_extension": ".py",
   "mimetype": "text/x-python",
   "name": "python",
   "nbconvert_exporter": "python",
   "pygments_lexer": "ipython3",
   "version": "3.7.4"
  }
 },
 "nbformat": 4,
 "nbformat_minor": 4
}
