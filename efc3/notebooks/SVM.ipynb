{
 "cells": [
  {
   "cell_type": "markdown",
   "metadata": {},
   "source": [
    "# Import libraries"
   ]
  },
  {
   "cell_type": "code",
   "execution_count": 11,
   "metadata": {
    "collapsed": false,
    "jupyter": {
     "outputs_hidden": false
    }
   },
   "outputs": [],
   "source": [
    "#----------------------------\n",
    "# import libraries\n",
    "#----------------------------\n",
    "import numpy as np\n",
    "import pandas as pd\n",
    "import scipy.io as sio\n",
    "from matplotlib import pyplot as plt\n",
    "#----------------------------\n",
    "# scikit-learn\n",
    "#----------------------------\n",
    "# preprocessing\n",
    "from sklearn.preprocessing import StandardScaler\n",
    "from sklearn.preprocessing import OneHotEncoder\n",
    "# svm\n",
    "from sklearn.svm import SVC\n",
    "# metrics\n",
    "from sklearn.metrics import confusion_matrix\n",
    "from sklearn.metrics import f1_score\n",
    "from sklearn.metrics import accuracy_score\n",
    "from sklearn.metrics import zero_one_loss\n",
    "from sklearn.metrics import log_loss\n",
    "from sklearn.metrics import roc_curve\n",
    "from sklearn.metrics import roc_auc_score"
   ]
  },
  {
   "cell_type": "code",
   "execution_count": 12,
   "metadata": {},
   "outputs": [],
   "source": [
    "#use numpy fixed point notation\n",
    "np.set_printoptions(suppress=True)\n",
    "#----------------------------\n",
    "# disable convergence warning\n",
    "from sklearn.utils.testing import ignore_warnings\n",
    "from sklearn.exceptions import ConvergenceWarning\n",
    "#----------------------------\n",
    "# path to save figures\n",
    "path = '../figures/svm/'"
   ]
  },
  {
   "cell_type": "markdown",
   "metadata": {},
   "source": [
    "# Reading the dataset (.mat file)"
   ]
  },
  {
   "cell_type": "code",
   "execution_count": 13,
   "metadata": {},
   "outputs": [],
   "source": [
    "from os.path import abspath, join\n",
    "# get the root dir ('current_dir/..')\n",
    "root_dir = abspath('..')\n",
    "dataset_dir = join(root_dir, 'dataset')"
   ]
  },
  {
   "cell_type": "code",
   "execution_count": 14,
   "metadata": {},
   "outputs": [],
   "source": [
    "# set dataset files path\n",
    "training_file = join(dataset_dir, 'dados_treinamento.mat')\n",
    "validation_file = join(dataset_dir, 'dados_val.mat')\n",
    "test_file = join(dataset_dir, 'dados_teste.mat')"
   ]
  },
  {
   "cell_type": "code",
   "execution_count": 15,
   "metadata": {},
   "outputs": [],
   "source": [
    "# read mat files\n",
    "training = sio.loadmat(training_file)\n",
    "validation = sio.loadmat(validation_file)\n",
    "test = sio.loadmat(test_file)"
   ]
  },
  {
   "cell_type": "markdown",
   "metadata": {},
   "source": [
    "## Training, validation and test sets"
   ]
  },
  {
   "cell_type": "code",
   "execution_count": 16,
   "metadata": {},
   "outputs": [],
   "source": [
    "# training set\n",
    "X_raw = training['X']\n",
    "y_raw = training['y']\n",
    "y = y_raw.flatten()\n",
    "#----------------------------\n",
    "# validation set\n",
    "Xval_raw = validation['Xval']\n",
    "yval_raw = validation['yval']\n",
    "yval = yval_raw.flatten()\n",
    "#----------------------------\n",
    "# test set\n",
    "Xt_raw = test['Xt']\n",
    "yt_raw = test['yt']\n",
    "yt = yt_raw.flatten()"
   ]
  },
  {
   "cell_type": "markdown",
   "metadata": {},
   "source": [
    "# Preprocessing the data"
   ]
  },
  {
   "cell_type": "code",
   "execution_count": 17,
   "metadata": {},
   "outputs": [],
   "source": [
    "# data standardization: x' = (x - u) / s\n",
    "scaler = StandardScaler()\n",
    "# fit only on training + validation set\n",
    "scaler.fit(X_raw + Xval_raw)\n",
    "# perform standardization with x data\n",
    "X = scaler.transform(X_raw)\n",
    "Xval = scaler.transform(Xval_raw)\n",
    "# apply same transformation to test data\n",
    "Xt = scaler.transform(Xt_raw)"
   ]
  },
  {
   "cell_type": "markdown",
   "metadata": {},
   "source": [
    "## Adjusting labels to 0 or 1"
   ]
  },
  {
   "cell_type": "code",
   "execution_count": 18,
   "metadata": {},
   "outputs": [],
   "source": [
    "y = (y + 1) / 2\n",
    "yval = (yval + 1) / 2\n",
    "yt = (yt + 1) / 2"
   ]
  },
  {
   "cell_type": "markdown",
   "metadata": {},
   "source": [
    "# Data Visualization"
   ]
  },
  {
   "cell_type": "markdown",
   "metadata": {},
   "source": [
    "## Plotting the result of classification"
   ]
  },
  {
   "cell_type": "code",
   "execution_count": 19,
   "metadata": {},
   "outputs": [],
   "source": [
    "def plot_data(X, y, alpha=1):\n",
    "    # prepare date\n",
    "    x1 = X[:,0]\n",
    "    x2 = X[:,1]\n",
    "    y = y.flatten()\n",
    "    # create dataframe\n",
    "    df = pd.DataFrame(data={'x1': x1, 'x2': x2, 'label': y})\n",
    "    # dataframe of positive and negative class\n",
    "    PC = df.loc[df['label'] == 1]\n",
    "    NC = df.loc[df['label'] == 0]\n",
    "    # plot points\n",
    "    #plt.cla() # clear axis\n",
    "    #plt.clf() # clear figure\n",
    "    #ax = PC.plot(kind='scatter', x='x1', y='x2', color='blue', marker='.')\n",
    "    #NC.plot(ax=ax, grid=True, kind='scatter', x='x1', y='x2', color='red', marker='.')\n",
    "    ax1 = PC.plot(kind='scatter', x='x1', y='x2', alpha=alpha, color='blue', marker='.')\n",
    "    ax2 = NC.plot(ax=ax1, grid=True, kind='scatter', x='x1', y='x2', alpha=alpha, color='red', marker='.')\n",
    "    return ax2"
   ]
  },
  {
   "cell_type": "code",
   "execution_count": 111,
   "metadata": {},
   "outputs": [
    {
     "data": {
      "text/plain": [
       "<matplotlib.axes._subplots.AxesSubplot at 0x7fd21b4dfd90>"
      ]
     },
     "execution_count": 111,
     "metadata": {},
     "output_type": "execute_result"
    },
    {
     "data": {
      "image/png": "[encoded data removed]",
      "text/plain": [
       "<Figure size 432x288 with 1 Axes>"
      ]
     },
     "metadata": {
      "needs_background": "light"
     },
     "output_type": "display_data"
    }
   ],
   "source": [
    "plot_data(X_raw, y)"
   ]
  },
  {
   "cell_type": "markdown",
   "metadata": {},
   "source": [
    "## Plotting the decision regions"
   ]
  },
  {
   "cell_type": "code",
   "execution_count": 163,
   "metadata": {},
   "outputs": [
    {
     "ename": "SyntaxError",
     "evalue": "positional argument follows keyword argument (<ipython-input-163-05b97d2454c6>, line 30)",
     "output_type": "error",
     "traceback": [
      "\u001b[0;36m  File \u001b[0;32m\"<ipython-input-163-05b97d2454c6>\"\u001b[0;36m, line \u001b[0;32m30\u001b[0m\n\u001b[0;31m    plt.plot(ax=asd, 1, 2, 'o')\u001b[0m\n\u001b[0m                    ^\u001b[0m\n\u001b[0;31mSyntaxError\u001b[0m\u001b[0;31m:\u001b[0m positional argument follows keyword argument\n"
     ]
    }
   ],
   "source": [
    "def plot_decision_regions(X, model):\n",
    "    # split X in x1 and x2\n",
    "    x1 = X[:, 0]\n",
    "    x2 = X[:, 1]\n",
    "    # define grid limits for x1 and x2\n",
    "    x1_min = x1.min() - 0.25\n",
    "    x1_max = x1.max() + 0.25\n",
    "    x2_min = x2.min() - 0.25\n",
    "    x2_max = x2.max() + 0.25\n",
    "    #----------------------------\n",
    "    # create grid\n",
    "    #steps = 4096\n",
    "    step = 0.01\n",
    "    #x1_span = np.linspace(x1_min, x1_max, steps)\n",
    "    #x2_span = np.linspace(x2_min, x2_max, steps)\n",
    "    #xx1, xx2 = np.meshgrid(x1_span, x2_span)\n",
    "    x1_span = np.arange(x1_min, x1_max, step)\n",
    "    x2_span = np.arange(x2_min, x2_max, step)\n",
    "    xx1, xx2 = np.meshgrid(x1_span, x2_span)\n",
    "    # convert to 1-D array and concatenate them\n",
    "    xx1_f = xx1.flatten()\n",
    "    xx2_f = xx2.flatten()\n",
    "    points = np.c_[xx1_f, xx2_f]\n",
    "    #----------------------------\n",
    "    # plot decision regions\n",
    "    y = model.predict(points)\n",
    "    y = y.reshape(xx1.shape)\n",
    "    ax = plt.contourf(xx1, xx2, y, cmap=plt.cm.Spectral)\n",
    "    return ax"
   ]
  },
  {
   "cell_type": "markdown",
   "metadata": {},
   "source": [
    "## Draw a circle around the support vectors"
   ]
  },
  {
   "cell_type": "code",
   "execution_count": 133,
   "metadata": {},
   "outputs": [],
   "source": [
    "def circle_sv(X, y, model):\n",
    "    sv_t = model.support_vectors_\n",
    "    sv = scaler.inverse_transform(sv_t)\n",
    "    ax = plot_data(X, y, alpha=0.3)\n",
    "    for i in sv_t:\n",
    "        circle = plt.Circle(i, 0.05, color='black', fill=False, alpha=0.5)\n",
    "        ax.add_artist(circle)\n",
    "    return ax"
   ]
  },
  {
   "cell_type": "markdown",
   "metadata": {},
   "source": [
    "## Find support vectors"
   ]
  },
  {
   "cell_type": "code",
   "execution_count": 178,
   "metadata": {},
   "outputs": [],
   "source": [
    "def find_sv(X, y, model):\n",
    "    sv_t = model.support_vectors_\n",
    "    sv = scaler.inverse_transform(sv_t)\n",
    "    ax = plot_data(X, y, alpha=0.5)\n",
    "    plt.scatter(sv_t[:,0], sv_t[:,1], marker='.', color='black', alpha=1)\n",
    "    return ax"
   ]
  },
  {
   "cell_type": "markdown",
   "metadata": {},
   "source": [
    "# Support Vector Machine"
   ]
  },
  {
   "cell_type": "markdown",
   "metadata": {},
   "source": [
    "## RBF kernel"
   ]
  },
  {
   "cell_type": "code",
   "execution_count": 92,
   "metadata": {},
   "outputs": [],
   "source": [
    "rbf_svc = SVC(\n",
    "    C = 1,\n",
    "    kernel='rbf',\n",
    "    gamma = 'scale',\n",
    "    tol = 1e-4,\n",
    "    #random_state = 42,\n",
    "    #verbose=True,\n",
    ")"
   ]
  },
  {
   "cell_type": "markdown",
   "metadata": {},
   "source": [
    "## Linear kernel"
   ]
  },
  {
   "cell_type": "code",
   "execution_count": 83,
   "metadata": {},
   "outputs": [],
   "source": [
    "linear_svc = SVC(\n",
    "    C = 1,\n",
    "    kernel='linear',\n",
    "    gamma = 'scale',\n",
    "    tol = 1e-4,\n",
    "    #random_state = 42,\n",
    "    #verbose=True,\n",
    ")"
   ]
  },
  {
   "cell_type": "markdown",
   "metadata": {},
   "source": [
    "## Polynomial kernel"
   ]
  },
  {
   "cell_type": "code",
   "execution_count": 84,
   "metadata": {},
   "outputs": [],
   "source": [
    "poly_svc = SVC(\n",
    "    C = 1,\n",
    "    kernel='poly',\n",
    "    gamma = 'scale',\n",
    "    tol = 1e-4,\n",
    "    #random_state = 42,\n",
    "    #verbose=True,\n",
    ")"
   ]
  },
  {
   "cell_type": "markdown",
   "metadata": {},
   "source": [
    "## Sigmoid kernel"
   ]
  },
  {
   "cell_type": "code",
   "execution_count": 85,
   "metadata": {},
   "outputs": [],
   "source": [
    "sigmoid_svc = SVC(\n",
    "    C = 1,\n",
    "    kernel='sigmoid',\n",
    "    gamma = 'scale',\n",
    "    tol = 1e-4,\n",
    "    #random_state = 42,\n",
    "    #verbose=True,\n",
    ")"
   ]
  },
  {
   "cell_type": "markdown",
   "metadata": {},
   "source": [
    "# Finding hyperparameter C with cross-validation"
   ]
  },
  {
   "cell_type": "code",
   "execution_count": 89,
   "metadata": {},
   "outputs": [],
   "source": [
    "def find_C(X, y, Xval, yval, model):\n",
    "    # initialization\n",
    "    parameters = model.get_params()\n",
    "    values = np.linspace(0.1, 10, 100)\n",
    "    best_C = 0.1\n",
    "    best_score = 0\n",
    "    # start sweeping C\n",
    "    for C in values:\n",
    "        parameters['C'] = C\n",
    "        svm = SVC(**parameters)\n",
    "        svm.fit(X, y)\n",
    "        # cross-validation\n",
    "        score = svm.score(Xval, yval)\n",
    "        if (score > best_score):\n",
    "            best_score = score\n",
    "            best_C = C\n",
    "    return best_C"
   ]
  },
  {
   "cell_type": "code",
   "execution_count": 185,
   "metadata": {},
   "outputs": [
    {
     "name": "stdout",
     "output_type": "stream",
     "text": [
      "'C' optimum = 8.3\n"
     ]
    }
   ],
   "source": [
    "best_C = find_C(X, y, Xval, yval, rbf_svc)\n",
    "print('\\'C\\' optimum =', best_C)"
   ]
  },
  {
   "cell_type": "code",
   "execution_count": 109,
   "metadata": {},
   "outputs": [
    {
     "data": {
      "image/png": "[encoded data removed]",
      "text/plain": [
       "<Figure size 432x288 with 1 Axes>"
      ]
     },
     "metadata": {
      "needs_background": "light"
     },
     "output_type": "display_data"
    }
   ],
   "source": [
    "# adjust parameters\n",
    "parameters = rbf_svc.get_params()\n",
    "parameters['C'] = best_C\n",
    "svm = SVC(**parameters)\n",
    "#----------------------------\n",
    "# joint training and validation sets\n",
    "training_X = np.append(X, Xval, axis=0)\n",
    "training_y = np.append(y, yval, axis=0)\n",
    "#----------------------------\n",
    "# fit model\n",
    "svm.fit(training_X, training_y)\n",
    "plot_decision_regions(X, svm)\n",
    "plt.savefig(path + 'decision_region.png', dpi=300)"
   ]
  },
  {
   "cell_type": "markdown",
   "metadata": {},
   "source": [
    "# Showing support vectors"
   ]
  },
  {
   "cell_type": "code",
   "execution_count": 180,
   "metadata": {},
   "outputs": [
    {
     "data": {
      "text/plain": [
       "<matplotlib.axes._subplots.AxesSubplot at 0x7fd217e70e50>"
      ]
     },
     "execution_count": 180,
     "metadata": {},
     "output_type": "execute_result"
    },
    {
     "data": {
      "image/png": "[encoded data removed]",
      "text/plain": [
       "<Figure size 432x288 with 1 Axes>"
      ]
     },
     "metadata": {
      "needs_background": "light"
     },
     "output_type": "display_data"
    }
   ],
   "source": [
    "find_sv(X, y, svm)"
   ]
  },
  {
   "cell_type": "markdown",
   "metadata": {},
   "source": [
    "# Score in test set"
   ]
  },
  {
   "cell_type": "code",
   "execution_count": 182,
   "metadata": {},
   "outputs": [
    {
     "name": "stdout",
     "output_type": "stream",
     "text": [
      "Score = 0.877\n"
     ]
    }
   ],
   "source": [
    "print('Score =', svm.score(Xt, yt))"
   ]
  },
  {
   "cell_type": "markdown",
   "metadata": {},
   "source": [
    "# Exploring different values of C"
   ]
  },
  {
   "cell_type": "markdown",
   "metadata": {},
   "source": [
    "## C = 0.1"
   ]
  },
  {
   "cell_type": "code",
   "execution_count": 196,
   "metadata": {},
   "outputs": [
    {
     "data": {
      "image/png": "[encoded data removed]",
      "text/plain": [
       "<Figure size 432x288 with 1 Axes>"
      ]
     },
     "metadata": {
      "needs_background": "light"
     },
     "output_type": "display_data"
    }
   ],
   "source": [
    "# adjust parameters\n",
    "parameters = rbf_svc.get_params()\n",
    "parameters['C'] = 0.1\n",
    "svm = SVC(**parameters)\n",
    "#----------------------------\n",
    "# fit model\n",
    "svm.fit(training_X, training_y)\n",
    "plot_decision_regions(X, svm)\n",
    "plt.savefig(path + 'decision_region_C_0d1.png', dpi=300)"
   ]
  },
  {
   "cell_type": "code",
   "execution_count": 197,
   "metadata": {},
   "outputs": [
    {
     "name": "stdout",
     "output_type": "stream",
     "text": [
      "Score = 0.761\n"
     ]
    }
   ],
   "source": [
    "print('Score =', svm.score(Xt, yt))"
   ]
  },
  {
   "cell_type": "markdown",
   "metadata": {},
   "source": [
    "## C = 1.0"
   ]
  },
  {
   "cell_type": "code",
   "execution_count": 198,
   "metadata": {},
   "outputs": [
    {
     "data": {
      "image/png": "[encoded data removed]",
      "text/plain": [
       "<Figure size 432x288 with 1 Axes>"
      ]
     },
     "metadata": {
      "needs_background": "light"
     },
     "output_type": "display_data"
    }
   ],
   "source": [
    "# adjust parameters\n",
    "parameters = rbf_svc.get_params()\n",
    "parameters['C'] = 1.0\n",
    "svm = SVC(**parameters)\n",
    "#----------------------------\n",
    "# fit model\n",
    "svm.fit(training_X, training_y)\n",
    "plot_decision_regions(X, svm)\n",
    "plt.savefig(path + 'decision_region_C_1.png', dpi=300)"
   ]
  },
  {
   "cell_type": "code",
   "execution_count": 199,
   "metadata": {},
   "outputs": [
    {
     "name": "stdout",
     "output_type": "stream",
     "text": [
      "Score = 0.877\n"
     ]
    }
   ],
   "source": [
    "print('Score =', svm.score(Xt, yt))"
   ]
  },
  {
   "cell_type": "markdown",
   "metadata": {},
   "source": [
    "## C = 20"
   ]
  },
  {
   "cell_type": "code",
   "execution_count": 200,
   "metadata": {},
   "outputs": [
    {
     "data": {
      "image/png": "[encoded data removed]",
      "text/plain": [
       "<Figure size 432x288 with 1 Axes>"
      ]
     },
     "metadata": {
      "needs_background": "light"
     },
     "output_type": "display_data"
    }
   ],
   "source": [
    "# adjust parameters\n",
    "parameters = rbf_svc.get_params()\n",
    "parameters['C'] = 20.0\n",
    "svm = SVC(**parameters)\n",
    "#----------------------------\n",
    "# fit model\n",
    "svm.fit(training_X, training_y)\n",
    "plot_decision_regions(X, svm)\n",
    "plt.savefig(path + 'decision_region_C_20.png', dpi=300)"
   ]
  },
  {
   "cell_type": "code",
   "execution_count": 201,
   "metadata": {},
   "outputs": [
    {
     "name": "stdout",
     "output_type": "stream",
     "text": [
      "Score = 0.878\n"
     ]
    }
   ],
   "source": [
    "print('Score =', svm.score(Xt, yt))"
   ]
  },
  {
   "cell_type": "markdown",
   "metadata": {},
   "source": [
    "## C = 1000"
   ]
  },
  {
   "cell_type": "code",
   "execution_count": 214,
   "metadata": {},
   "outputs": [
    {
     "data": {
      "image/png": "[encoded data removed]",
      "text/plain": [
       "<Figure size 432x288 with 1 Axes>"
      ]
     },
     "metadata": {
      "needs_background": "light"
     },
     "output_type": "display_data"
    }
   ],
   "source": [
    "# adjust parameters\n",
    "parameters = rbf_svc.get_params()\n",
    "parameters['C'] = 1000.0\n",
    "svm = SVC(**parameters)\n",
    "#----------------------------\n",
    "# fit model\n",
    "svm.fit(training_X, training_y)\n",
    "plot_decision_regions(X, svm)\n",
    "plt.savefig(path + 'decision_region_C_1000.png', dpi=300)"
   ]
  },
  {
   "cell_type": "code",
   "execution_count": 215,
   "metadata": {},
   "outputs": [
    {
     "name": "stdout",
     "output_type": "stream",
     "text": [
      "Score = 0.88\n"
     ]
    }
   ],
   "source": [
    "print('Score =', svm.score(Xt, yt))"
   ]
  },
  {
   "cell_type": "markdown",
   "metadata": {},
   "source": [
    "# Exploring different gamma"
   ]
  },
  {
   "cell_type": "markdown",
   "metadata": {},
   "source": [
    "## gamma = 0.1"
   ]
  },
  {
   "cell_type": "code",
   "execution_count": 225,
   "metadata": {},
   "outputs": [
    {
     "data": {
      "image/png": "[encoded data removed]",
      "text/plain": [
       "<Figure size 432x288 with 1 Axes>"
      ]
     },
     "metadata": {
      "needs_background": "light"
     },
     "output_type": "display_data"
    }
   ],
   "source": [
    "# adjust parameters\n",
    "parameters = rbf_svc.get_params()\n",
    "parameters['C'] = best_C\n",
    "parameters['gamma'] = 0.1\n",
    "svm = SVC(**parameters)\n",
    "#----------------------------\n",
    "# fit model\n",
    "svm.fit(training_X, training_y)\n",
    "plot_decision_regions(X, svm)\n",
    "plt.savefig(path + 'decision_region_gamma_0d1.png', dpi=300)"
   ]
  },
  {
   "cell_type": "code",
   "execution_count": 226,
   "metadata": {},
   "outputs": [
    {
     "name": "stdout",
     "output_type": "stream",
     "text": [
      "Score = 0.718\n"
     ]
    }
   ],
   "source": [
    "print('Score =', svm.score(Xt, yt))"
   ]
  },
  {
   "cell_type": "markdown",
   "metadata": {},
   "source": [
    "## gamma = 1.0"
   ]
  },
  {
   "cell_type": "code",
   "execution_count": 227,
   "metadata": {},
   "outputs": [
    {
     "data": {
      "image/png": "[encoded data removed]",
      "text/plain": [
       "<Figure size 432x288 with 1 Axes>"
      ]
     },
     "metadata": {
      "needs_background": "light"
     },
     "output_type": "display_data"
    }
   ],
   "source": [
    "# adjust parameters\n",
    "parameters = rbf_svc.get_params()\n",
    "parameters['C'] = best_C\n",
    "parameters['gamma'] = 1.0\n",
    "svm = SVC(**parameters)\n",
    "#----------------------------\n",
    "# fit model\n",
    "svm.fit(training_X, training_y)\n",
    "plot_decision_regions(X, svm)\n",
    "plt.savefig(path + 'decision_region_gamma_1.png', dpi=300)"
   ]
  },
  {
   "cell_type": "code",
   "execution_count": 228,
   "metadata": {},
   "outputs": [
    {
     "name": "stdout",
     "output_type": "stream",
     "text": [
      "Score = 0.878\n"
     ]
    }
   ],
   "source": [
    "print('Score =', svm.score(Xt, yt))"
   ]
  },
  {
   "cell_type": "markdown",
   "metadata": {},
   "source": [
    "## gamma = 10"
   ]
  },
  {
   "cell_type": "code",
   "execution_count": 229,
   "metadata": {},
   "outputs": [
    {
     "data": {
      "image/png": "[encoded data removed]",
      "text/plain": [
       "<Figure size 432x288 with 1 Axes>"
      ]
     },
     "metadata": {
      "needs_background": "light"
     },
     "output_type": "display_data"
    }
   ],
   "source": [
    "# adjust parameters\n",
    "parameters = rbf_svc.get_params()\n",
    "parameters['C'] = best_C\n",
    "parameters['gamma'] = 10.0\n",
    "svm = SVC(**parameters)\n",
    "#----------------------------\n",
    "# fit model\n",
    "svm.fit(training_X, training_y)\n",
    "plot_decision_regions(X, svm)\n",
    "plt.savefig(path + 'decision_region_gamma_10.png', dpi=300)"
   ]
  },
  {
   "cell_type": "code",
   "execution_count": 230,
   "metadata": {},
   "outputs": [
    {
     "name": "stdout",
     "output_type": "stream",
     "text": [
      "Score = 0.879\n"
     ]
    }
   ],
   "source": [
    "print('Score =', svm.score(Xt, yt))"
   ]
  },
  {
   "cell_type": "markdown",
   "metadata": {},
   "source": [
    "# Exploring different kernels"
   ]
  },
  {
   "cell_type": "markdown",
   "metadata": {},
   "source": [
    "... to be done ..."
   ]
  }
 ],
 "metadata": {
  "kernelspec": {
   "display_name": "Python 3",
   "language": "python",
   "name": "python3"
  },
  "language_info": {
   "codemirror_mode": {
    "name": "ipython",
    "version": 3
   },
   "file_extension": ".py",
   "mimetype": "text/x-python",
   "name": "python",
   "nbconvert_exporter": "python",
   "pygments_lexer": "ipython3",
   "version": "3.7.4"
  }
 },
 "nbformat": 4,
 "nbformat_minor": 4
}
